{
 "cells": [
  {
   "cell_type": "code",
   "execution_count": 1,
   "metadata": {},
   "outputs": [],
   "source": [
    "#imports\n",
    "import pandas as pd\n",
    "import numpy as np\n",
    "from sklearn.model_selection import train_test_split, GridSearchCV, cross_val_score\n",
    "from sklearn.linear_model import LogisticRegression\n",
    "from sklearn.preprocessing import StandardScaler, OneHotEncoder\n",
    "from sklearn.impute import SimpleImputer\n",
    "from sklearn.tree import DecisionTreeClassifier\n",
    "from sklearn.ensemble import RandomForestClassifier\n",
    "from sklearn.metrics import accuracy_score\n",
    "from sklearn.pipeline import Pipeline, make_pipeline\n",
    "from sklearn.compose import make_column_selector, make_column_transformer\n",
    "import matplotlib.pyplot as plt\n",
    "import seaborn as sns\n",
    "from imblearn import under_sampling, over_sampling\n",
    "from imblearn.over_sampling import SMOTE"
   ]
  },
  {
   "cell_type": "code",
   "execution_count": 2,
   "metadata": {},
   "outputs": [
    {
     "data": {
      "text/html": [
       "<div>\n",
       "<style scoped>\n",
       "    .dataframe tbody tr th:only-of-type {\n",
       "        vertical-align: middle;\n",
       "    }\n",
       "\n",
       "    .dataframe tbody tr th {\n",
       "        vertical-align: top;\n",
       "    }\n",
       "\n",
       "    .dataframe thead th {\n",
       "        text-align: right;\n",
       "    }\n",
       "</style>\n",
       "<table border=\"1\" class=\"dataframe\">\n",
       "  <thead>\n",
       "    <tr style=\"text-align: right;\">\n",
       "      <th></th>\n",
       "      <th>Player Name</th>\n",
       "      <th>Rounds</th>\n",
       "      <th>Fairway Percentage</th>\n",
       "      <th>Year</th>\n",
       "      <th>Avg Distance</th>\n",
       "      <th>gir</th>\n",
       "      <th>Average Putts</th>\n",
       "      <th>Average Scrambling</th>\n",
       "      <th>Average Score</th>\n",
       "      <th>Points</th>\n",
       "      <th>Wins</th>\n",
       "      <th>Top 10</th>\n",
       "      <th>Average SG Putts</th>\n",
       "      <th>Average SG Total</th>\n",
       "      <th>SG:OTT</th>\n",
       "      <th>SG:APR</th>\n",
       "      <th>SG:ARG</th>\n",
       "      <th>Money</th>\n",
       "    </tr>\n",
       "  </thead>\n",
       "  <tbody>\n",
       "    <tr>\n",
       "      <th>0</th>\n",
       "      <td>Henrik Stenson</td>\n",
       "      <td>60.0</td>\n",
       "      <td>75.19</td>\n",
       "      <td>2018</td>\n",
       "      <td>291.5</td>\n",
       "      <td>73.51</td>\n",
       "      <td>29.93</td>\n",
       "      <td>60.67</td>\n",
       "      <td>69.617</td>\n",
       "      <td>868</td>\n",
       "      <td>NaN</td>\n",
       "      <td>5.0</td>\n",
       "      <td>-0.207</td>\n",
       "      <td>1.153</td>\n",
       "      <td>0.427</td>\n",
       "      <td>0.960</td>\n",
       "      <td>-0.027</td>\n",
       "      <td>$2,680,487</td>\n",
       "    </tr>\n",
       "    <tr>\n",
       "      <th>1</th>\n",
       "      <td>Ryan Armour</td>\n",
       "      <td>109.0</td>\n",
       "      <td>73.58</td>\n",
       "      <td>2018</td>\n",
       "      <td>283.5</td>\n",
       "      <td>68.22</td>\n",
       "      <td>29.31</td>\n",
       "      <td>60.13</td>\n",
       "      <td>70.758</td>\n",
       "      <td>1,006</td>\n",
       "      <td>1.0</td>\n",
       "      <td>3.0</td>\n",
       "      <td>-0.058</td>\n",
       "      <td>0.337</td>\n",
       "      <td>-0.012</td>\n",
       "      <td>0.213</td>\n",
       "      <td>0.194</td>\n",
       "      <td>$2,485,203</td>\n",
       "    </tr>\n",
       "    <tr>\n",
       "      <th>2</th>\n",
       "      <td>Chez Reavie</td>\n",
       "      <td>93.0</td>\n",
       "      <td>72.24</td>\n",
       "      <td>2018</td>\n",
       "      <td>286.5</td>\n",
       "      <td>68.67</td>\n",
       "      <td>29.12</td>\n",
       "      <td>62.27</td>\n",
       "      <td>70.432</td>\n",
       "      <td>1,020</td>\n",
       "      <td>NaN</td>\n",
       "      <td>3.0</td>\n",
       "      <td>0.192</td>\n",
       "      <td>0.674</td>\n",
       "      <td>0.183</td>\n",
       "      <td>0.437</td>\n",
       "      <td>-0.137</td>\n",
       "      <td>$2,700,018</td>\n",
       "    </tr>\n",
       "    <tr>\n",
       "      <th>3</th>\n",
       "      <td>Ryan Moore</td>\n",
       "      <td>78.0</td>\n",
       "      <td>71.94</td>\n",
       "      <td>2018</td>\n",
       "      <td>289.2</td>\n",
       "      <td>68.80</td>\n",
       "      <td>29.17</td>\n",
       "      <td>64.16</td>\n",
       "      <td>70.015</td>\n",
       "      <td>795</td>\n",
       "      <td>NaN</td>\n",
       "      <td>5.0</td>\n",
       "      <td>-0.271</td>\n",
       "      <td>0.941</td>\n",
       "      <td>0.406</td>\n",
       "      <td>0.532</td>\n",
       "      <td>0.273</td>\n",
       "      <td>$1,986,608</td>\n",
       "    </tr>\n",
       "    <tr>\n",
       "      <th>4</th>\n",
       "      <td>Brian Stuard</td>\n",
       "      <td>103.0</td>\n",
       "      <td>71.44</td>\n",
       "      <td>2018</td>\n",
       "      <td>278.9</td>\n",
       "      <td>67.12</td>\n",
       "      <td>29.11</td>\n",
       "      <td>59.23</td>\n",
       "      <td>71.038</td>\n",
       "      <td>421</td>\n",
       "      <td>NaN</td>\n",
       "      <td>3.0</td>\n",
       "      <td>0.164</td>\n",
       "      <td>0.062</td>\n",
       "      <td>-0.227</td>\n",
       "      <td>0.099</td>\n",
       "      <td>0.026</td>\n",
       "      <td>$1,089,763</td>\n",
       "    </tr>\n",
       "  </tbody>\n",
       "</table>\n",
       "</div>"
      ],
      "text/plain": [
       "      Player Name  Rounds  Fairway Percentage  Year  Avg Distance    gir  \\\n",
       "0  Henrik Stenson    60.0               75.19  2018         291.5  73.51   \n",
       "1     Ryan Armour   109.0               73.58  2018         283.5  68.22   \n",
       "2     Chez Reavie    93.0               72.24  2018         286.5  68.67   \n",
       "3      Ryan Moore    78.0               71.94  2018         289.2  68.80   \n",
       "4    Brian Stuard   103.0               71.44  2018         278.9  67.12   \n",
       "\n",
       "   Average Putts  Average Scrambling  Average Score Points  Wins  Top 10  \\\n",
       "0          29.93               60.67         69.617    868   NaN     5.0   \n",
       "1          29.31               60.13         70.758  1,006   1.0     3.0   \n",
       "2          29.12               62.27         70.432  1,020   NaN     3.0   \n",
       "3          29.17               64.16         70.015    795   NaN     5.0   \n",
       "4          29.11               59.23         71.038    421   NaN     3.0   \n",
       "\n",
       "   Average SG Putts  Average SG Total  SG:OTT  SG:APR  SG:ARG       Money  \n",
       "0            -0.207             1.153   0.427   0.960  -0.027  $2,680,487  \n",
       "1            -0.058             0.337  -0.012   0.213   0.194  $2,485,203  \n",
       "2             0.192             0.674   0.183   0.437  -0.137  $2,700,018  \n",
       "3            -0.271             0.941   0.406   0.532   0.273  $1,986,608  \n",
       "4             0.164             0.062  -0.227   0.099   0.026  $1,089,763  "
      ]
     },
     "execution_count": 2,
     "metadata": {},
     "output_type": "execute_result"
    }
   ],
   "source": [
    "# import data\n",
    "df = pd.read_csv('/Users/gabrielwarner/Downloads/pgaTourData.csv')\n",
    "df.head()"
   ]
  },
  {
   "cell_type": "markdown",
   "metadata": {},
   "source": [
    "### Data Cleaning"
   ]
  },
  {
   "cell_type": "code",
   "execution_count": 3,
   "metadata": {},
   "outputs": [],
   "source": [
    "# Replace NaN with 0 in Top 10 \n",
    "df['Top 10'].fillna(0, inplace=True)\n",
    "df['Top 10'] = df['Top 10'].astype(int)\n",
    "\n",
    "# Replace NaN with 0 in # of wins\n",
    "df['Wins'].fillna(0, inplace=True)\n",
    "df['Wins'] = df['Wins'].astype(int)\n",
    "\n",
    "#Replace any ? with Nan\n",
    "data = df.replace(\"?\", \"np.Nan\")\n",
    "\n",
    "# Drop NaN values \n",
    "df.dropna(axis = 0, inplace=True)\n"
   ]
  },
  {
   "cell_type": "code",
   "execution_count": 4,
   "metadata": {},
   "outputs": [],
   "source": [
    "# Remove the $ and commas in money \n",
    "df['Money'] = df['Money'].apply(lambda x: x.replace('$',''))\n",
    "df['Money'] = df['Money'].apply(lambda x: x.replace(',',''))\n",
    "df['Money'] = df['Money'].astype(float)"
   ]
  },
  {
   "cell_type": "code",
   "execution_count": 5,
   "metadata": {},
   "outputs": [],
   "source": [
    "# Change Money from float64 to numeric\n",
    "df['Money'] = pd.to_numeric(df.Money, errors='coerce')"
   ]
  },
  {
   "cell_type": "markdown",
   "metadata": {},
   "source": [
    "### Examine Feature Correlation"
   ]
  },
  {
   "cell_type": "markdown",
   "metadata": {},
   "source": [
    "Player Name: Name of the golfer\n",
    "\n",
    "Rounds: The number of games that a player played\n",
    "\n",
    "Fairway Percentage: The percentage of time a tee shot lands on the fairway\n",
    "\n",
    "Year: The year in which the statistic was collected\n",
    "\n",
    "Avg Distance: The average distance of the tee-shot\n",
    "\n",
    "gir: (Green in Regulation) is met if any part of the ball is touching the putting surface while the number of strokes taken is at least two fewer than par\n",
    "\n",
    "Average Putts: The average number of strokes taken on the green\n",
    "\n",
    "Average Scrambling: Scrambling is when a player misses the green in regulation, but still makes par or better on a hole\n",
    "\n",
    "Average Score: Average Score is the average of all the scores a player has played in that year\n",
    "\n",
    "Points: The number of FedExCup points a player earned in that year. These points can be earned by competing in tournaments.\n",
    "\n",
    "Wins: The number of competition a player has won in that year\n",
    "\n",
    "Top 10: The number of competitions where a player has placed in the Top 10\n",
    "\n",
    "Average SG Putts: Strokes gained: putting measures how many strokes a player gains (or loses) on the greens.\n",
    "\n",
    "Average SG Total: The Off-the-tee + approach-the-green + around-the-green + putting statistics combined\n",
    "\n",
    "SG:OTT: Strokes gained: off-the-tee measures player performance off the tee on all par-4s and par-5s.\n",
    "\n",
    "SG:APR: Strokes gained: approach-the-green measures player performance on approach shots. Approach shots include all shots that are not from the tee on par-4 and par-5 holes and are not included in strokes gained: around-the-green and strokes\n",
    "\n",
    "gained: putting. Approach shots include tee shots on par-3s.\n",
    "\n",
    "SG:ARG: Strokes gained: around-the-green measures player performance on any shot within 30 yards of the edge of the green. This statistic does not include any shots taken on the putting green.\n",
    "\n",
    "Money: The amount of prize money a player has earned from tournaments\n"
   ]
  },
  {
   "cell_type": "code",
   "execution_count": 6,
   "metadata": {},
   "outputs": [
    {
     "data": {
      "text/plain": [
       "Rounds                0.278091\n",
       "Fairway Percentage    0.016237\n",
       "Year                  0.108244\n",
       "Avg Distance          0.329295\n",
       "gir                   0.313770\n",
       "Average Putts        -0.257832\n",
       "Average Scrambling    0.317777\n",
       "Average Score        -0.746499\n",
       "Wins                  0.721665\n",
       "Top 10                0.827215\n",
       "Average SG Putts      0.278895\n",
       "Average SG Total      0.747042\n",
       "SG:OTT                0.441912\n",
       "SG:APR                0.510740\n",
       "SG:ARG                0.278901\n",
       "Money                 1.000000\n",
       "Name: Money, dtype: float64"
      ]
     },
     "execution_count": 6,
     "metadata": {},
     "output_type": "execute_result"
    }
   ],
   "source": [
    "# Check correlation to Money\n",
    "df.corr()['Money']"
   ]
  },
  {
   "cell_type": "code",
   "execution_count": 7,
   "metadata": {},
   "outputs": [
    {
     "data": {
      "text/plain": [
       "<AxesSubplot:>"
      ]
     },
     "execution_count": 7,
     "metadata": {},
     "output_type": "execute_result"
    },
    {
     "data": {
      "image/png": "[encoded data removed]",
      "text/plain": [
       "<Figure size 432x288 with 2 Axes>"
      ]
     },
     "metadata": {
      "needs_background": "light"
     },
     "output_type": "display_data"
    }
   ],
   "source": [
    "# Plot the correlation matrix between variables \n",
    "corr = df.corr()\n",
    "sns.heatmap(corr, \n",
    "            xticklabels=corr.columns.values,\n",
    "            yticklabels=corr.columns.values,\n",
    "            cmap='coolwarm')"
   ]
  },
  {
   "cell_type": "markdown",
   "metadata": {},
   "source": [
    "### Define Features"
   ]
  },
  {
   "cell_type": "code",
   "execution_count": 8,
   "metadata": {},
   "outputs": [],
   "source": [
    "# Seperate Target and Features\n",
    "# Target\n",
    "y = (df.Money > 500000).astype(int)\n",
    "# Features\n",
    "X = df.drop(['Fairway Percentage', 'Average Putts', 'Year', 'SG:APR', 'Average Score', 'Rounds', 'Average SG Putts', 'Player Name', 'Points', 'Wins', 'Top 10', 'SG:OTT', 'SG:ARG', 'Money'], axis=1)"
   ]
  },
  {
   "cell_type": "code",
   "execution_count": 9,
   "metadata": {},
   "outputs": [
    {
     "data": {
      "text/html": [
       "<div>\n",
       "<style scoped>\n",
       "    .dataframe tbody tr th:only-of-type {\n",
       "        vertical-align: middle;\n",
       "    }\n",
       "\n",
       "    .dataframe tbody tr th {\n",
       "        vertical-align: top;\n",
       "    }\n",
       "\n",
       "    .dataframe thead th {\n",
       "        text-align: right;\n",
       "    }\n",
       "</style>\n",
       "<table border=\"1\" class=\"dataframe\">\n",
       "  <thead>\n",
       "    <tr style=\"text-align: right;\">\n",
       "      <th></th>\n",
       "      <th>Avg Distance</th>\n",
       "      <th>gir</th>\n",
       "      <th>Average Scrambling</th>\n",
       "      <th>Average SG Total</th>\n",
       "    </tr>\n",
       "  </thead>\n",
       "  <tbody>\n",
       "    <tr>\n",
       "      <th>0</th>\n",
       "      <td>291.5</td>\n",
       "      <td>73.51</td>\n",
       "      <td>60.67</td>\n",
       "      <td>1.153</td>\n",
       "    </tr>\n",
       "    <tr>\n",
       "      <th>1</th>\n",
       "      <td>283.5</td>\n",
       "      <td>68.22</td>\n",
       "      <td>60.13</td>\n",
       "      <td>0.337</td>\n",
       "    </tr>\n",
       "    <tr>\n",
       "      <th>2</th>\n",
       "      <td>286.5</td>\n",
       "      <td>68.67</td>\n",
       "      <td>62.27</td>\n",
       "      <td>0.674</td>\n",
       "    </tr>\n",
       "    <tr>\n",
       "      <th>3</th>\n",
       "      <td>289.2</td>\n",
       "      <td>68.80</td>\n",
       "      <td>64.16</td>\n",
       "      <td>0.941</td>\n",
       "    </tr>\n",
       "    <tr>\n",
       "      <th>4</th>\n",
       "      <td>278.9</td>\n",
       "      <td>67.12</td>\n",
       "      <td>59.23</td>\n",
       "      <td>0.062</td>\n",
       "    </tr>\n",
       "  </tbody>\n",
       "</table>\n",
       "</div>"
      ],
      "text/plain": [
       "   Avg Distance    gir  Average Scrambling  Average SG Total\n",
       "0         291.5  73.51               60.67             1.153\n",
       "1         283.5  68.22               60.13             0.337\n",
       "2         286.5  68.67               62.27             0.674\n",
       "3         289.2  68.80               64.16             0.941\n",
       "4         278.9  67.12               59.23             0.062"
      ]
     },
     "execution_count": 9,
     "metadata": {},
     "output_type": "execute_result"
    }
   ],
   "source": [
    "X.head()"
   ]
  },
  {
   "cell_type": "markdown",
   "metadata": {},
   "source": [
    "### Preprocess the Data for Modeling"
   ]
  },
  {
   "cell_type": "code",
   "execution_count": 10,
   "metadata": {},
   "outputs": [],
   "source": [
    "# Initial Train-Test Split\n",
    "X_tr, X_test, y_tr, y_test = train_test_split(X, y, random_state=2021)"
   ]
  },
  {
   "cell_type": "code",
   "execution_count": 11,
   "metadata": {},
   "outputs": [],
   "source": [
    "# Make second split\n",
    "X_train, X_val, y_train, y_val = train_test_split(X_tr, y_tr, test_size=.15, random_state=2021)"
   ]
  },
  {
   "cell_type": "code",
   "execution_count": 12,
   "metadata": {},
   "outputs": [],
   "source": [
    "#initiate simple imputer\n",
    "imputer = SimpleImputer(strategy='mean')"
   ]
  },
  {
   "cell_type": "code",
   "execution_count": 13,
   "metadata": {},
   "outputs": [
    {
     "data": {
      "text/plain": [
       "SimpleImputer()"
      ]
     },
     "execution_count": 13,
     "metadata": {},
     "output_type": "execute_result"
    }
   ],
   "source": [
    "# fit to training data\n",
    "imputer.fit(X_train)"
   ]
  },
  {
   "cell_type": "code",
   "execution_count": 14,
   "metadata": {},
   "outputs": [],
   "source": [
    "# Convert X_train_imputed and X_val_imputed to a data frame\n",
    "X_train_imputed = pd.DataFrame(imputer.transform(X_train), columns=X.columns)\n",
    "X_val_imputed = pd.DataFrame(imputer.transform(X_val), columns=X.columns)"
   ]
  },
  {
   "cell_type": "code",
   "execution_count": 15,
   "metadata": {},
   "outputs": [
    {
     "name": "stdout",
     "output_type": "stream",
     "text": [
      "X_train missing:  0\n",
      "X_val missing:  0\n"
     ]
    }
   ],
   "source": [
    "# Check for missing values\n",
    "print(\"X_train missing: \", X_train_imputed.isna().sum().sum())\n",
    "print('X_val missing: ', X_val_imputed.isna().sum().sum())"
   ]
  },
  {
   "cell_type": "code",
   "execution_count": 16,
   "metadata": {},
   "outputs": [
    {
     "data": {
      "text/plain": [
       "['Avg Distance', 'gir', 'Average Scrambling', 'Average SG Total']"
      ]
     },
     "execution_count": 16,
     "metadata": {},
     "output_type": "execute_result"
    }
   ],
   "source": [
    "# Make DF with numeric columns\n",
    "num_cols = list(X.select_dtypes('number').columns)\n",
    "num_cols"
   ]
  },
  {
   "cell_type": "code",
   "execution_count": 17,
   "metadata": {},
   "outputs": [],
   "source": [
    "# Instantiate StandardScaler\n",
    "scaler = StandardScaler()"
   ]
  },
  {
   "cell_type": "code",
   "execution_count": 18,
   "metadata": {},
   "outputs": [
    {
     "data": {
      "text/plain": [
       "StandardScaler()"
      ]
     },
     "execution_count": 18,
     "metadata": {},
     "output_type": "execute_result"
    }
   ],
   "source": [
    "# fit on Imputed training data\n",
    "scaler.fit(X_train_imputed)"
   ]
  },
  {
   "cell_type": "code",
   "execution_count": 19,
   "metadata": {},
   "outputs": [],
   "source": [
    "# transform training and validation data\n",
    "X_train_scaled = pd.DataFrame(scaler.transform(X_train_imputed))\n",
    "X_val_scaled = pd.DataFrame(scaler.transform(X_val_imputed))"
   ]
  },
  {
   "cell_type": "code",
   "execution_count": 20,
   "metadata": {},
   "outputs": [],
   "source": [
    "# Define a modeling function\n",
    "def modeling_function(model, X_train_scaled, y_train, X_val_scaled, y_val):\n",
    "\n",
    "    # fit model on training data\n",
    "    model.fit(X_train_scaled, y_train)\n",
    "\n",
    "    # make predictions on training and validation data\n",
    "    train_preds = model.predict(X_train_scaled)\n",
    "    val_preds = model.predict(X_val_scaled)\n",
    "   \n",
    "    # Print accuracy score\n",
    "    print('Training accuracy: ', accuracy_score(y_train, train_preds))\n",
    "    print('Validation accuracy: ', accuracy_score(y_val, val_preds))\n",
    "\n",
    "    # return fitted model\n",
    "    return model"
   ]
  },
  {
   "cell_type": "markdown",
   "metadata": {},
   "source": [
    "### Logistic Regression"
   ]
  },
  {
   "cell_type": "code",
   "execution_count": 21,
   "metadata": {},
   "outputs": [],
   "source": [
    "lr = LogisticRegression()"
   ]
  },
  {
   "cell_type": "code",
   "execution_count": 22,
   "metadata": {},
   "outputs": [
    {
     "name": "stdout",
     "output_type": "stream",
     "text": [
      "Training accuracy:  0.8583489681050657\n",
      "Validation accuracy:  0.8941798941798942\n"
     ]
    }
   ],
   "source": [
    "# Call modeling function and pass through training and validation data\n",
    "dt = modeling_function(lr, X_train_scaled, y_train, X_val_scaled , y_val)"
   ]
  },
  {
   "cell_type": "markdown",
   "metadata": {},
   "source": [
    "#### Scoring"
   ]
  },
  {
   "cell_type": "code",
   "execution_count": 23,
   "metadata": {},
   "outputs": [],
   "source": [
    "# import recall score\n",
    "from sklearn.metrics import recall_score\n",
    "from sklearn.metrics import precision_score"
   ]
  },
  {
   "cell_type": "code",
   "execution_count": 24,
   "metadata": {},
   "outputs": [],
   "source": [
    "# fit model on training data\n",
    "lr.fit(X_train_scaled, y_train)\n",
    "\n",
    "    # make predictions on training and validation data\n",
    "train_preds = lr.predict(X_train_scaled)\n",
    "val_preds = lr.predict(X_val_scaled)\n",
    "# get recall score\n",
    "lr_recall_score_train = recall_score(y_train, train_preds)\n",
    "lr_recall_score_val = recall_score(y_val, val_preds)\n",
    "# get accuracy score\n",
    "lr_accuracy_score_train = accuracy_score(y_train, train_preds)\n",
    "lr_accuracy_score_val = accuracy_score(y_val, val_preds)\n",
    "\n",
    "# get precission score\n",
    "lr_precision_score_train = precision_score(y_train, train_preds)\n",
    "lr_precision_score_val = precision_score(y_val, val_preds)"
   ]
  },
  {
   "cell_type": "markdown",
   "metadata": {},
   "source": []
  },
  {
   "cell_type": "code",
   "execution_count": 25,
   "metadata": {},
   "outputs": [
    {
     "data": {
      "text/plain": [
       "dtype('float64')"
      ]
     },
     "execution_count": 25,
     "metadata": {},
     "output_type": "execute_result"
    }
   ],
   "source": [
    "# check the data type\n",
    "lr_recall_score_train.dtype"
   ]
  },
  {
   "cell_type": "markdown",
   "metadata": {},
   "source": [
    "### Logistic Regression with SMOTE"
   ]
  },
  {
   "cell_type": "code",
   "execution_count": 26,
   "metadata": {},
   "outputs": [
    {
     "data": {
      "text/plain": [
       "1    1308\n",
       "0     366\n",
       "Name: Money, dtype: int64"
      ]
     },
     "execution_count": 26,
     "metadata": {},
     "output_type": "execute_result"
    }
   ],
   "source": [
    "# look for class imbalence\n",
    "y.value_counts()"
   ]
  },
  {
   "cell_type": "code",
   "execution_count": 27,
   "metadata": {},
   "outputs": [],
   "source": [
    "# import SMOTE\n",
    "from imblearn.over_sampling import SMOTE"
   ]
  },
  {
   "cell_type": "code",
   "execution_count": 28,
   "metadata": {},
   "outputs": [],
   "source": [
    "# initiate model\n",
    "sm = SMOTE(random_state=2021)"
   ]
  },
  {
   "cell_type": "code",
   "execution_count": 29,
   "metadata": {},
   "outputs": [],
   "source": [
    "# resample train for X and Y\n",
    "X_train_res, y_train_res = sm.fit_resample(X_train_scaled, y_train)"
   ]
  },
  {
   "cell_type": "code",
   "execution_count": 30,
   "metadata": {},
   "outputs": [
    {
     "data": {
      "text/plain": [
       "1    837\n",
       "0    837\n",
       "Name: Money, dtype: int64"
      ]
     },
     "execution_count": 30,
     "metadata": {},
     "output_type": "execute_result"
    }
   ],
   "source": [
    "# check for class imbalence\n",
    "y_train_res.value_counts()"
   ]
  },
  {
   "cell_type": "code",
   "execution_count": 31,
   "metadata": {},
   "outputs": [],
   "source": [
    "# initiate logistic regression model\n",
    "logreg2 = LogisticRegression(random_state=42, C=0.5, max_iter=1000)"
   ]
  },
  {
   "cell_type": "code",
   "execution_count": 32,
   "metadata": {},
   "outputs": [
    {
     "name": "stdout",
     "output_type": "stream",
     "text": [
      "Training accuracy:  0.8555347091932458\n",
      "Validation accuracy:  0.8888888888888888\n"
     ]
    }
   ],
   "source": [
    "# pass through modeling function\n",
    "logreg_smote = modeling_function(logreg2, X_train_scaled, y_train, X_val_scaled , y_val)"
   ]
  },
  {
   "cell_type": "code",
   "execution_count": 33,
   "metadata": {},
   "outputs": [],
   "source": [
    "# import confusion matrix \n",
    "from sklearn.metrics import plot_confusion_matrix"
   ]
  },
  {
   "cell_type": "code",
   "execution_count": 34,
   "metadata": {},
   "outputs": [
    {
     "data": {
      "text/plain": [
       "<sklearn.metrics._plot.confusion_matrix.ConfusionMatrixDisplay at 0x7ffcfa996400>"
      ]
     },
     "execution_count": 34,
     "metadata": {},
     "output_type": "execute_result"
    },
    {
     "data": {
      "image/png": "[encoded data removed]",
      "text/plain": [
       "<Figure size 432x288 with 2 Axes>"
      ]
     },
     "metadata": {
      "needs_background": "light"
     },
     "output_type": "display_data"
    }
   ],
   "source": [
    "plot_confusion_matrix(logreg_smote, X_val_scaled, y_val)"
   ]
  },
  {
   "cell_type": "code",
   "execution_count": 35,
   "metadata": {},
   "outputs": [],
   "source": [
    "# SMOTE does not help the mdoel"
   ]
  },
  {
   "cell_type": "markdown",
   "metadata": {},
   "source": [
    "#### Scoring"
   ]
  },
  {
   "cell_type": "code",
   "execution_count": 36,
   "metadata": {},
   "outputs": [],
   "source": [
    "# fit model on training data\n",
    "logreg2.fit(X_train_scaled, y_train)\n",
    "\n",
    "    # make predictions on training and validation data\n",
    "train_preds = logreg2.predict(X_train_scaled)\n",
    "val_preds = logreg2.predict(X_val_scaled)\n",
    "# get recall score\n",
    "logreg2_recall_score_train = recall_score(y_train, train_preds)\n",
    "logreg2_recall_score_val = recall_score(y_val, val_preds)\n",
    "# get accuracy score\n",
    "logreg2_accuracy_score_train = accuracy_score(y_train, train_preds)\n",
    "logreg2_accuracy_score_val = accuracy_score(y_val, val_preds)\n",
    "# get precision score\n",
    "logreg2_precision_score_train = precision_score(y_train, train_preds)\n",
    "logreg2_precision_score_val = precision_score(y_val, val_preds)"
   ]
  },
  {
   "cell_type": "markdown",
   "metadata": {},
   "source": [
    "### KNN"
   ]
  },
  {
   "cell_type": "code",
   "execution_count": 37,
   "metadata": {},
   "outputs": [
    {
     "name": "stdout",
     "output_type": "stream",
     "text": [
      "Training accuracy:  0.899624765478424\n",
      "Validation accuracy:  0.873015873015873\n"
     ]
    }
   ],
   "source": [
    "#import KNN Neighbors Classifier\n",
    "from sklearn.neighbors import KNeighborsClassifier, KNeighborsRegressor\n",
    "# Initiate model\n",
    "knn = KNeighborsClassifier(3)\n",
    "# Run through modeling function\n",
    "knn_model = modeling_function(knn, X_train_scaled, y_train, X_val_scaled , y_val)"
   ]
  },
  {
   "cell_type": "markdown",
   "metadata": {},
   "source": [
    "#### Scoring"
   ]
  },
  {
   "cell_type": "code",
   "execution_count": 38,
   "metadata": {},
   "outputs": [],
   "source": [
    "# fit model on training data\n",
    "knn.fit(X_train_scaled, y_train)\n",
    "\n",
    "    # make predictions on training and validation data\n",
    "train_preds = knn.predict(X_train_scaled)\n",
    "val_preds = knn.predict(X_val_scaled)\n",
    "# get recall score\n",
    "knn_recall_score_train = recall_score(y_train, train_preds)\n",
    "knn_recall_score_val = recall_score(y_val, val_preds)\n",
    "# get accuracy score\n",
    "knn_accuracy_score_train = accuracy_score(y_train, train_preds)\n",
    "knn_accuracy_score_val = accuracy_score(y_val, val_preds)\n",
    "\n",
    "# get precision score\n",
    "knn_precision_score_train = precision_score(y_train, train_preds)\n",
    "knn_precision_score_val = precision_score(y_val, val_preds)"
   ]
  },
  {
   "cell_type": "markdown",
   "metadata": {},
   "source": [
    "### Decision Tree"
   ]
  },
  {
   "cell_type": "code",
   "execution_count": 39,
   "metadata": {},
   "outputs": [],
   "source": [
    "# Initiate Decision Tree\n",
    "dt = DecisionTreeClassifier(random_state=2021)"
   ]
  },
  {
   "cell_type": "code",
   "execution_count": 40,
   "metadata": {},
   "outputs": [
    {
     "name": "stdout",
     "output_type": "stream",
     "text": [
      "Training accuracy:  1.0\n",
      "Validation accuracy:  0.8359788359788359\n"
     ]
    }
   ],
   "source": [
    "# Call modeling function and pass through training and validation data\n",
    "dt = modeling_function(dt, X_train_scaled, y_train, X_val_scaled , y_val)"
   ]
  },
  {
   "cell_type": "markdown",
   "metadata": {},
   "source": [
    "#### Scoring"
   ]
  },
  {
   "cell_type": "code",
   "execution_count": 41,
   "metadata": {},
   "outputs": [],
   "source": [
    "# fit model on training data\n",
    "dt.fit(X_train_scaled, y_train)\n",
    "\n",
    "    # make predictions on training and validation data\n",
    "train_preds = dt.predict(X_train_scaled)\n",
    "val_preds = dt.predict(X_val_scaled)\n",
    "# get recall score\n",
    "dt_recall_score_train = recall_score(y_train, train_preds)\n",
    "dt_recall_score_val = recall_score(y_val, val_preds)\n",
    "# get accuracy score\n",
    "dt_accuracy_score_train = accuracy_score(y_train, train_preds)\n",
    "dt_accuracy_score_val = accuracy_score(y_val, val_preds)\n",
    "\n",
    "# get precision score\n",
    "dt_precision_score_train = precision_score(y_train, train_preds)\n",
    "dt_precision_score_val = precision_score(y_val, val_preds)"
   ]
  },
  {
   "cell_type": "markdown",
   "metadata": {},
   "source": [
    "### XG Boost"
   ]
  },
  {
   "cell_type": "code",
   "execution_count": 42,
   "metadata": {},
   "outputs": [],
   "source": [
    "# Import xgboost\n",
    "from xgboost import XGBClassifier"
   ]
  },
  {
   "cell_type": "code",
   "execution_count": 43,
   "metadata": {},
   "outputs": [],
   "source": [
    "# Initiate XGB\n",
    "clf = XGBClassifier()"
   ]
  },
  {
   "cell_type": "code",
   "execution_count": 44,
   "metadata": {},
   "outputs": [
    {
     "data": {
      "text/plain": [
       "XGBClassifier(base_score=0.5, booster='gbtree', colsample_bylevel=1,\n",
       "              colsample_bynode=1, colsample_bytree=1, gamma=0, gpu_id=-1,\n",
       "              importance_type='gain', interaction_constraints='',\n",
       "              learning_rate=0.300000012, max_delta_step=0, max_depth=6,\n",
       "              min_child_weight=1, missing=nan, monotone_constraints='()',\n",
       "              n_estimators=100, n_jobs=0, num_parallel_tree=1, random_state=0,\n",
       "              reg_alpha=0, reg_lambda=1, scale_pos_weight=1, subsample=1,\n",
       "              tree_method='exact', validate_parameters=1, verbosity=None)"
      ]
     },
     "execution_count": 44,
     "metadata": {},
     "output_type": "execute_result"
    }
   ],
   "source": [
    "# Fit training data\n",
    "clf.fit(X_train_scaled, y_train)"
   ]
  },
  {
   "cell_type": "code",
   "execution_count": 45,
   "metadata": {},
   "outputs": [],
   "source": [
    "# Run model on training and validation data\n",
    "training_preds = clf.predict(X_train_scaled)\n",
    "test_preds = clf.predict(X_val_scaled)"
   ]
  },
  {
   "cell_type": "code",
   "execution_count": 46,
   "metadata": {},
   "outputs": [],
   "source": [
    "# Get training and testing acuracy\n",
    "training_accuracy = accuracy_score(y_train, training_preds)\n",
    "test_accuracy = accuracy_score(y_val, test_preds)"
   ]
  },
  {
   "cell_type": "code",
   "execution_count": 47,
   "metadata": {},
   "outputs": [
    {
     "name": "stdout",
     "output_type": "stream",
     "text": [
      "Training Accuracy: 100.0%\n",
      "Validation accuracy: 86.77%\n"
     ]
    }
   ],
   "source": [
    "print('Training Accuracy: {:.4}%'.format(training_accuracy * 100))\n",
    "print('Validation accuracy: {:.4}%'.format(test_accuracy * 100))"
   ]
  },
  {
   "cell_type": "markdown",
   "metadata": {},
   "source": [
    "#### Scoring"
   ]
  },
  {
   "cell_type": "code",
   "execution_count": 48,
   "metadata": {},
   "outputs": [
    {
     "name": "stdout",
     "output_type": "stream",
     "text": [
      "\n",
      "Training Recall: 100.0%\n",
      "Validation Recall: 95.3%\n"
     ]
    }
   ],
   "source": [
    "# fit model on training data\n",
    "clf.fit(X_train_scaled, y_train)\n",
    "\n",
    "    # make predictions on training and validation data\n",
    "train_preds = clf.predict(X_train_scaled)\n",
    "val_preds = clf.predict(X_val_scaled)\n",
    "# get recall score\n",
    "clf_recall_score_train = recall_score(y_train, train_preds)\n",
    "clf_recall_score_val = recall_score(y_val, val_preds)\n",
    "# get accuracy score\n",
    "clf_accuracy_score_train = accuracy_score(y_train, train_preds)\n",
    "clf_accuracy_score_val = accuracy_score(y_val, val_preds)\n",
    "# get precision score\n",
    "clf_precision_score_train = precision_score(y_train, train_preds)\n",
    "clf_precision_score_val = precision_score(y_val, val_preds)\n",
    "\n",
    "print('')\n",
    "print('Training Recall: {:.4}%'.format(clf_recall_score_train * 100))\n",
    "print('Validation Recall: {:.4}%'.format(clf_recall_score_val * 100))"
   ]
  },
  {
   "cell_type": "markdown",
   "metadata": {},
   "source": [
    "### XGBoost tuning"
   ]
  },
  {
   "cell_type": "code",
   "execution_count": 49,
   "metadata": {},
   "outputs": [],
   "source": [
    "# Create paramiter grid to do hyperperamiter tuning\n",
    "param_grid = {\n",
    "    'learning_rate': [0.04, 0.05, 0.1],\n",
    "    'max_depth': [7],\n",
    "    'min_child_weight': [1, 2.5],\n",
    "    'subsample': [0.5, 0.6, 0.7],\n",
    "    'n_estimators': [225, 250, 275],\n",
    "}"
   ]
  },
  {
   "cell_type": "code",
   "execution_count": 50,
   "metadata": {},
   "outputs": [
    {
     "name": "stdout",
     "output_type": "stream",
     "text": [
      "Grid Search found the following optimal parameters: \n",
      "learning_rate: 0.05\n",
      "max_depth: 7\n",
      "min_child_weight: 1\n",
      "n_estimators: 250\n",
      "subsample: 0.7\n",
      "\n",
      "Training Accuracy: 99.62%\n",
      "Validation accuracy: 88.89%\n"
     ]
    }
   ],
   "source": [
    "# Initiate grid search\n",
    "grid_clf = GridSearchCV(clf, param_grid, scoring='accuracy', cv=None, n_jobs=1)\n",
    "# Fit to training data\n",
    "grid_clf.fit(X_train_scaled, y_train)\n",
    "# Get the best parameters\n",
    "best_parameters = grid_clf.best_params_\n",
    "\n",
    "print('Grid Search found the following optimal parameters: ')\n",
    "for param_name in sorted(best_parameters.keys()):\n",
    "    print('%s: %r' % (param_name, best_parameters[param_name]))\n",
    "# Run model through training and validation data\n",
    "training_preds = grid_clf.predict(X_train_scaled)\n",
    "test_preds = grid_clf.predict(X_val_scaled)\n",
    "# Calculate training and test accuracy for model\n",
    "training_accuracy = accuracy_score(y_train, training_preds)\n",
    "test_accuracy = accuracy_score(y_val, test_preds)\n",
    "\n",
    "print('')\n",
    "print('Training Accuracy: {:.4}%'.format(training_accuracy * 100))\n",
    "print('Validation accuracy: {:.4}%'.format(test_accuracy * 100))"
   ]
  },
  {
   "cell_type": "markdown",
   "metadata": {},
   "source": [
    "#### Scoring"
   ]
  },
  {
   "cell_type": "code",
   "execution_count": 51,
   "metadata": {},
   "outputs": [
    {
     "name": "stdout",
     "output_type": "stream",
     "text": [
      "\n",
      "Training Recall: 100.0%\n",
      "Validation Recall: 96.64%\n"
     ]
    }
   ],
   "source": [
    "# fit model on training data\n",
    "grid_clf.fit(X_train_scaled, y_train)\n",
    "\n",
    "    # make predictions on training and validation data\n",
    "train_preds = grid_clf.predict(X_train_scaled)\n",
    "val_preds = grid_clf.predict(X_val_scaled)\n",
    "# get recall score\n",
    "grid_clf_recall_score_train = recall_score(y_train, train_preds)\n",
    "grid_clf_recall_score_val = recall_score(y_val, val_preds)\n",
    "# get accuracy score\n",
    "grid_clf_accuracy_score_train = accuracy_score(y_train, train_preds)\n",
    "grid_clf_accuracy_score_val = accuracy_score(y_val, val_preds)\n",
    "# get precision score\n",
    "grid_clf_precision_score_train = precision_score(y_train, train_preds)\n",
    "grid_clf_precision_score_val = precision_score(y_val, val_preds)\n",
    "\n",
    "print('')\n",
    "print('Training Recall: {:.4}%'.format(grid_clf_recall_score_train * 100))\n",
    "print('Validation Recall: {:.4}%'.format(grid_clf_recall_score_val * 100))"
   ]
  },
  {
   "cell_type": "markdown",
   "metadata": {},
   "source": []
  },
  {
   "cell_type": "markdown",
   "metadata": {},
   "source": [
    "### Support vector Machine"
   ]
  },
  {
   "cell_type": "code",
   "execution_count": 52,
   "metadata": {},
   "outputs": [],
   "source": [
    "from sklearn.svm import SVC"
   ]
  },
  {
   "cell_type": "code",
   "execution_count": 53,
   "metadata": {},
   "outputs": [
    {
     "data": {
      "text/plain": [
       "XGBClassifier(base_score=0.5, booster='gbtree', colsample_bylevel=1,\n",
       "              colsample_bynode=1, colsample_bytree=1, gamma=0, gpu_id=-1,\n",
       "              importance_type='gain', interaction_constraints='',\n",
       "              learning_rate=0.300000012, max_delta_step=0, max_depth=6,\n",
       "              min_child_weight=1, missing=nan, monotone_constraints='()',\n",
       "              n_estimators=100, n_jobs=0, num_parallel_tree=1, random_state=0,\n",
       "              reg_alpha=0, reg_lambda=1, scale_pos_weight=1, subsample=1,\n",
       "              tree_method='exact', validate_parameters=1, verbosity=None)"
      ]
     },
     "execution_count": 53,
     "metadata": {},
     "output_type": "execute_result"
    }
   ],
   "source": [
    "#poly kernel must pass in degree \n",
    "svm = SVC(kernel='poly', degree=3)\n",
    "clf.fit(X_train_scaled, y_train)"
   ]
  },
  {
   "cell_type": "code",
   "execution_count": 54,
   "metadata": {},
   "outputs": [],
   "source": [
    "y_pred = clf.predict(X_val_scaled)"
   ]
  },
  {
   "cell_type": "code",
   "execution_count": 55,
   "metadata": {},
   "outputs": [],
   "source": [
    "#training_accuracy = accuracy_score(y_train, y_pred)"
   ]
  },
  {
   "cell_type": "code",
   "execution_count": 56,
   "metadata": {},
   "outputs": [
    {
     "name": "stdout",
     "output_type": "stream",
     "text": [
      "Training accuracy:  1.0\n",
      "Validation accuracy:  0.8677248677248677\n"
     ]
    }
   ],
   "source": [
    "# Call modeling function and pass through training and validation data\n",
    "svm = modeling_function(clf, X_train_scaled, y_train, X_val_scaled , y_val)"
   ]
  },
  {
   "cell_type": "markdown",
   "metadata": {},
   "source": [
    "### Scoring"
   ]
  },
  {
   "cell_type": "code",
   "execution_count": 57,
   "metadata": {},
   "outputs": [
    {
     "name": "stdout",
     "output_type": "stream",
     "text": [
      "\n",
      "Training Recall: 100.0%\n",
      "Validation Recall: 95.3%\n"
     ]
    }
   ],
   "source": [
    "# fit model on training data\n",
    "svm.fit(X_train_scaled, y_train)\n",
    "\n",
    "    # make predictions on training and validation data\n",
    "train_preds = svm.predict(X_train_scaled)\n",
    "val_preds = svm.predict(X_val_scaled)\n",
    "# get recall score\n",
    "svm_recall_score_train = recall_score(y_train, train_preds)\n",
    "svm_recall_score_val = recall_score(y_val, val_preds)\n",
    "# get accuracy score\n",
    "svm_accuracy_score_train = accuracy_score(y_train, train_preds)\n",
    "svm_accuracy_score_val = accuracy_score(y_val, val_preds)\n",
    "# get precision score\n",
    "svm_precision_score_train = precision_score(y_train, train_preds)\n",
    "svm_precision_score_val = precision_score(y_val, val_preds)\n",
    "print('')\n",
    "print('Training Recall: {:.4}%'.format(svm_recall_score_train * 100))\n",
    "print('Validation Recall: {:.4}%'.format(svm_recall_score_val * 100))"
   ]
  },
  {
   "cell_type": "markdown",
   "metadata": {},
   "source": [
    "### Best Model (KNN)"
   ]
  },
  {
   "cell_type": "code",
   "execution_count": 58,
   "metadata": {
    "tags": []
   },
   "outputs": [],
   "source": [
    "# Create data frame for X_test\n",
    "X_test_imputed = pd.DataFrame(imputer.transform(X_test), columns=X.columns)"
   ]
  },
  {
   "cell_type": "code",
   "execution_count": 59,
   "metadata": {
    "tags": []
   },
   "outputs": [],
   "source": [
    "# Scale testing data\n",
    "X_test_scaled = pd.DataFrame(scaler.transform(X_test_imputed))"
   ]
  },
  {
   "cell_type": "code",
   "execution_count": 60,
   "metadata": {},
   "outputs": [],
   "source": [
    "# Run testing data through model\n",
    "test_preds = knn.predict(X_test_scaled)"
   ]
  },
  {
   "cell_type": "code",
   "execution_count": 61,
   "metadata": {},
   "outputs": [
    {
     "data": {
      "text/plain": [
       "0.8210023866348448"
      ]
     },
     "execution_count": 61,
     "metadata": {},
     "output_type": "execute_result"
    }
   ],
   "source": [
    "# Get the accuracy score\n",
    "accuracy_score(y_test, test_preds)"
   ]
  },
  {
   "cell_type": "code",
   "execution_count": 62,
   "metadata": {},
   "outputs": [
    {
     "data": {
      "text/plain": [
       "0.8975155279503105"
      ]
     },
     "execution_count": 62,
     "metadata": {},
     "output_type": "execute_result"
    }
   ],
   "source": [
    "recall_score(y_test, test_preds)"
   ]
  },
  {
   "cell_type": "code",
   "execution_count": 63,
   "metadata": {},
   "outputs": [
    {
     "data": {
      "text/plain": [
       "0.8731117824773413"
      ]
     },
     "execution_count": 63,
     "metadata": {},
     "output_type": "execute_result"
    }
   ],
   "source": [
    "precision_score(y_test, test_preds)"
   ]
  },
  {
   "cell_type": "code",
   "execution_count": 64,
   "metadata": {},
   "outputs": [
    {
     "data": {
      "text/plain": [
       "<sklearn.metrics._plot.confusion_matrix.ConfusionMatrixDisplay at 0x7ffcfbde9af0>"
      ]
     },
     "execution_count": 64,
     "metadata": {},
     "output_type": "execute_result"
    },
    {
     "data": {
      "image/png": "[encoded data removed]",
      "text/plain": [
       "<Figure size 432x288 with 2 Axes>"
      ]
     },
     "metadata": {
      "needs_background": "light"
     },
     "output_type": "display_data"
    }
   ],
   "source": [
    "plot_confusion_matrix(grid_clf, X_val_scaled, y_val)"
   ]
  },
  {
   "cell_type": "markdown",
   "metadata": {},
   "source": [
    "# Model Preformance Examination (Confusion Matrix)"
   ]
  },
  {
   "cell_type": "markdown",
   "metadata": {},
   "source": [
    "### Logistic Regression"
   ]
  },
  {
   "cell_type": "code",
   "execution_count": 65,
   "metadata": {},
   "outputs": [
    {
     "data": {
      "text/plain": [
       "<sklearn.metrics._plot.confusion_matrix.ConfusionMatrixDisplay at 0x7ffcfbdb0e50>"
      ]
     },
     "execution_count": 65,
     "metadata": {},
     "output_type": "execute_result"
    },
    {
     "data": {
      "image/png": "[encoded data removed]",
      "text/plain": [
       "<Figure size 432x288 with 2 Axes>"
      ]
     },
     "metadata": {
      "needs_background": "light"
     },
     "output_type": "display_data"
    }
   ],
   "source": [
    "plot_confusion_matrix(lr, X_val_scaled, y_val)"
   ]
  },
  {
   "cell_type": "code",
   "execution_count": 66,
   "metadata": {},
   "outputs": [],
   "source": [
    "from sklearn.metrics import recall_score"
   ]
  },
  {
   "cell_type": "markdown",
   "metadata": {},
   "source": [
    "### Logistic Regression with SMOTE"
   ]
  },
  {
   "cell_type": "code",
   "execution_count": 67,
   "metadata": {},
   "outputs": [
    {
     "data": {
      "text/plain": [
       "<sklearn.metrics._plot.confusion_matrix.ConfusionMatrixDisplay at 0x7ffd016137c0>"
      ]
     },
     "execution_count": 67,
     "metadata": {},
     "output_type": "execute_result"
    },
    {
     "data": {
      "image/png": "[encoded data removed]",
      "text/plain": [
       "<Figure size 432x288 with 2 Axes>"
      ]
     },
     "metadata": {
      "needs_background": "light"
     },
     "output_type": "display_data"
    }
   ],
   "source": [
    "plot_confusion_matrix(logreg2, X_val_scaled, y_val)"
   ]
  },
  {
   "cell_type": "markdown",
   "metadata": {},
   "source": [
    "### KNN"
   ]
  },
  {
   "cell_type": "code",
   "execution_count": 68,
   "metadata": {},
   "outputs": [
    {
     "data": {
      "text/plain": [
       "<sklearn.metrics._plot.confusion_matrix.ConfusionMatrixDisplay at 0x7ffd0077edc0>"
      ]
     },
     "execution_count": 68,
     "metadata": {},
     "output_type": "execute_result"
    },
    {
     "data": {
      "image/png": "[encoded data removed]",
      "text/plain": [
       "<Figure size 432x288 with 2 Axes>"
      ]
     },
     "metadata": {
      "needs_background": "light"
     },
     "output_type": "display_data"
    }
   ],
   "source": [
    "plot_confusion_matrix(knn, X_val_scaled, y_val)"
   ]
  },
  {
   "cell_type": "markdown",
   "metadata": {},
   "source": [
    "### Decision Tree"
   ]
  },
  {
   "cell_type": "code",
   "execution_count": 69,
   "metadata": {},
   "outputs": [
    {
     "data": {
      "text/plain": [
       "<sklearn.metrics._plot.confusion_matrix.ConfusionMatrixDisplay at 0x7ffd00a352b0>"
      ]
     },
     "execution_count": 69,
     "metadata": {},
     "output_type": "execute_result"
    },
    {
     "data": {
      "image/png": "[encoded data removed]",
      "text/plain": [
       "<Figure size 432x288 with 2 Axes>"
      ]
     },
     "metadata": {
      "needs_background": "light"
     },
     "output_type": "display_data"
    }
   ],
   "source": [
    "plot_confusion_matrix(dt, X_val_scaled, y_val)"
   ]
  },
  {
   "cell_type": "markdown",
   "metadata": {},
   "source": [
    "### XG Boost"
   ]
  },
  {
   "cell_type": "code",
   "execution_count": 70,
   "metadata": {},
   "outputs": [
    {
     "data": {
      "text/plain": [
       "<sklearn.metrics._plot.confusion_matrix.ConfusionMatrixDisplay at 0x7ffd00b4a1f0>"
      ]
     },
     "execution_count": 70,
     "metadata": {},
     "output_type": "execute_result"
    },
    {
     "data": {
      "image/png": "[encoded data removed]",
      "text/plain": [
       "<Figure size 432x288 with 2 Axes>"
      ]
     },
     "metadata": {
      "needs_background": "light"
     },
     "output_type": "display_data"
    }
   ],
   "source": [
    "plot_confusion_matrix(clf, X_val_scaled, y_val)"
   ]
  },
  {
   "cell_type": "markdown",
   "metadata": {},
   "source": [
    "### Support vector Machine"
   ]
  },
  {
   "cell_type": "code",
   "execution_count": 71,
   "metadata": {},
   "outputs": [
    {
     "data": {
      "text/plain": [
       "<sklearn.metrics._plot.confusion_matrix.ConfusionMatrixDisplay at 0x7ffd01628c10>"
      ]
     },
     "execution_count": 71,
     "metadata": {},
     "output_type": "execute_result"
    },
    {
     "data": {
      "image/png": "[encoded data removed]",
      "text/plain": [
       "<Figure size 432x288 with 2 Axes>"
      ]
     },
     "metadata": {
      "needs_background": "light"
     },
     "output_type": "display_data"
    }
   ],
   "source": [
    "plot_confusion_matrix(svm, X_val_scaled, y_val)"
   ]
  },
  {
   "cell_type": "markdown",
   "metadata": {},
   "source": [
    "### XGBoost tuning"
   ]
  },
  {
   "cell_type": "code",
   "execution_count": 72,
   "metadata": {},
   "outputs": [
    {
     "data": {
      "text/plain": [
       "<sklearn.metrics._plot.confusion_matrix.ConfusionMatrixDisplay at 0x7ffd010e4070>"
      ]
     },
     "execution_count": 72,
     "metadata": {},
     "output_type": "execute_result"
    },
    {
     "data": {
      "image/png": "[encoded data removed]",
      "text/plain": [
       "<Figure size 432x288 with 2 Axes>"
      ]
     },
     "metadata": {
      "needs_background": "light"
     },
     "output_type": "display_data"
    }
   ],
   "source": [
    "plot_confusion_matrix(grid_clf, X_val_scaled, y_val)"
   ]
  },
  {
   "cell_type": "markdown",
   "metadata": {},
   "source": [
    "### Recall Training and Validation Data graph"
   ]
  },
  {
   "cell_type": "code",
   "execution_count": 73,
   "metadata": {},
   "outputs": [
    {
     "data": {
      "text/html": [
       "<div>\n",
       "<style scoped>\n",
       "    .dataframe tbody tr th:only-of-type {\n",
       "        vertical-align: middle;\n",
       "    }\n",
       "\n",
       "    .dataframe tbody tr th {\n",
       "        vertical-align: top;\n",
       "    }\n",
       "\n",
       "    .dataframe thead th {\n",
       "        text-align: right;\n",
       "    }\n",
       "</style>\n",
       "<table border=\"1\" class=\"dataframe\">\n",
       "  <thead>\n",
       "    <tr style=\"text-align: right;\">\n",
       "      <th></th>\n",
       "      <th>Training</th>\n",
       "      <th>Validation</th>\n",
       "    </tr>\n",
       "  </thead>\n",
       "  <tbody>\n",
       "    <tr>\n",
       "      <th>0</th>\n",
       "      <td>0.946237</td>\n",
       "      <td>0.966443</td>\n",
       "    </tr>\n",
       "    <tr>\n",
       "      <th>1</th>\n",
       "      <td>0.947431</td>\n",
       "      <td>0.966443</td>\n",
       "    </tr>\n",
       "    <tr>\n",
       "      <th>2</th>\n",
       "      <td>0.956989</td>\n",
       "      <td>0.946309</td>\n",
       "    </tr>\n",
       "    <tr>\n",
       "      <th>3</th>\n",
       "      <td>1.000000</td>\n",
       "      <td>0.906040</td>\n",
       "    </tr>\n",
       "    <tr>\n",
       "      <th>4</th>\n",
       "      <td>1.000000</td>\n",
       "      <td>0.953020</td>\n",
       "    </tr>\n",
       "    <tr>\n",
       "      <th>5</th>\n",
       "      <td>1.000000</td>\n",
       "      <td>0.966443</td>\n",
       "    </tr>\n",
       "    <tr>\n",
       "      <th>6</th>\n",
       "      <td>1.000000</td>\n",
       "      <td>0.953020</td>\n",
       "    </tr>\n",
       "  </tbody>\n",
       "</table>\n",
       "</div>"
      ],
      "text/plain": [
       "   Training  Validation\n",
       "0  0.946237    0.966443\n",
       "1  0.947431    0.966443\n",
       "2  0.956989    0.946309\n",
       "3  1.000000    0.906040\n",
       "4  1.000000    0.953020\n",
       "5  1.000000    0.966443\n",
       "6  1.000000    0.953020"
      ]
     },
     "execution_count": 73,
     "metadata": {},
     "output_type": "execute_result"
    }
   ],
   "source": [
    "# Create DF with validation/training recall score\n",
    "d = {'Training': [(lr_recall_score_train), (logreg2_recall_score_train), (knn_recall_score_train), (dt_recall_score_train), (clf_recall_score_train), (grid_clf_recall_score_train), (svm_recall_score_train)], 'Validation': [(lr_recall_score_val), (logreg2_recall_score_val), (knn_recall_score_val), (dt_recall_score_val), (clf_recall_score_val), (grid_clf_recall_score_val), (svm_recall_score_val)]}\n",
    "# create new data frame with data from above\n",
    "train_val_recall = pd.DataFrame(data=d)\n",
    "train_val_recall"
   ]
  },
  {
   "cell_type": "code",
   "execution_count": 74,
   "metadata": {},
   "outputs": [
    {
     "name": "stderr",
     "output_type": "stream",
     "text": [
      "<ipython-input-74-d720c897dfdf>:5: UserWarning: FixedFormatter should only be used together with FixedLocator\n",
      "  g.set_xticklabels(['logistic regression', 'logistic regression', ' SMOTE logistic regression', 'KNN', 'Decision Tree', 'XG Boost', 'XG Boost Tuned', 'Support Vector Machine'])\n"
     ]
    },
    {
     "data": {
      "text/plain": [
       "[Text(-1.0, 0, 'logistic regression'),\n",
       " Text(0.0, 0, 'logistic regression'),\n",
       " Text(1.0, 0, ' SMOTE logistic regression'),\n",
       " Text(2.0, 0, 'KNN'),\n",
       " Text(3.0, 0, 'Decision Tree'),\n",
       " Text(4.0, 0, 'XG Boost'),\n",
       " Text(5.0, 0, 'XG Boost Tuned'),\n",
       " Text(6.0, 0, 'Support Vector Machine'),\n",
       " Text(7.0, 0, '')]"
      ]
     },
     "execution_count": 74,
     "metadata": {},
     "output_type": "execute_result"
    },
    {
     "data": {
      "image/png": "[encoded data removed]",
      "text/plain": [
       "<Figure size 432x288 with 1 Axes>"
      ]
     },
     "metadata": {
      "needs_background": "light"
     },
     "output_type": "display_data"
    }
   ],
   "source": [
    "# make sea born double line graph\n",
    "g = sns.lineplot(data=train_val_recall)\n",
    "plt.xticks(rotation = 60)\n",
    "g.set(title='Recall Score')\n",
    "g.set_xticklabels(['logistic regression', 'logistic regression', ' SMOTE logistic regression', 'KNN', 'Decision Tree', 'XG Boost', 'XG Boost Tuned', 'Support Vector Machine'])"
   ]
  },
  {
   "cell_type": "markdown",
   "metadata": {},
   "source": [
    "### Accuracy Training and Validation Graph"
   ]
  },
  {
   "cell_type": "code",
   "execution_count": 75,
   "metadata": {},
   "outputs": [
    {
     "data": {
      "text/html": [
       "<div>\n",
       "<style scoped>\n",
       "    .dataframe tbody tr th:only-of-type {\n",
       "        vertical-align: middle;\n",
       "    }\n",
       "\n",
       "    .dataframe tbody tr th {\n",
       "        vertical-align: top;\n",
       "    }\n",
       "\n",
       "    .dataframe thead th {\n",
       "        text-align: right;\n",
       "    }\n",
       "</style>\n",
       "<table border=\"1\" class=\"dataframe\">\n",
       "  <thead>\n",
       "    <tr style=\"text-align: right;\">\n",
       "      <th></th>\n",
       "      <th>Training</th>\n",
       "      <th>Validation</th>\n",
       "    </tr>\n",
       "  </thead>\n",
       "  <tbody>\n",
       "    <tr>\n",
       "      <th>0</th>\n",
       "      <td>0.858349</td>\n",
       "      <td>0.894180</td>\n",
       "    </tr>\n",
       "    <tr>\n",
       "      <th>1</th>\n",
       "      <td>0.855535</td>\n",
       "      <td>0.888889</td>\n",
       "    </tr>\n",
       "    <tr>\n",
       "      <th>2</th>\n",
       "      <td>0.899625</td>\n",
       "      <td>0.873016</td>\n",
       "    </tr>\n",
       "    <tr>\n",
       "      <th>3</th>\n",
       "      <td>1.000000</td>\n",
       "      <td>0.835979</td>\n",
       "    </tr>\n",
       "    <tr>\n",
       "      <th>4</th>\n",
       "      <td>1.000000</td>\n",
       "      <td>0.867725</td>\n",
       "    </tr>\n",
       "    <tr>\n",
       "      <th>5</th>\n",
       "      <td>0.996248</td>\n",
       "      <td>0.888889</td>\n",
       "    </tr>\n",
       "    <tr>\n",
       "      <th>6</th>\n",
       "      <td>1.000000</td>\n",
       "      <td>0.867725</td>\n",
       "    </tr>\n",
       "  </tbody>\n",
       "</table>\n",
       "</div>"
      ],
      "text/plain": [
       "   Training  Validation\n",
       "0  0.858349    0.894180\n",
       "1  0.855535    0.888889\n",
       "2  0.899625    0.873016\n",
       "3  1.000000    0.835979\n",
       "4  1.000000    0.867725\n",
       "5  0.996248    0.888889\n",
       "6  1.000000    0.867725"
      ]
     },
     "execution_count": 75,
     "metadata": {},
     "output_type": "execute_result"
    }
   ],
   "source": [
    "# Create DF with validation/trainign accuracy score\n",
    "d2 = {'Training': [(lr_accuracy_score_train), (logreg2_accuracy_score_train), (knn_accuracy_score_train), (dt_accuracy_score_train), (clf_accuracy_score_train), (grid_clf_accuracy_score_train), (svm_accuracy_score_train)], 'Validation': [(lr_accuracy_score_val), (logreg2_accuracy_score_val), (knn_accuracy_score_val), (dt_accuracy_score_val), (clf_accuracy_score_val), (grid_clf_accuracy_score_val), (svm_accuracy_score_val)]}\n",
    "train_val_accuracy = pd.DataFrame(data=d2)\n",
    "train_val_accuracy\n"
   ]
  },
  {
   "cell_type": "code",
   "execution_count": 76,
   "metadata": {},
   "outputs": [
    {
     "name": "stderr",
     "output_type": "stream",
     "text": [
      "<ipython-input-76-78d3ce1384cd>:5: UserWarning: FixedFormatter should only be used together with FixedLocator\n",
      "  g2.set_xticklabels(['logistic regression', 'logistic regression', ' SMOTE logistic regression', 'KNN', 'Decision Tree', 'XG Boost', 'XG Boost Tuned', 'Support Vector Machine'])\n"
     ]
    },
    {
     "data": {
      "text/plain": [
       "[Text(-1.0, 0, 'logistic regression'),\n",
       " Text(0.0, 0, 'logistic regression'),\n",
       " Text(1.0, 0, ' SMOTE logistic regression'),\n",
       " Text(2.0, 0, 'KNN'),\n",
       " Text(3.0, 0, 'Decision Tree'),\n",
       " Text(4.0, 0, 'XG Boost'),\n",
       " Text(5.0, 0, 'XG Boost Tuned'),\n",
       " Text(6.0, 0, 'Support Vector Machine'),\n",
       " Text(7.0, 0, '')]"
      ]
     },
     "execution_count": 76,
     "metadata": {},
     "output_type": "execute_result"
    },
    {
     "data": {
      "image/png": "[encoded data removed]",
      "text/plain": [
       "<Figure size 432x288 with 1 Axes>"
      ]
     },
     "metadata": {
      "needs_background": "light"
     },
     "output_type": "display_data"
    }
   ],
   "source": [
    "# create seaborn double line graph\n",
    "g2 = sns.lineplot(data=train_val_accuracy)\n",
    "plt.xticks(rotation = 60)\n",
    "g2.set(title='Accuracy Score')\n",
    "g2.set_xticklabels(['logistic regression', 'logistic regression', ' SMOTE logistic regression', 'KNN', 'Decision Tree', 'XG Boost', 'XG Boost Tuned', 'Support Vector Machine'])"
   ]
  },
  {
   "cell_type": "markdown",
   "metadata": {},
   "source": [
    "### Precision Training and Validation Graph"
   ]
  },
  {
   "cell_type": "code",
   "execution_count": 77,
   "metadata": {},
   "outputs": [
    {
     "data": {
      "text/html": [
       "<div>\n",
       "<style scoped>\n",
       "    .dataframe tbody tr th:only-of-type {\n",
       "        vertical-align: middle;\n",
       "    }\n",
       "\n",
       "    .dataframe tbody tr th {\n",
       "        vertical-align: top;\n",
       "    }\n",
       "\n",
       "    .dataframe thead th {\n",
       "        text-align: right;\n",
       "    }\n",
       "</style>\n",
       "<table border=\"1\" class=\"dataframe\">\n",
       "  <thead>\n",
       "    <tr style=\"text-align: right;\">\n",
       "      <th></th>\n",
       "      <th>Training</th>\n",
       "      <th>Validation</th>\n",
       "    </tr>\n",
       "  </thead>\n",
       "  <tbody>\n",
       "    <tr>\n",
       "      <th>0</th>\n",
       "      <td>0.881960</td>\n",
       "      <td>0.905660</td>\n",
       "    </tr>\n",
       "    <tr>\n",
       "      <th>1</th>\n",
       "      <td>0.878184</td>\n",
       "      <td>0.900000</td>\n",
       "    </tr>\n",
       "    <tr>\n",
       "      <th>2</th>\n",
       "      <td>0.918578</td>\n",
       "      <td>0.898089</td>\n",
       "    </tr>\n",
       "    <tr>\n",
       "      <th>3</th>\n",
       "      <td>1.000000</td>\n",
       "      <td>0.888158</td>\n",
       "    </tr>\n",
       "    <tr>\n",
       "      <th>4</th>\n",
       "      <td>1.000000</td>\n",
       "      <td>0.887500</td>\n",
       "    </tr>\n",
       "    <tr>\n",
       "      <th>5</th>\n",
       "      <td>0.995244</td>\n",
       "      <td>0.900000</td>\n",
       "    </tr>\n",
       "    <tr>\n",
       "      <th>6</th>\n",
       "      <td>1.000000</td>\n",
       "      <td>0.887500</td>\n",
       "    </tr>\n",
       "  </tbody>\n",
       "</table>\n",
       "</div>"
      ],
      "text/plain": [
       "   Training  Validation\n",
       "0  0.881960    0.905660\n",
       "1  0.878184    0.900000\n",
       "2  0.918578    0.898089\n",
       "3  1.000000    0.888158\n",
       "4  1.000000    0.887500\n",
       "5  0.995244    0.900000\n",
       "6  1.000000    0.887500"
      ]
     },
     "execution_count": 77,
     "metadata": {},
     "output_type": "execute_result"
    }
   ],
   "source": [
    "# Create DF with validation/trainign accuracy score\n",
    "g3 = {'Training': [(lr_precision_score_train), (logreg2_precision_score_train), (knn_precision_score_train), (dt_precision_score_train), (clf_precision_score_train), (grid_clf_precision_score_train), (svm_precision_score_train)], 'Validation': [(lr_precision_score_val), (logreg2_precision_score_val), (knn_precision_score_val), (dt_precision_score_val), (clf_precision_score_val), (grid_clf_precision_score_val), (svm_precision_score_val)]}\n",
    "train_val_precision = pd.DataFrame(data=g3)\n",
    "train_val_precision\n"
   ]
  },
  {
   "cell_type": "code",
   "execution_count": 78,
   "metadata": {},
   "outputs": [
    {
     "name": "stderr",
     "output_type": "stream",
     "text": [
      "<ipython-input-78-f1bc55572cbb>:5: UserWarning: FixedFormatter should only be used together with FixedLocator\n",
      "  g3.set_xticklabels(['logistic regression', 'logistic regression', ' SMOTE logistic regression', 'KNN', 'Decision Tree', 'XG Boost', 'XG Boost Tuned', 'Support Vector Machine'])\n"
     ]
    },
    {
     "data": {
      "text/plain": [
       "[Text(-1.0, 0, 'logistic regression'),\n",
       " Text(0.0, 0, 'logistic regression'),\n",
       " Text(1.0, 0, ' SMOTE logistic regression'),\n",
       " Text(2.0, 0, 'KNN'),\n",
       " Text(3.0, 0, 'Decision Tree'),\n",
       " Text(4.0, 0, 'XG Boost'),\n",
       " Text(5.0, 0, 'XG Boost Tuned'),\n",
       " Text(6.0, 0, 'Support Vector Machine'),\n",
       " Text(7.0, 0, '')]"
      ]
     },
     "execution_count": 78,
     "metadata": {},
     "output_type": "execute_result"
    },
    {
     "data": {
      "image/png": "[encoded data removed]",
      "text/plain": [
       "<Figure size 432x288 with 1 Axes>"
      ]
     },
     "metadata": {
      "needs_background": "light"
     },
     "output_type": "display_data"
    }
   ],
   "source": [
    "# create seaborn double line graph\n",
    "g3 = sns.lineplot(data=train_val_accuracy)\n",
    "plt.xticks(rotation = 60)\n",
    "g3.set(title='Precision Score')\n",
    "g3.set_xticklabels(['logistic regression', 'logistic regression', ' SMOTE logistic regression', 'KNN', 'Decision Tree', 'XG Boost', 'XG Boost Tuned', 'Support Vector Machine'])"
   ]
  },
  {
   "cell_type": "code",
   "execution_count": 79,
   "metadata": {},
   "outputs": [
    {
     "data": {
      "text/plain": [
       "0.9185779816513762"
      ]
     },
     "execution_count": 79,
     "metadata": {},
     "output_type": "execute_result"
    }
   ],
   "source": [
    "# KNN precision score train\n",
    "knn_precision_score_train"
   ]
  },
  {
   "cell_type": "code",
   "execution_count": 80,
   "metadata": {},
   "outputs": [
    {
     "data": {
      "text/plain": [
       "0.8980891719745223"
      ]
     },
     "execution_count": 80,
     "metadata": {},
     "output_type": "execute_result"
    }
   ],
   "source": [
    "# KNN precision score validation\n",
    "knn_precision_score_val"
   ]
  },
  {
   "cell_type": "code",
   "execution_count": 81,
   "metadata": {},
   "outputs": [
    {
     "data": {
      "text/plain": [
       "0.020488809676853847"
      ]
     },
     "execution_count": 81,
     "metadata": {},
     "output_type": "execute_result"
    }
   ],
   "source": [
    "knn_diff = knn_precision_score_train - knn_precision_score_val\n",
    "knn_diff"
   ]
  },
  {
   "cell_type": "code",
   "execution_count": 82,
   "metadata": {},
   "outputs": [
    {
     "data": {
      "text/plain": [
       "0.8819599109131403"
      ]
     },
     "execution_count": 82,
     "metadata": {},
     "output_type": "execute_result"
    }
   ],
   "source": [
    "# lr precision score train\n",
    "lr_precision_score_train"
   ]
  },
  {
   "cell_type": "code",
   "execution_count": 83,
   "metadata": {},
   "outputs": [
    {
     "data": {
      "text/plain": [
       "0.9056603773584906"
      ]
     },
     "execution_count": 83,
     "metadata": {},
     "output_type": "execute_result"
    }
   ],
   "source": [
    "# lr precision score val\n",
    "lr_precision_score_val"
   ]
  },
  {
   "cell_type": "code",
   "execution_count": 84,
   "metadata": {},
   "outputs": [
    {
     "data": {
      "text/plain": [
       "0.023700466445350288"
      ]
     },
     "execution_count": 84,
     "metadata": {},
     "output_type": "execute_result"
    }
   ],
   "source": [
    "lr_diff = lr_precision_score_val - lr_precision_score_train\n",
    "lr_diff"
   ]
  },
  {
   "cell_type": "code",
   "execution_count": 85,
   "metadata": {},
   "outputs": [],
   "source": [
    "# lr has a higher differnce"
   ]
  },
  {
   "cell_type": "code",
   "execution_count": 86,
   "metadata": {},
   "outputs": [
    {
     "data": {
      "text/html": [
       "<div>\n",
       "<style scoped>\n",
       "    .dataframe tbody tr th:only-of-type {\n",
       "        vertical-align: middle;\n",
       "    }\n",
       "\n",
       "    .dataframe tbody tr th {\n",
       "        vertical-align: top;\n",
       "    }\n",
       "\n",
       "    .dataframe thead th {\n",
       "        text-align: right;\n",
       "    }\n",
       "</style>\n",
       "<table border=\"1\" class=\"dataframe\">\n",
       "  <thead>\n",
       "    <tr style=\"text-align: right;\">\n",
       "      <th></th>\n",
       "      <th>Avg Distance</th>\n",
       "      <th>gir</th>\n",
       "      <th>Average Scrambling</th>\n",
       "      <th>Average SG Total</th>\n",
       "    </tr>\n",
       "  </thead>\n",
       "  <tbody>\n",
       "    <tr>\n",
       "      <th>0</th>\n",
       "      <td>291.5</td>\n",
       "      <td>73.51</td>\n",
       "      <td>60.67</td>\n",
       "      <td>1.153</td>\n",
       "    </tr>\n",
       "  </tbody>\n",
       "</table>\n",
       "</div>"
      ],
      "text/plain": [
       "   Avg Distance    gir  Average Scrambling  Average SG Total\n",
       "0         291.5  73.51               60.67             1.153"
      ]
     },
     "execution_count": 86,
     "metadata": {},
     "output_type": "execute_result"
    }
   ],
   "source": [
    "X.head(1)"
   ]
  },
  {
   "cell_type": "markdown",
   "metadata": {},
   "source": [
    "### Corelation graphs between Money and Features"
   ]
  },
  {
   "cell_type": "code",
   "execution_count": 105,
   "metadata": {},
   "outputs": [
    {
     "data": {
      "image/png": "[encoded data removed]",
      "text/plain": [
       "<Figure size 432x288 with 1 Axes>"
      ]
     },
     "metadata": {},
     "output_type": "display_data"
    }
   ],
   "source": [
    "with sns.axes_style(\"darkgrid\"):   \n",
    "    ax = sns.regplot(x=\"Avg Distance\", y=\"Money\", data=df, scatter_kws={'s':10})"
   ]
  },
  {
   "cell_type": "code",
   "execution_count": 106,
   "metadata": {},
   "outputs": [
    {
     "data": {
      "image/png": "[encoded data removed]",
      "text/plain": [
       "<Figure size 432x288 with 1 Axes>"
      ]
     },
     "metadata": {},
     "output_type": "display_data"
    }
   ],
   "source": [
    "with sns.axes_style(\"darkgrid\"):    \n",
    "    ax = sns.regplot(x=\"gir\", y=\"Money\", data=df, scatter_kws={'s':10}).set_title('Money and gir')"
   ]
  },
  {
   "cell_type": "code",
   "execution_count": 107,
   "metadata": {},
   "outputs": [
    {
     "data": {
      "image/png": "[encoded data removed]",
      "text/plain": [
       "<Figure size 432x288 with 1 Axes>"
      ]
     },
     "metadata": {},
     "output_type": "display_data"
    }
   ],
   "source": [
    "with sns.axes_style(\"darkgrid\"):\n",
    "    ax = sns.regplot(x=\"Average Scrambling\", y=\"Money\", data=df, scatter_kws={'s':10}).set_title('Money and Average Scrambling')"
   ]
  },
  {
   "cell_type": "code",
   "execution_count": 108,
   "metadata": {},
   "outputs": [
    {
     "data": {
      "image/png": "[encoded data removed]",
      "text/plain": [
       "<Figure size 432x288 with 1 Axes>"
      ]
     },
     "metadata": {},
     "output_type": "display_data"
    }
   ],
   "source": [
    "with sns.axes_style(\"darkgrid\"):\n",
    "    ax = sns.regplot(x=\"Average SG Total\", y=\"Money\", data=df, scatter_kws={'s':10}).set_title('Money and Average SG Total')\n"
   ]
  },
  {
   "cell_type": "code",
   "execution_count": 92,
   "metadata": {},
   "outputs": [],
   "source": [
    "# chuck not using player, wins, top 10, year, points.   "
   ]
  },
  {
   "cell_type": "code",
   "execution_count": 93,
   "metadata": {},
   "outputs": [
    {
     "data": {
      "text/html": [
       "<div>\n",
       "<style scoped>\n",
       "    .dataframe tbody tr th:only-of-type {\n",
       "        vertical-align: middle;\n",
       "    }\n",
       "\n",
       "    .dataframe tbody tr th {\n",
       "        vertical-align: top;\n",
       "    }\n",
       "\n",
       "    .dataframe thead th {\n",
       "        text-align: right;\n",
       "    }\n",
       "</style>\n",
       "<table border=\"1\" class=\"dataframe\">\n",
       "  <thead>\n",
       "    <tr style=\"text-align: right;\">\n",
       "      <th></th>\n",
       "      <th>Rounds</th>\n",
       "      <th>Fairway Percentage</th>\n",
       "      <th>Year</th>\n",
       "      <th>Avg Distance</th>\n",
       "      <th>gir</th>\n",
       "      <th>Average Putts</th>\n",
       "      <th>Average Scrambling</th>\n",
       "      <th>Average Score</th>\n",
       "      <th>Wins</th>\n",
       "      <th>Top 10</th>\n",
       "      <th>Average SG Putts</th>\n",
       "      <th>Average SG Total</th>\n",
       "      <th>SG:OTT</th>\n",
       "      <th>SG:APR</th>\n",
       "      <th>SG:ARG</th>\n",
       "      <th>Money</th>\n",
       "      <th>player_name</th>\n",
       "    </tr>\n",
       "  </thead>\n",
       "  <tbody>\n",
       "    <tr>\n",
       "      <th>1161</th>\n",
       "      <td>NaN</td>\n",
       "      <td>NaN</td>\n",
       "      <td>2012</td>\n",
       "      <td>NaN</td>\n",
       "      <td>NaN</td>\n",
       "      <td>NaN</td>\n",
       "      <td>NaN</td>\n",
       "      <td>NaN</td>\n",
       "      <td>NaN</td>\n",
       "      <td>NaN</td>\n",
       "      <td>NaN</td>\n",
       "      <td>NaN</td>\n",
       "      <td>NaN</td>\n",
       "      <td>NaN</td>\n",
       "      <td>NaN</td>\n",
       "      <td>NaN</td>\n",
       "      <td>Henrik Stenson</td>\n",
       "    </tr>\n",
       "    <tr>\n",
       "      <th>935</th>\n",
       "      <td>14.0</td>\n",
       "      <td>5.96</td>\n",
       "      <td>2013</td>\n",
       "      <td>1.4</td>\n",
       "      <td>6.59</td>\n",
       "      <td>0.61</td>\n",
       "      <td>-1.76</td>\n",
       "      <td>-0.991</td>\n",
       "      <td>0.0</td>\n",
       "      <td>5.0</td>\n",
       "      <td>-0.101</td>\n",
       "      <td>0.703</td>\n",
       "      <td>0.367</td>\n",
       "      <td>0.479</td>\n",
       "      <td>-0.041</td>\n",
       "      <td>5597123.0</td>\n",
       "      <td>Henrik Stenson</td>\n",
       "    </tr>\n",
       "    <tr>\n",
       "      <th>765</th>\n",
       "      <td>-9.0</td>\n",
       "      <td>-1.31</td>\n",
       "      <td>2014</td>\n",
       "      <td>2.3</td>\n",
       "      <td>-2.93</td>\n",
       "      <td>-0.02</td>\n",
       "      <td>-5.45</td>\n",
       "      <td>0.918</td>\n",
       "      <td>0.0</td>\n",
       "      <td>-3.0</td>\n",
       "      <td>-0.174</td>\n",
       "      <td>-0.626</td>\n",
       "      <td>-0.060</td>\n",
       "      <td>-0.201</td>\n",
       "      <td>-0.192</td>\n",
       "      <td>-4493995.0</td>\n",
       "      <td>Henrik Stenson</td>\n",
       "    </tr>\n",
       "    <tr>\n",
       "      <th>579</th>\n",
       "      <td>7.0</td>\n",
       "      <td>1.13</td>\n",
       "      <td>2015</td>\n",
       "      <td>3.2</td>\n",
       "      <td>4.49</td>\n",
       "      <td>-0.02</td>\n",
       "      <td>10.41</td>\n",
       "      <td>-0.812</td>\n",
       "      <td>0.0</td>\n",
       "      <td>1.0</td>\n",
       "      <td>0.606</td>\n",
       "      <td>1.218</td>\n",
       "      <td>-0.202</td>\n",
       "      <td>0.669</td>\n",
       "      <td>0.146</td>\n",
       "      <td>2860835.0</td>\n",
       "      <td>Henrik Stenson</td>\n",
       "    </tr>\n",
       "    <tr>\n",
       "      <th>0</th>\n",
       "      <td>-3.0</td>\n",
       "      <td>5.28</td>\n",
       "      <td>2018</td>\n",
       "      <td>-4.9</td>\n",
       "      <td>-0.01</td>\n",
       "      <td>0.06</td>\n",
       "      <td>-1.57</td>\n",
       "      <td>0.263</td>\n",
       "      <td>0.0</td>\n",
       "      <td>1.0</td>\n",
       "      <td>-0.643</td>\n",
       "      <td>-1.057</td>\n",
       "      <td>-0.021</td>\n",
       "      <td>-0.284</td>\n",
       "      <td>-0.109</td>\n",
       "      <td>-2074583.0</td>\n",
       "      <td>Henrik Stenson</td>\n",
       "    </tr>\n",
       "    <tr>\n",
       "      <th>...</th>\n",
       "      <td>...</td>\n",
       "      <td>...</td>\n",
       "      <td>...</td>\n",
       "      <td>...</td>\n",
       "      <td>...</td>\n",
       "      <td>...</td>\n",
       "      <td>...</td>\n",
       "      <td>...</td>\n",
       "      <td>...</td>\n",
       "      <td>...</td>\n",
       "      <td>...</td>\n",
       "      <td>...</td>\n",
       "      <td>...</td>\n",
       "      <td>...</td>\n",
       "      <td>...</td>\n",
       "      <td>...</td>\n",
       "      <td>...</td>\n",
       "    </tr>\n",
       "    <tr>\n",
       "      <th>1647</th>\n",
       "      <td>NaN</td>\n",
       "      <td>NaN</td>\n",
       "      <td>2010</td>\n",
       "      <td>NaN</td>\n",
       "      <td>NaN</td>\n",
       "      <td>NaN</td>\n",
       "      <td>NaN</td>\n",
       "      <td>NaN</td>\n",
       "      <td>NaN</td>\n",
       "      <td>NaN</td>\n",
       "      <td>NaN</td>\n",
       "      <td>NaN</td>\n",
       "      <td>NaN</td>\n",
       "      <td>NaN</td>\n",
       "      <td>NaN</td>\n",
       "      <td>NaN</td>\n",
       "      <td>Brett Wetterich</td>\n",
       "    </tr>\n",
       "    <tr>\n",
       "      <th>1656</th>\n",
       "      <td>NaN</td>\n",
       "      <td>NaN</td>\n",
       "      <td>2010</td>\n",
       "      <td>NaN</td>\n",
       "      <td>NaN</td>\n",
       "      <td>NaN</td>\n",
       "      <td>NaN</td>\n",
       "      <td>NaN</td>\n",
       "      <td>NaN</td>\n",
       "      <td>NaN</td>\n",
       "      <td>NaN</td>\n",
       "      <td>NaN</td>\n",
       "      <td>NaN</td>\n",
       "      <td>NaN</td>\n",
       "      <td>NaN</td>\n",
       "      <td>NaN</td>\n",
       "      <td>David Lutterus</td>\n",
       "    </tr>\n",
       "    <tr>\n",
       "      <th>1659</th>\n",
       "      <td>NaN</td>\n",
       "      <td>NaN</td>\n",
       "      <td>2010</td>\n",
       "      <td>NaN</td>\n",
       "      <td>NaN</td>\n",
       "      <td>NaN</td>\n",
       "      <td>NaN</td>\n",
       "      <td>NaN</td>\n",
       "      <td>NaN</td>\n",
       "      <td>NaN</td>\n",
       "      <td>NaN</td>\n",
       "      <td>NaN</td>\n",
       "      <td>NaN</td>\n",
       "      <td>NaN</td>\n",
       "      <td>NaN</td>\n",
       "      <td>NaN</td>\n",
       "      <td>Vance Veazey</td>\n",
       "    </tr>\n",
       "    <tr>\n",
       "      <th>1664</th>\n",
       "      <td>NaN</td>\n",
       "      <td>NaN</td>\n",
       "      <td>2010</td>\n",
       "      <td>NaN</td>\n",
       "      <td>NaN</td>\n",
       "      <td>NaN</td>\n",
       "      <td>NaN</td>\n",
       "      <td>NaN</td>\n",
       "      <td>NaN</td>\n",
       "      <td>NaN</td>\n",
       "      <td>NaN</td>\n",
       "      <td>NaN</td>\n",
       "      <td>NaN</td>\n",
       "      <td>NaN</td>\n",
       "      <td>NaN</td>\n",
       "      <td>NaN</td>\n",
       "      <td>Brenden Pappas</td>\n",
       "    </tr>\n",
       "    <tr>\n",
       "      <th>1672</th>\n",
       "      <td>NaN</td>\n",
       "      <td>NaN</td>\n",
       "      <td>2010</td>\n",
       "      <td>NaN</td>\n",
       "      <td>NaN</td>\n",
       "      <td>NaN</td>\n",
       "      <td>NaN</td>\n",
       "      <td>NaN</td>\n",
       "      <td>NaN</td>\n",
       "      <td>NaN</td>\n",
       "      <td>NaN</td>\n",
       "      <td>NaN</td>\n",
       "      <td>NaN</td>\n",
       "      <td>NaN</td>\n",
       "      <td>NaN</td>\n",
       "      <td>NaN</td>\n",
       "      <td>Rich Barcelo</td>\n",
       "    </tr>\n",
       "  </tbody>\n",
       "</table>\n",
       "<p>1674 rows × 17 columns</p>\n",
       "</div>"
      ],
      "text/plain": [
       "      Rounds  Fairway Percentage  Year  Avg Distance   gir  Average Putts  \\\n",
       "1161     NaN                 NaN  2012           NaN   NaN            NaN   \n",
       "935     14.0                5.96  2013           1.4  6.59           0.61   \n",
       "765     -9.0               -1.31  2014           2.3 -2.93          -0.02   \n",
       "579      7.0                1.13  2015           3.2  4.49          -0.02   \n",
       "0       -3.0                5.28  2018          -4.9 -0.01           0.06   \n",
       "...      ...                 ...   ...           ...   ...            ...   \n",
       "1647     NaN                 NaN  2010           NaN   NaN            NaN   \n",
       "1656     NaN                 NaN  2010           NaN   NaN            NaN   \n",
       "1659     NaN                 NaN  2010           NaN   NaN            NaN   \n",
       "1664     NaN                 NaN  2010           NaN   NaN            NaN   \n",
       "1672     NaN                 NaN  2010           NaN   NaN            NaN   \n",
       "\n",
       "      Average Scrambling  Average Score  Wins  Top 10  Average SG Putts  \\\n",
       "1161                 NaN            NaN   NaN     NaN               NaN   \n",
       "935                -1.76         -0.991   0.0     5.0            -0.101   \n",
       "765                -5.45          0.918   0.0    -3.0            -0.174   \n",
       "579                10.41         -0.812   0.0     1.0             0.606   \n",
       "0                  -1.57          0.263   0.0     1.0            -0.643   \n",
       "...                  ...            ...   ...     ...               ...   \n",
       "1647                 NaN            NaN   NaN     NaN               NaN   \n",
       "1656                 NaN            NaN   NaN     NaN               NaN   \n",
       "1659                 NaN            NaN   NaN     NaN               NaN   \n",
       "1664                 NaN            NaN   NaN     NaN               NaN   \n",
       "1672                 NaN            NaN   NaN     NaN               NaN   \n",
       "\n",
       "      Average SG Total  SG:OTT  SG:APR  SG:ARG      Money      player_name  \n",
       "1161               NaN     NaN     NaN     NaN        NaN   Henrik Stenson  \n",
       "935              0.703   0.367   0.479  -0.041  5597123.0   Henrik Stenson  \n",
       "765             -0.626  -0.060  -0.201  -0.192 -4493995.0   Henrik Stenson  \n",
       "579              1.218  -0.202   0.669   0.146  2860835.0   Henrik Stenson  \n",
       "0               -1.057  -0.021  -0.284  -0.109 -2074583.0   Henrik Stenson  \n",
       "...                ...     ...     ...     ...        ...              ...  \n",
       "1647               NaN     NaN     NaN     NaN        NaN  Brett Wetterich  \n",
       "1656               NaN     NaN     NaN     NaN        NaN   David Lutterus  \n",
       "1659               NaN     NaN     NaN     NaN        NaN     Vance Veazey  \n",
       "1664               NaN     NaN     NaN     NaN        NaN   Brenden Pappas  \n",
       "1672               NaN     NaN     NaN     NaN        NaN     Rich Barcelo  \n",
       "\n",
       "[1674 rows x 17 columns]"
      ]
     },
     "execution_count": 93,
     "metadata": {},
     "output_type": "execute_result"
    }
   ],
   "source": [
    "player_progression = pd.DataFrame()\n",
    "for player in df['Player Name'].unique():\n",
    "    frame = df[df['Player Name'] == player]\n",
    "    frame = frame.sort_values(\"Year\")\n",
    "    year = frame.Year\n",
    "    frame = frame.select_dtypes('number').diff()\n",
    "    frame.Year = year\n",
    "    frame['player_name'] = player\n",
    "    player_progression = player_progression.append(frame)\n",
    "player_progression"
   ]
  },
  {
   "cell_type": "markdown",
   "metadata": {},
   "source": [
    "### Model Description"
   ]
  },
  {
   "cell_type": "markdown",
   "metadata": {},
   "source": [
    "Precision score is used to evaluate the model because it is least sensitive to false positives.  A false positive will result in sponsering a player who ends up preforming poorly.  The KNN model has the best precision score with the least differnce between training and validation score.  And has a precision test score of 89.9%\n",
    "The model predicts the amount of money a player will make based on their Fairway Percentage, Avg Distance, gir, Average Scrambling, and Average SG Total.  Money is set to contain players who make greater than $500000.\n",
    "\n"
   ]
  }
 ],
 "metadata": {
  "kernelspec": {
   "display_name": "Python 3",
   "language": "python",
   "name": "python3"
  },
  "language_info": {
   "codemirror_mode": {
    "name": "ipython",
    "version": 3
   },
   "file_extension": ".py",
   "mimetype": "text/x-python",
   "name": "python",
   "nbconvert_exporter": "python",
   "pygments_lexer": "ipython3",
   "version": "3.8.5"
  }
 },
 "nbformat": 4,
 "nbformat_minor": 4
}
