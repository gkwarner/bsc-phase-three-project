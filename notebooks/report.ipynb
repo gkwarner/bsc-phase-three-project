{
 "cells": [
  {
   "cell_type": "markdown",
   "id": "f52f8e21-dda8-4cdf-b64e-7929c1fb6a56",
   "metadata": {},
   "source": [
    "### Imports"
   ]
  },
  {
   "cell_type": "code",
   "execution_count": 1,
   "id": "10a4c44e-a219-4a7a-aaa3-079780c2e55c",
   "metadata": {},
   "outputs": [],
   "source": [
    "#imports\n",
    "import pandas as pd\n",
    "import numpy as np\n",
    "from sklearn.model_selection import train_test_split, GridSearchCV, cross_val_score\n",
    "from sklearn.linear_model import LogisticRegression\n",
    "from sklearn.preprocessing import StandardScaler, OneHotEncoder\n",
    "from sklearn.impute import SimpleImputer\n",
    "from sklearn.tree import DecisionTreeClassifier\n",
    "from sklearn.ensemble import RandomForestClassifier\n",
    "from sklearn.metrics import accuracy_score\n",
    "from sklearn.pipeline import Pipeline, make_pipeline\n",
    "from sklearn.compose import make_column_selector, make_column_transformer\n",
    "import matplotlib.pyplot as plt\n",
    "import seaborn as sns\n",
    "from imblearn import under_sampling, over_sampling\n",
    "from imblearn.over_sampling import SMOTE"
   ]
  },
  {
   "cell_type": "code",
   "execution_count": 2,
   "id": "35f83058-4925-4205-bd58-631f879ffcbf",
   "metadata": {},
   "outputs": [
    {
     "data": {
      "text/html": [
       "<div>\n",
       "<style scoped>\n",
       "    .dataframe tbody tr th:only-of-type {\n",
       "        vertical-align: middle;\n",
       "    }\n",
       "\n",
       "    .dataframe tbody tr th {\n",
       "        vertical-align: top;\n",
       "    }\n",
       "\n",
       "    .dataframe thead th {\n",
       "        text-align: right;\n",
       "    }\n",
       "</style>\n",
       "<table border=\"1\" class=\"dataframe\">\n",
       "  <thead>\n",
       "    <tr style=\"text-align: right;\">\n",
       "      <th></th>\n",
       "      <th>Player Name</th>\n",
       "      <th>Rounds</th>\n",
       "      <th>Fairway Percentage</th>\n",
       "      <th>Year</th>\n",
       "      <th>Avg Distance</th>\n",
       "      <th>gir</th>\n",
       "      <th>Average Putts</th>\n",
       "      <th>Average Scrambling</th>\n",
       "      <th>Average Score</th>\n",
       "      <th>Points</th>\n",
       "      <th>Wins</th>\n",
       "      <th>Top 10</th>\n",
       "      <th>Average SG Putts</th>\n",
       "      <th>Average SG Total</th>\n",
       "      <th>SG:OTT</th>\n",
       "      <th>SG:APR</th>\n",
       "      <th>SG:ARG</th>\n",
       "      <th>Money</th>\n",
       "    </tr>\n",
       "  </thead>\n",
       "  <tbody>\n",
       "    <tr>\n",
       "      <th>0</th>\n",
       "      <td>Henrik Stenson</td>\n",
       "      <td>60.0</td>\n",
       "      <td>75.19</td>\n",
       "      <td>2018</td>\n",
       "      <td>291.5</td>\n",
       "      <td>73.51</td>\n",
       "      <td>29.93</td>\n",
       "      <td>60.67</td>\n",
       "      <td>69.617</td>\n",
       "      <td>868</td>\n",
       "      <td>NaN</td>\n",
       "      <td>5.0</td>\n",
       "      <td>-0.207</td>\n",
       "      <td>1.153</td>\n",
       "      <td>0.427</td>\n",
       "      <td>0.960</td>\n",
       "      <td>-0.027</td>\n",
       "      <td>$2,680,487</td>\n",
       "    </tr>\n",
       "    <tr>\n",
       "      <th>1</th>\n",
       "      <td>Ryan Armour</td>\n",
       "      <td>109.0</td>\n",
       "      <td>73.58</td>\n",
       "      <td>2018</td>\n",
       "      <td>283.5</td>\n",
       "      <td>68.22</td>\n",
       "      <td>29.31</td>\n",
       "      <td>60.13</td>\n",
       "      <td>70.758</td>\n",
       "      <td>1,006</td>\n",
       "      <td>1.0</td>\n",
       "      <td>3.0</td>\n",
       "      <td>-0.058</td>\n",
       "      <td>0.337</td>\n",
       "      <td>-0.012</td>\n",
       "      <td>0.213</td>\n",
       "      <td>0.194</td>\n",
       "      <td>$2,485,203</td>\n",
       "    </tr>\n",
       "    <tr>\n",
       "      <th>2</th>\n",
       "      <td>Chez Reavie</td>\n",
       "      <td>93.0</td>\n",
       "      <td>72.24</td>\n",
       "      <td>2018</td>\n",
       "      <td>286.5</td>\n",
       "      <td>68.67</td>\n",
       "      <td>29.12</td>\n",
       "      <td>62.27</td>\n",
       "      <td>70.432</td>\n",
       "      <td>1,020</td>\n",
       "      <td>NaN</td>\n",
       "      <td>3.0</td>\n",
       "      <td>0.192</td>\n",
       "      <td>0.674</td>\n",
       "      <td>0.183</td>\n",
       "      <td>0.437</td>\n",
       "      <td>-0.137</td>\n",
       "      <td>$2,700,018</td>\n",
       "    </tr>\n",
       "    <tr>\n",
       "      <th>3</th>\n",
       "      <td>Ryan Moore</td>\n",
       "      <td>78.0</td>\n",
       "      <td>71.94</td>\n",
       "      <td>2018</td>\n",
       "      <td>289.2</td>\n",
       "      <td>68.80</td>\n",
       "      <td>29.17</td>\n",
       "      <td>64.16</td>\n",
       "      <td>70.015</td>\n",
       "      <td>795</td>\n",
       "      <td>NaN</td>\n",
       "      <td>5.0</td>\n",
       "      <td>-0.271</td>\n",
       "      <td>0.941</td>\n",
       "      <td>0.406</td>\n",
       "      <td>0.532</td>\n",
       "      <td>0.273</td>\n",
       "      <td>$1,986,608</td>\n",
       "    </tr>\n",
       "    <tr>\n",
       "      <th>4</th>\n",
       "      <td>Brian Stuard</td>\n",
       "      <td>103.0</td>\n",
       "      <td>71.44</td>\n",
       "      <td>2018</td>\n",
       "      <td>278.9</td>\n",
       "      <td>67.12</td>\n",
       "      <td>29.11</td>\n",
       "      <td>59.23</td>\n",
       "      <td>71.038</td>\n",
       "      <td>421</td>\n",
       "      <td>NaN</td>\n",
       "      <td>3.0</td>\n",
       "      <td>0.164</td>\n",
       "      <td>0.062</td>\n",
       "      <td>-0.227</td>\n",
       "      <td>0.099</td>\n",
       "      <td>0.026</td>\n",
       "      <td>$1,089,763</td>\n",
       "    </tr>\n",
       "  </tbody>\n",
       "</table>\n",
       "</div>"
      ],
      "text/plain": [
       "      Player Name  Rounds  Fairway Percentage  Year  Avg Distance    gir  \\\n",
       "0  Henrik Stenson    60.0               75.19  2018         291.5  73.51   \n",
       "1     Ryan Armour   109.0               73.58  2018         283.5  68.22   \n",
       "2     Chez Reavie    93.0               72.24  2018         286.5  68.67   \n",
       "3      Ryan Moore    78.0               71.94  2018         289.2  68.80   \n",
       "4    Brian Stuard   103.0               71.44  2018         278.9  67.12   \n",
       "\n",
       "   Average Putts  Average Scrambling  Average Score Points  Wins  Top 10  \\\n",
       "0          29.93               60.67         69.617    868   NaN     5.0   \n",
       "1          29.31               60.13         70.758  1,006   1.0     3.0   \n",
       "2          29.12               62.27         70.432  1,020   NaN     3.0   \n",
       "3          29.17               64.16         70.015    795   NaN     5.0   \n",
       "4          29.11               59.23         71.038    421   NaN     3.0   \n",
       "\n",
       "   Average SG Putts  Average SG Total  SG:OTT  SG:APR  SG:ARG       Money  \n",
       "0            -0.207             1.153   0.427   0.960  -0.027  $2,680,487  \n",
       "1            -0.058             0.337  -0.012   0.213   0.194  $2,485,203  \n",
       "2             0.192             0.674   0.183   0.437  -0.137  $2,700,018  \n",
       "3            -0.271             0.941   0.406   0.532   0.273  $1,986,608  \n",
       "4             0.164             0.062  -0.227   0.099   0.026  $1,089,763  "
      ]
     },
     "execution_count": 2,
     "metadata": {},
     "output_type": "execute_result"
    }
   ],
   "source": [
    "# import data\n",
    "df = pd.read_csv('/Users/gabrielwarner/Downloads/pgaTourData.csv')\n",
    "df.head()"
   ]
  },
  {
   "cell_type": "markdown",
   "id": "984587da-e105-4384-86b0-dad18184f4fa",
   "metadata": {},
   "source": [
    "### Data Cleaning"
   ]
  },
  {
   "cell_type": "code",
   "execution_count": 3,
   "id": "b7b38624-ad2b-4df7-b276-7ad6fe9e5ad7",
   "metadata": {},
   "outputs": [],
   "source": [
    "# Replace NaN with 0 in Top 10 \n",
    "df['Top 10'].fillna(0, inplace=True)\n",
    "df['Top 10'] = df['Top 10'].astype(int)\n",
    "\n",
    "# Replace NaN with 0 in # of wins\n",
    "df['Wins'].fillna(0, inplace=True)\n",
    "df['Wins'] = df['Wins'].astype(int)\n",
    "\n",
    "# Drop NaN values \n",
    "df.dropna(axis = 0, inplace=True)\n",
    "# Change Rounds to int\n",
    "df['Rounds'] = df['Rounds'].astype(int)\n",
    "\n",
    "# Change Points to int \n",
    "df['Points'] = df['Points'].apply(lambda x: x.replace(',',''))\n",
    "df['Points'] = df['Points'].astype(int)\n",
    "\n",
    "# Remove the $ and commas in money \n",
    "df['Money'] = df['Money'].apply(lambda x: x.replace('$',''))\n",
    "df['Money'] = df['Money'].apply(lambda x: x.replace(',',''))\n",
    "df['Money'] = df['Money'].astype(float)\n"
   ]
  },
  {
   "cell_type": "code",
   "execution_count": null,
   "id": "6d8f491e-82bb-416d-a8d2-6507a1d57882",
   "metadata": {},
   "outputs": [],
   "source": []
  },
  {
   "cell_type": "code",
   "execution_count": 4,
   "id": "1e2eeec8-f8a6-44df-ad34-44d67161156b",
   "metadata": {},
   "outputs": [
    {
     "name": "stdout",
     "output_type": "stream",
     "text": [
      "<class 'pandas.core.frame.DataFrame'>\n",
      "Int64Index: 1674 entries, 0 to 1677\n",
      "Data columns (total 18 columns):\n",
      " #   Column              Non-Null Count  Dtype  \n",
      "---  ------              --------------  -----  \n",
      " 0   Player Name         1674 non-null   object \n",
      " 1   Rounds              1674 non-null   int64  \n",
      " 2   Fairway Percentage  1674 non-null   float64\n",
      " 3   Year                1674 non-null   int64  \n",
      " 4   Avg Distance        1674 non-null   float64\n",
      " 5   gir                 1674 non-null   float64\n",
      " 6   Average Putts       1674 non-null   float64\n",
      " 7   Average Scrambling  1674 non-null   float64\n",
      " 8   Average Score       1674 non-null   float64\n",
      " 9   Points              1674 non-null   int64  \n",
      " 10  Wins                1674 non-null   int64  \n",
      " 11  Top 10              1674 non-null   int64  \n",
      " 12  Average SG Putts    1674 non-null   float64\n",
      " 13  Average SG Total    1674 non-null   float64\n",
      " 14  SG:OTT              1674 non-null   float64\n",
      " 15  SG:APR              1674 non-null   float64\n",
      " 16  SG:ARG              1674 non-null   float64\n",
      " 17  Money               1674 non-null   float64\n",
      "dtypes: float64(12), int64(5), object(1)\n",
      "memory usage: 248.5+ KB\n"
     ]
    }
   ],
   "source": [
    "df.info()"
   ]
  },
  {
   "cell_type": "markdown",
   "id": "b2399353-3c02-40f6-966f-fcd54fead475",
   "metadata": {},
   "source": [
    "### Data Exploration"
   ]
  },
  {
   "cell_type": "code",
   "execution_count": 5,
   "id": "d3ce0680-d916-4c30-a5c9-a4689d1cc2b8",
   "metadata": {},
   "outputs": [
    {
     "name": "stderr",
     "output_type": "stream",
     "text": [
      "/Users/gabrielwarner/opt/anaconda3/envs/learn-env/lib/python3.8/site-packages/seaborn/distributions.py:2551: FutureWarning: `distplot` is a deprecated function and will be removed in a future version. Please adapt your code to use either `displot` (a figure-level function with similar flexibility) or `histplot` (an axes-level function for histograms).\n",
      "  warnings.warn(msg, FutureWarning)\n",
      "/Users/gabrielwarner/opt/anaconda3/envs/learn-env/lib/python3.8/site-packages/seaborn/distributions.py:2551: FutureWarning: `distplot` is a deprecated function and will be removed in a future version. Please adapt your code to use either `displot` (a figure-level function with similar flexibility) or `histplot` (an axes-level function for histograms).\n",
      "  warnings.warn(msg, FutureWarning)\n",
      "/Users/gabrielwarner/opt/anaconda3/envs/learn-env/lib/python3.8/site-packages/seaborn/distributions.py:2551: FutureWarning: `distplot` is a deprecated function and will be removed in a future version. Please adapt your code to use either `displot` (a figure-level function with similar flexibility) or `histplot` (an axes-level function for histograms).\n",
      "  warnings.warn(msg, FutureWarning)\n",
      "/Users/gabrielwarner/opt/anaconda3/envs/learn-env/lib/python3.8/site-packages/seaborn/distributions.py:2551: FutureWarning: `distplot` is a deprecated function and will be removed in a future version. Please adapt your code to use either `displot` (a figure-level function with similar flexibility) or `histplot` (an axes-level function for histograms).\n",
      "  warnings.warn(msg, FutureWarning)\n",
      "/Users/gabrielwarner/opt/anaconda3/envs/learn-env/lib/python3.8/site-packages/seaborn/distributions.py:2551: FutureWarning: `distplot` is a deprecated function and will be removed in a future version. Please adapt your code to use either `displot` (a figure-level function with similar flexibility) or `histplot` (an axes-level function for histograms).\n",
      "  warnings.warn(msg, FutureWarning)\n",
      "/Users/gabrielwarner/opt/anaconda3/envs/learn-env/lib/python3.8/site-packages/seaborn/distributions.py:2551: FutureWarning: `distplot` is a deprecated function and will be removed in a future version. Please adapt your code to use either `displot` (a figure-level function with similar flexibility) or `histplot` (an axes-level function for histograms).\n",
      "  warnings.warn(msg, FutureWarning)\n",
      "/Users/gabrielwarner/opt/anaconda3/envs/learn-env/lib/python3.8/site-packages/seaborn/distributions.py:2551: FutureWarning: `distplot` is a deprecated function and will be removed in a future version. Please adapt your code to use either `displot` (a figure-level function with similar flexibility) or `histplot` (an axes-level function for histograms).\n",
      "  warnings.warn(msg, FutureWarning)\n",
      "/Users/gabrielwarner/opt/anaconda3/envs/learn-env/lib/python3.8/site-packages/seaborn/distributions.py:2551: FutureWarning: `distplot` is a deprecated function and will be removed in a future version. Please adapt your code to use either `displot` (a figure-level function with similar flexibility) or `histplot` (an axes-level function for histograms).\n",
      "  warnings.warn(msg, FutureWarning)\n",
      "/Users/gabrielwarner/opt/anaconda3/envs/learn-env/lib/python3.8/site-packages/seaborn/distributions.py:2551: FutureWarning: `distplot` is a deprecated function and will be removed in a future version. Please adapt your code to use either `displot` (a figure-level function with similar flexibility) or `histplot` (an axes-level function for histograms).\n",
      "  warnings.warn(msg, FutureWarning)\n",
      "/Users/gabrielwarner/opt/anaconda3/envs/learn-env/lib/python3.8/site-packages/seaborn/distributions.py:2551: FutureWarning: `distplot` is a deprecated function and will be removed in a future version. Please adapt your code to use either `displot` (a figure-level function with similar flexibility) or `histplot` (an axes-level function for histograms).\n",
      "  warnings.warn(msg, FutureWarning)\n",
      "/Users/gabrielwarner/opt/anaconda3/envs/learn-env/lib/python3.8/site-packages/seaborn/distributions.py:2551: FutureWarning: `distplot` is a deprecated function and will be removed in a future version. Please adapt your code to use either `displot` (a figure-level function with similar flexibility) or `histplot` (an axes-level function for histograms).\n",
      "  warnings.warn(msg, FutureWarning)\n",
      "/Users/gabrielwarner/opt/anaconda3/envs/learn-env/lib/python3.8/site-packages/seaborn/distributions.py:2551: FutureWarning: `distplot` is a deprecated function and will be removed in a future version. Please adapt your code to use either `displot` (a figure-level function with similar flexibility) or `histplot` (an axes-level function for histograms).\n",
      "  warnings.warn(msg, FutureWarning)\n",
      "/Users/gabrielwarner/opt/anaconda3/envs/learn-env/lib/python3.8/site-packages/seaborn/distributions.py:2551: FutureWarning: `distplot` is a deprecated function and will be removed in a future version. Please adapt your code to use either `displot` (a figure-level function with similar flexibility) or `histplot` (an axes-level function for histograms).\n",
      "  warnings.warn(msg, FutureWarning)\n",
      "/Users/gabrielwarner/opt/anaconda3/envs/learn-env/lib/python3.8/site-packages/seaborn/distributions.py:2551: FutureWarning: `distplot` is a deprecated function and will be removed in a future version. Please adapt your code to use either `displot` (a figure-level function with similar flexibility) or `histplot` (an axes-level function for histograms).\n",
      "  warnings.warn(msg, FutureWarning)\n",
      "/Users/gabrielwarner/opt/anaconda3/envs/learn-env/lib/python3.8/site-packages/seaborn/distributions.py:2551: FutureWarning: `distplot` is a deprecated function and will be removed in a future version. Please adapt your code to use either `displot` (a figure-level function with similar flexibility) or `histplot` (an axes-level function for histograms).\n",
      "  warnings.warn(msg, FutureWarning)\n",
      "/Users/gabrielwarner/opt/anaconda3/envs/learn-env/lib/python3.8/site-packages/seaborn/distributions.py:2551: FutureWarning: `distplot` is a deprecated function and will be removed in a future version. Please adapt your code to use either `displot` (a figure-level function with similar flexibility) or `histplot` (an axes-level function for histograms).\n",
      "  warnings.warn(msg, FutureWarning)\n",
      "/Users/gabrielwarner/opt/anaconda3/envs/learn-env/lib/python3.8/site-packages/seaborn/distributions.py:2551: FutureWarning: `distplot` is a deprecated function and will be removed in a future version. Please adapt your code to use either `displot` (a figure-level function with similar flexibility) or `histplot` (an axes-level function for histograms).\n",
      "  warnings.warn(msg, FutureWarning)\n"
     ]
    },
    {
     "data": {
      "image/png": "[encoded data removed]",
      "text/plain": [
       "<Figure size 1440x1440 with 18 Axes>"
      ]
     },
     "metadata": {
      "needs_background": "light"
     },
     "output_type": "display_data"
    }
   ],
   "source": [
    "#Exploratory Data Analysis / looking at distrubition\n",
    "f, ax = plt.subplots(nrows = 6, ncols = 3, figsize=(20,20))\n",
    "distribution = df.loc[:,df.columns!='Player Name'].columns\n",
    "rows = 0\n",
    "cols = 0\n",
    "for i, column in enumerate(distribution):\n",
    "    p = sns.distplot(df[column], ax=ax[rows][cols])\n",
    "    cols += 1\n",
    "    if cols == 3:\n",
    "        cols = 0\n",
    "        rows += 1"
   ]
  },
  {
   "cell_type": "code",
   "execution_count": 6,
   "id": "7791e306-d4a9-466a-bd7b-64f3ff3f45be",
   "metadata": {},
   "outputs": [
    {
     "name": "stdout",
     "output_type": "stream",
     "text": [
      "Wins    0   1  2  3  4  5\n",
      "Year                     \n",
      "2010  166  21  5  0  0  0\n",
      "2011  156  25  5  0  0  0\n",
      "2012  159  26  4  1  0  0\n",
      "2013  152  24  3  0  0  1\n",
      "2014  142  29  3  2  0  0\n",
      "2015  150  29  2  1  1  0\n",
      "2016  152  28  4  1  0  0\n",
      "2017  156  30  0  3  1  0\n",
      "2018  158  26  5  3  0  0\n"
     ]
    }
   ],
   "source": [
    "#Number of wins per player\n",
    "win = df.groupby('Year')['Wins'].value_counts()\n",
    "win = win.unstack()\n",
    "win.fillna(0, inplace=True)\n",
    "\n",
    "# Converting win into ints\n",
    "win = win.astype(int)\n",
    "\n",
    "print(win)"
   ]
  },
  {
   "cell_type": "code",
   "execution_count": 7,
   "id": "88bf0d68-6ec4-4b12-ad33-d06911ac24f3",
   "metadata": {},
   "outputs": [
    {
     "name": "stdout",
     "output_type": "stream",
     "text": [
      "     Year     Player Name       Money\n",
      "647  2015   Jordan Spieth  12030465.0\n",
      "361  2017   Justin Thomas   9921560.0\n",
      "303  2017   Jordan Spieth   9433033.0\n",
      "729  2015       Jason Day   9403330.0\n",
      "520  2016  Dustin Johnson   9365185.0\n"
     ]
    }
   ],
   "source": [
    "# Who made the most money\n",
    "money_ranking = df[['Year','Player Name','Money']].copy()\n",
    "money_ranking.sort_values(by='Money', inplace=True, ascending=False)\n",
    "print(money_ranking.head())\n"
   ]
  },
  {
   "cell_type": "code",
   "execution_count": 8,
   "id": "1b3ea6df-ddba-4461-b4dd-f5ed64bde5e4",
   "metadata": {},
   "outputs": [
    {
     "name": "stdout",
     "output_type": "stream",
     "text": [
      "4910477.0\n",
      "           Money     Player Name\n",
      "Year                            \n",
      "2010   4910477.0     Matt Kuchar\n",
      "2011   6683214.0     Luke Donald\n",
      "2012   8047952.0    Rory McIlroy\n",
      "2013   8553439.0     Tiger Woods\n",
      "2014   8280096.0    Rory McIlroy\n",
      "2015  12030465.0   Jordan Spieth\n",
      "2016   9365185.0  Dustin Johnson\n",
      "2017   9921560.0   Justin Thomas\n",
      "2018   8694821.0   Justin Thomas\n"
     ]
    }
   ],
   "source": [
    "#Who made the most each year\n",
    "money_rank = money_ranking.groupby('Year')['Money'].max()\n",
    "money_rank = pd.DataFrame(money_rank)\n",
    "print(money_rank.iloc[0,0])\n",
    "\n",
    "indexs = np.arange(2010, 2018)\n",
    "names = []\n",
    "for i in range(money_rank.shape[0]):\n",
    "    temp = df.loc[df['Money'] == money_rank.iloc[i,0],'Player Name']\n",
    "    names.append(str(temp.values[0]))\n",
    "\n",
    "money_rank['Player Name'] = names\n",
    "print(money_rank)"
   ]
  },
  {
   "cell_type": "code",
   "execution_count": 9,
   "id": "0c2f9642-3e14-425f-bc1a-9cec0a80e05e",
   "metadata": {},
   "outputs": [],
   "source": [
    "#Creating a new column that has a 1 if greater than 50000\n",
    "df['Money'] = pd.to_numeric(df.Money, errors='coerce')\n",
    "df['new_money'] = df['Money'] > 500000\n",
    "df[\"new_money\"] = df[\"new_money\"].astype(int)"
   ]
  },
  {
   "cell_type": "code",
   "execution_count": 10,
   "id": "2ea7eb9e-78b9-4801-8903-a2f5c8123af9",
   "metadata": {},
   "outputs": [
    {
     "data": {
      "text/plain": [
       "<AxesSubplot:>"
      ]
     },
     "execution_count": 10,
     "metadata": {},
     "output_type": "execute_result"
    },
    {
     "data": {
      "image/png": "[encoded data removed]",
      "text/plain": [
       "<Figure size 432x288 with 2 Axes>"
      ]
     },
     "metadata": {
      "needs_background": "light"
     },
     "output_type": "display_data"
    }
   ],
   "source": [
    "#creating a heatmap to see corr\n",
    "corr = df.corr()\n",
    "sns.heatmap(corr, \n",
    "            xticklabels=corr.columns.values,\n",
    "            yticklabels=corr.columns.values,\n",
    "            cmap='coolwarm')"
   ]
  },
  {
   "cell_type": "code",
   "execution_count": 11,
   "id": "e827603b-56a8-4361-b584-caa55c034bef",
   "metadata": {},
   "outputs": [
    {
     "data": {
      "text/plain": [
       "Rounds                0.278091\n",
       "Fairway Percentage    0.016237\n",
       "Year                  0.108244\n",
       "Avg Distance          0.329295\n",
       "gir                   0.313770\n",
       "Average Putts        -0.257832\n",
       "Average Scrambling    0.317777\n",
       "Average Score        -0.746499\n",
       "Points                0.949286\n",
       "Wins                  0.721665\n",
       "Top 10                0.827215\n",
       "Average SG Putts      0.278895\n",
       "Average SG Total      0.747042\n",
       "SG:OTT                0.441912\n",
       "SG:APR                0.510740\n",
       "SG:ARG                0.278901\n",
       "Money                 1.000000\n",
       "new_money             0.445615\n",
       "Name: Money, dtype: float64"
      ]
     },
     "execution_count": 11,
     "metadata": {},
     "output_type": "execute_result"
    }
   ],
   "source": [
    "#looking at the corr\n",
    "df.corr()['Money']"
   ]
  },
  {
   "cell_type": "code",
   "execution_count": 12,
   "id": "71161515-a645-460f-8354-a5d1e9657df7",
   "metadata": {},
   "outputs": [
    {
     "name": "stdout",
     "output_type": "stream",
     "text": [
      "Year\n",
      "2010    17.187500\n",
      "2011    25.268817\n",
      "2012    23.157895\n",
      "2013    18.888889\n",
      "2014    16.477273\n",
      "2015    18.579235\n",
      "2016    20.000000\n",
      "2017    15.789474\n",
      "2018    17.187500\n",
      "dtype: float64\n"
     ]
    }
   ],
   "source": [
    "# Percentage of people who did not place in the top 10 each year\n",
    "top10 = df.groupby('Year')['Top 10'].value_counts()\n",
    "top10 = top10.unstack()\n",
    "top10.fillna(0, inplace=True)\n",
    "players = top10.apply(lambda x: np.sum(x), axis=1)\n",
    "\n",
    "no_top10 = top10[0]/players * 100\n",
    "print(no_top10)"
   ]
  },
  {
   "cell_type": "code",
   "execution_count": 13,
   "id": "0dd54804-baaf-430a-9736-1ed56a7bdae8",
   "metadata": {},
   "outputs": [
    {
     "data": {
      "text/html": [
       "<div>\n",
       "<style scoped>\n",
       "    .dataframe tbody tr th:only-of-type {\n",
       "        vertical-align: middle;\n",
       "    }\n",
       "\n",
       "    .dataframe tbody tr th {\n",
       "        vertical-align: top;\n",
       "    }\n",
       "\n",
       "    .dataframe thead th {\n",
       "        text-align: right;\n",
       "    }\n",
       "</style>\n",
       "<table border=\"1\" class=\"dataframe\">\n",
       "  <thead>\n",
       "    <tr style=\"text-align: right;\">\n",
       "      <th></th>\n",
       "      <th>Player Name</th>\n",
       "      <th>Rounds</th>\n",
       "      <th>Fairway Percentage</th>\n",
       "      <th>Year</th>\n",
       "      <th>Avg Distance</th>\n",
       "      <th>gir</th>\n",
       "      <th>Average Putts</th>\n",
       "      <th>Average Scrambling</th>\n",
       "      <th>Average Score</th>\n",
       "      <th>Points</th>\n",
       "      <th>Wins</th>\n",
       "      <th>Top 10</th>\n",
       "      <th>Average SG Putts</th>\n",
       "      <th>Average SG Total</th>\n",
       "      <th>SG:OTT</th>\n",
       "      <th>SG:APR</th>\n",
       "      <th>SG:ARG</th>\n",
       "      <th>Money</th>\n",
       "      <th>new_money</th>\n",
       "    </tr>\n",
       "  </thead>\n",
       "  <tbody>\n",
       "    <tr>\n",
       "      <th>997</th>\n",
       "      <td>Tiger Woods</td>\n",
       "      <td>61</td>\n",
       "      <td>62.50</td>\n",
       "      <td>2013</td>\n",
       "      <td>293.2</td>\n",
       "      <td>67.59</td>\n",
       "      <td>28.85</td>\n",
       "      <td>60.00</td>\n",
       "      <td>68.944</td>\n",
       "      <td>3059</td>\n",
       "      <td>5</td>\n",
       "      <td>7</td>\n",
       "      <td>0.426</td>\n",
       "      <td>2.064</td>\n",
       "      <td>-0.142</td>\n",
       "      <td>1.533</td>\n",
       "      <td>0.247</td>\n",
       "      <td>8553439.0</td>\n",
       "      <td>1</td>\n",
       "    </tr>\n",
       "    <tr>\n",
       "      <th>647</th>\n",
       "      <td>Jordan Spieth</td>\n",
       "      <td>91</td>\n",
       "      <td>62.91</td>\n",
       "      <td>2015</td>\n",
       "      <td>291.8</td>\n",
       "      <td>67.87</td>\n",
       "      <td>27.82</td>\n",
       "      <td>65.03</td>\n",
       "      <td>68.938</td>\n",
       "      <td>4169</td>\n",
       "      <td>4</td>\n",
       "      <td>14</td>\n",
       "      <td>0.571</td>\n",
       "      <td>2.154</td>\n",
       "      <td>0.494</td>\n",
       "      <td>0.618</td>\n",
       "      <td>0.471</td>\n",
       "      <td>12030465.0</td>\n",
       "      <td>1</td>\n",
       "    </tr>\n",
       "    <tr>\n",
       "      <th>361</th>\n",
       "      <td>Justin Thomas</td>\n",
       "      <td>86</td>\n",
       "      <td>54.09</td>\n",
       "      <td>2017</td>\n",
       "      <td>309.3</td>\n",
       "      <td>67.33</td>\n",
       "      <td>28.29</td>\n",
       "      <td>60.54</td>\n",
       "      <td>69.359</td>\n",
       "      <td>2689</td>\n",
       "      <td>4</td>\n",
       "      <td>9</td>\n",
       "      <td>0.332</td>\n",
       "      <td>1.724</td>\n",
       "      <td>0.452</td>\n",
       "      <td>0.738</td>\n",
       "      <td>0.289</td>\n",
       "      <td>9921560.0</td>\n",
       "      <td>1</td>\n",
       "    </tr>\n",
       "    <tr>\n",
       "      <th>141</th>\n",
       "      <td>Bubba Watson</td>\n",
       "      <td>90</td>\n",
       "      <td>58.27</td>\n",
       "      <td>2018</td>\n",
       "      <td>313.1</td>\n",
       "      <td>68.21</td>\n",
       "      <td>29.33</td>\n",
       "      <td>56.64</td>\n",
       "      <td>70.384</td>\n",
       "      <td>1879</td>\n",
       "      <td>3</td>\n",
       "      <td>5</td>\n",
       "      <td>0.001</td>\n",
       "      <td>0.555</td>\n",
       "      <td>0.780</td>\n",
       "      <td>0.005</td>\n",
       "      <td>-0.231</td>\n",
       "      <td>5793748.0</td>\n",
       "      <td>1</td>\n",
       "    </tr>\n",
       "    <tr>\n",
       "      <th>137</th>\n",
       "      <td>Justin Thomas</td>\n",
       "      <td>91</td>\n",
       "      <td>58.41</td>\n",
       "      <td>2018</td>\n",
       "      <td>311.8</td>\n",
       "      <td>68.77</td>\n",
       "      <td>28.33</td>\n",
       "      <td>62.47</td>\n",
       "      <td>69.118</td>\n",
       "      <td>2634</td>\n",
       "      <td>3</td>\n",
       "      <td>8</td>\n",
       "      <td>0.272</td>\n",
       "      <td>1.835</td>\n",
       "      <td>0.408</td>\n",
       "      <td>0.844</td>\n",
       "      <td>0.311</td>\n",
       "      <td>8694821.0</td>\n",
       "      <td>1</td>\n",
       "    </tr>\n",
       "  </tbody>\n",
       "</table>\n",
       "</div>"
      ],
      "text/plain": [
       "       Player Name  Rounds  Fairway Percentage  Year  Avg Distance    gir  \\\n",
       "997    Tiger Woods      61               62.50  2013         293.2  67.59   \n",
       "647  Jordan Spieth      91               62.91  2015         291.8  67.87   \n",
       "361  Justin Thomas      86               54.09  2017         309.3  67.33   \n",
       "141   Bubba Watson      90               58.27  2018         313.1  68.21   \n",
       "137  Justin Thomas      91               58.41  2018         311.8  68.77   \n",
       "\n",
       "     Average Putts  Average Scrambling  Average Score  Points  Wins  Top 10  \\\n",
       "997          28.85               60.00         68.944    3059     5       7   \n",
       "647          27.82               65.03         68.938    4169     4      14   \n",
       "361          28.29               60.54         69.359    2689     4       9   \n",
       "141          29.33               56.64         70.384    1879     3       5   \n",
       "137          28.33               62.47         69.118    2634     3       8   \n",
       "\n",
       "     Average SG Putts  Average SG Total  SG:OTT  SG:APR  SG:ARG       Money  \\\n",
       "997             0.426             2.064  -0.142   1.533   0.247   8553439.0   \n",
       "647             0.571             2.154   0.494   0.618   0.471  12030465.0   \n",
       "361             0.332             1.724   0.452   0.738   0.289   9921560.0   \n",
       "141             0.001             0.555   0.780   0.005  -0.231   5793748.0   \n",
       "137             0.272             1.835   0.408   0.844   0.311   8694821.0   \n",
       "\n",
       "     new_money  \n",
       "997          1  \n",
       "647          1  \n",
       "361          1  \n",
       "141          1  \n",
       "137          1  "
      ]
     },
     "execution_count": 13,
     "metadata": {},
     "output_type": "execute_result"
    }
   ],
   "source": [
    "# Defining the players that had a win or more in each year \n",
    "champion = df.loc[df['Wins'] >= 1, :]\n",
    "champion =champion.sort_values(by=\"Wins\", ascending=False)\n",
    "champion.head()"
   ]
  },
  {
   "cell_type": "code",
   "execution_count": 14,
   "id": "0e3d2d58-08ba-4cd4-88af-81ee6f787c3e",
   "metadata": {},
   "outputs": [
    {
     "data": {
      "text/html": [
       "<div>\n",
       "<style scoped>\n",
       "    .dataframe tbody tr th:only-of-type {\n",
       "        vertical-align: middle;\n",
       "    }\n",
       "\n",
       "    .dataframe tbody tr th {\n",
       "        vertical-align: top;\n",
       "    }\n",
       "\n",
       "    .dataframe thead th {\n",
       "        text-align: right;\n",
       "    }\n",
       "</style>\n",
       "<table border=\"1\" class=\"dataframe\">\n",
       "  <thead>\n",
       "    <tr style=\"text-align: right;\">\n",
       "      <th></th>\n",
       "      <th>Player Name</th>\n",
       "      <th>Rounds</th>\n",
       "      <th>Fairway Percentage</th>\n",
       "      <th>Year</th>\n",
       "      <th>Avg Distance</th>\n",
       "      <th>gir</th>\n",
       "      <th>Average Putts</th>\n",
       "      <th>Average Scrambling</th>\n",
       "      <th>Average Score</th>\n",
       "      <th>Points</th>\n",
       "      <th>Wins</th>\n",
       "      <th>Top 10</th>\n",
       "      <th>Average SG Putts</th>\n",
       "      <th>Average SG Total</th>\n",
       "      <th>SG:OTT</th>\n",
       "      <th>SG:APR</th>\n",
       "      <th>SG:ARG</th>\n",
       "      <th>Money</th>\n",
       "      <th>new_money</th>\n",
       "      <th>new_points</th>\n",
       "    </tr>\n",
       "  </thead>\n",
       "  <tbody>\n",
       "    <tr>\n",
       "      <th>0</th>\n",
       "      <td>Henrik Stenson</td>\n",
       "      <td>60</td>\n",
       "      <td>75.19</td>\n",
       "      <td>2018</td>\n",
       "      <td>291.5</td>\n",
       "      <td>73.51</td>\n",
       "      <td>29.93</td>\n",
       "      <td>60.67</td>\n",
       "      <td>69.617</td>\n",
       "      <td>868</td>\n",
       "      <td>0</td>\n",
       "      <td>5</td>\n",
       "      <td>-0.207</td>\n",
       "      <td>1.153</td>\n",
       "      <td>0.427</td>\n",
       "      <td>0.960</td>\n",
       "      <td>-0.027</td>\n",
       "      <td>2680487.0</td>\n",
       "      <td>1</td>\n",
       "      <td>1</td>\n",
       "    </tr>\n",
       "    <tr>\n",
       "      <th>1</th>\n",
       "      <td>Ryan Armour</td>\n",
       "      <td>109</td>\n",
       "      <td>73.58</td>\n",
       "      <td>2018</td>\n",
       "      <td>283.5</td>\n",
       "      <td>68.22</td>\n",
       "      <td>29.31</td>\n",
       "      <td>60.13</td>\n",
       "      <td>70.758</td>\n",
       "      <td>1006</td>\n",
       "      <td>1</td>\n",
       "      <td>3</td>\n",
       "      <td>-0.058</td>\n",
       "      <td>0.337</td>\n",
       "      <td>-0.012</td>\n",
       "      <td>0.213</td>\n",
       "      <td>0.194</td>\n",
       "      <td>2485203.0</td>\n",
       "      <td>1</td>\n",
       "      <td>1</td>\n",
       "    </tr>\n",
       "    <tr>\n",
       "      <th>2</th>\n",
       "      <td>Chez Reavie</td>\n",
       "      <td>93</td>\n",
       "      <td>72.24</td>\n",
       "      <td>2018</td>\n",
       "      <td>286.5</td>\n",
       "      <td>68.67</td>\n",
       "      <td>29.12</td>\n",
       "      <td>62.27</td>\n",
       "      <td>70.432</td>\n",
       "      <td>1020</td>\n",
       "      <td>0</td>\n",
       "      <td>3</td>\n",
       "      <td>0.192</td>\n",
       "      <td>0.674</td>\n",
       "      <td>0.183</td>\n",
       "      <td>0.437</td>\n",
       "      <td>-0.137</td>\n",
       "      <td>2700018.0</td>\n",
       "      <td>1</td>\n",
       "      <td>1</td>\n",
       "    </tr>\n",
       "    <tr>\n",
       "      <th>3</th>\n",
       "      <td>Ryan Moore</td>\n",
       "      <td>78</td>\n",
       "      <td>71.94</td>\n",
       "      <td>2018</td>\n",
       "      <td>289.2</td>\n",
       "      <td>68.80</td>\n",
       "      <td>29.17</td>\n",
       "      <td>64.16</td>\n",
       "      <td>70.015</td>\n",
       "      <td>795</td>\n",
       "      <td>0</td>\n",
       "      <td>5</td>\n",
       "      <td>-0.271</td>\n",
       "      <td>0.941</td>\n",
       "      <td>0.406</td>\n",
       "      <td>0.532</td>\n",
       "      <td>0.273</td>\n",
       "      <td>1986608.0</td>\n",
       "      <td>1</td>\n",
       "      <td>1</td>\n",
       "    </tr>\n",
       "    <tr>\n",
       "      <th>4</th>\n",
       "      <td>Brian Stuard</td>\n",
       "      <td>103</td>\n",
       "      <td>71.44</td>\n",
       "      <td>2018</td>\n",
       "      <td>278.9</td>\n",
       "      <td>67.12</td>\n",
       "      <td>29.11</td>\n",
       "      <td>59.23</td>\n",
       "      <td>71.038</td>\n",
       "      <td>421</td>\n",
       "      <td>0</td>\n",
       "      <td>3</td>\n",
       "      <td>0.164</td>\n",
       "      <td>0.062</td>\n",
       "      <td>-0.227</td>\n",
       "      <td>0.099</td>\n",
       "      <td>0.026</td>\n",
       "      <td>1089763.0</td>\n",
       "      <td>1</td>\n",
       "      <td>1</td>\n",
       "    </tr>\n",
       "  </tbody>\n",
       "</table>\n",
       "</div>"
      ],
      "text/plain": [
       "      Player Name  Rounds  Fairway Percentage  Year  Avg Distance    gir  \\\n",
       "0  Henrik Stenson      60               75.19  2018         291.5  73.51   \n",
       "1     Ryan Armour     109               73.58  2018         283.5  68.22   \n",
       "2     Chez Reavie      93               72.24  2018         286.5  68.67   \n",
       "3      Ryan Moore      78               71.94  2018         289.2  68.80   \n",
       "4    Brian Stuard     103               71.44  2018         278.9  67.12   \n",
       "\n",
       "   Average Putts  Average Scrambling  Average Score  Points  Wins  Top 10  \\\n",
       "0          29.93               60.67         69.617     868     0       5   \n",
       "1          29.31               60.13         70.758    1006     1       3   \n",
       "2          29.12               62.27         70.432    1020     0       3   \n",
       "3          29.17               64.16         70.015     795     0       5   \n",
       "4          29.11               59.23         71.038     421     0       3   \n",
       "\n",
       "   Average SG Putts  Average SG Total  SG:OTT  SG:APR  SG:ARG      Money  \\\n",
       "0            -0.207             1.153   0.427   0.960  -0.027  2680487.0   \n",
       "1            -0.058             0.337  -0.012   0.213   0.194  2485203.0   \n",
       "2             0.192             0.674   0.183   0.437  -0.137  2700018.0   \n",
       "3            -0.271             0.941   0.406   0.532   0.273  1986608.0   \n",
       "4             0.164             0.062  -0.227   0.099   0.026  1089763.0   \n",
       "\n",
       "   new_money  new_points  \n",
       "0          1           1  \n",
       "1          1           1  \n",
       "2          1           1  \n",
       "3          1           1  \n",
       "4          1           1  "
      ]
     },
     "execution_count": 14,
     "metadata": {},
     "output_type": "execute_result"
    }
   ],
   "source": [
    "#new column that shows me who earned points\n",
    "df['new_points'] = df['Points'] > 0\n",
    "df['new_points'] = df['new_points'].astype(int)\n",
    "df.head()"
   ]
  },
  {
   "cell_type": "code",
   "execution_count": 15,
   "id": "c5aff417-ccce-463e-bc4f-935b13c4c0a0",
   "metadata": {},
   "outputs": [
    {
     "data": {
      "text/html": [
       "<div>\n",
       "<style scoped>\n",
       "    .dataframe tbody tr th:only-of-type {\n",
       "        vertical-align: middle;\n",
       "    }\n",
       "\n",
       "    .dataframe tbody tr th {\n",
       "        vertical-align: top;\n",
       "    }\n",
       "\n",
       "    .dataframe thead th {\n",
       "        text-align: right;\n",
       "    }\n",
       "</style>\n",
       "<table border=\"1\" class=\"dataframe\">\n",
       "  <thead>\n",
       "    <tr style=\"text-align: right;\">\n",
       "      <th></th>\n",
       "      <th>Player Name</th>\n",
       "      <th>Rounds</th>\n",
       "      <th>Fairway Percentage</th>\n",
       "      <th>Year</th>\n",
       "      <th>Avg Distance</th>\n",
       "      <th>gir</th>\n",
       "      <th>Average Putts</th>\n",
       "      <th>Average Scrambling</th>\n",
       "      <th>Average Score</th>\n",
       "      <th>Points</th>\n",
       "      <th>...</th>\n",
       "      <th>Top 10</th>\n",
       "      <th>Average SG Putts</th>\n",
       "      <th>Average SG Total</th>\n",
       "      <th>SG:OTT</th>\n",
       "      <th>SG:APR</th>\n",
       "      <th>SG:ARG</th>\n",
       "      <th>Money</th>\n",
       "      <th>new_money</th>\n",
       "      <th>new_points</th>\n",
       "      <th>new_wins</th>\n",
       "    </tr>\n",
       "  </thead>\n",
       "  <tbody>\n",
       "    <tr>\n",
       "      <th>0</th>\n",
       "      <td>Henrik Stenson</td>\n",
       "      <td>60</td>\n",
       "      <td>75.19</td>\n",
       "      <td>2018</td>\n",
       "      <td>291.5</td>\n",
       "      <td>73.51</td>\n",
       "      <td>29.93</td>\n",
       "      <td>60.67</td>\n",
       "      <td>69.617</td>\n",
       "      <td>868</td>\n",
       "      <td>...</td>\n",
       "      <td>5</td>\n",
       "      <td>-0.207</td>\n",
       "      <td>1.153</td>\n",
       "      <td>0.427</td>\n",
       "      <td>0.960</td>\n",
       "      <td>-0.027</td>\n",
       "      <td>2680487.0</td>\n",
       "      <td>1</td>\n",
       "      <td>1</td>\n",
       "      <td>0</td>\n",
       "    </tr>\n",
       "    <tr>\n",
       "      <th>1</th>\n",
       "      <td>Ryan Armour</td>\n",
       "      <td>109</td>\n",
       "      <td>73.58</td>\n",
       "      <td>2018</td>\n",
       "      <td>283.5</td>\n",
       "      <td>68.22</td>\n",
       "      <td>29.31</td>\n",
       "      <td>60.13</td>\n",
       "      <td>70.758</td>\n",
       "      <td>1006</td>\n",
       "      <td>...</td>\n",
       "      <td>3</td>\n",
       "      <td>-0.058</td>\n",
       "      <td>0.337</td>\n",
       "      <td>-0.012</td>\n",
       "      <td>0.213</td>\n",
       "      <td>0.194</td>\n",
       "      <td>2485203.0</td>\n",
       "      <td>1</td>\n",
       "      <td>1</td>\n",
       "      <td>1</td>\n",
       "    </tr>\n",
       "    <tr>\n",
       "      <th>2</th>\n",
       "      <td>Chez Reavie</td>\n",
       "      <td>93</td>\n",
       "      <td>72.24</td>\n",
       "      <td>2018</td>\n",
       "      <td>286.5</td>\n",
       "      <td>68.67</td>\n",
       "      <td>29.12</td>\n",
       "      <td>62.27</td>\n",
       "      <td>70.432</td>\n",
       "      <td>1020</td>\n",
       "      <td>...</td>\n",
       "      <td>3</td>\n",
       "      <td>0.192</td>\n",
       "      <td>0.674</td>\n",
       "      <td>0.183</td>\n",
       "      <td>0.437</td>\n",
       "      <td>-0.137</td>\n",
       "      <td>2700018.0</td>\n",
       "      <td>1</td>\n",
       "      <td>1</td>\n",
       "      <td>0</td>\n",
       "    </tr>\n",
       "    <tr>\n",
       "      <th>3</th>\n",
       "      <td>Ryan Moore</td>\n",
       "      <td>78</td>\n",
       "      <td>71.94</td>\n",
       "      <td>2018</td>\n",
       "      <td>289.2</td>\n",
       "      <td>68.80</td>\n",
       "      <td>29.17</td>\n",
       "      <td>64.16</td>\n",
       "      <td>70.015</td>\n",
       "      <td>795</td>\n",
       "      <td>...</td>\n",
       "      <td>5</td>\n",
       "      <td>-0.271</td>\n",
       "      <td>0.941</td>\n",
       "      <td>0.406</td>\n",
       "      <td>0.532</td>\n",
       "      <td>0.273</td>\n",
       "      <td>1986608.0</td>\n",
       "      <td>1</td>\n",
       "      <td>1</td>\n",
       "      <td>0</td>\n",
       "    </tr>\n",
       "    <tr>\n",
       "      <th>4</th>\n",
       "      <td>Brian Stuard</td>\n",
       "      <td>103</td>\n",
       "      <td>71.44</td>\n",
       "      <td>2018</td>\n",
       "      <td>278.9</td>\n",
       "      <td>67.12</td>\n",
       "      <td>29.11</td>\n",
       "      <td>59.23</td>\n",
       "      <td>71.038</td>\n",
       "      <td>421</td>\n",
       "      <td>...</td>\n",
       "      <td>3</td>\n",
       "      <td>0.164</td>\n",
       "      <td>0.062</td>\n",
       "      <td>-0.227</td>\n",
       "      <td>0.099</td>\n",
       "      <td>0.026</td>\n",
       "      <td>1089763.0</td>\n",
       "      <td>1</td>\n",
       "      <td>1</td>\n",
       "      <td>0</td>\n",
       "    </tr>\n",
       "  </tbody>\n",
       "</table>\n",
       "<p>5 rows × 21 columns</p>\n",
       "</div>"
      ],
      "text/plain": [
       "      Player Name  Rounds  Fairway Percentage  Year  Avg Distance    gir  \\\n",
       "0  Henrik Stenson      60               75.19  2018         291.5  73.51   \n",
       "1     Ryan Armour     109               73.58  2018         283.5  68.22   \n",
       "2     Chez Reavie      93               72.24  2018         286.5  68.67   \n",
       "3      Ryan Moore      78               71.94  2018         289.2  68.80   \n",
       "4    Brian Stuard     103               71.44  2018         278.9  67.12   \n",
       "\n",
       "   Average Putts  Average Scrambling  Average Score  Points  ...  Top 10  \\\n",
       "0          29.93               60.67         69.617     868  ...       5   \n",
       "1          29.31               60.13         70.758    1006  ...       3   \n",
       "2          29.12               62.27         70.432    1020  ...       3   \n",
       "3          29.17               64.16         70.015     795  ...       5   \n",
       "4          29.11               59.23         71.038     421  ...       3   \n",
       "\n",
       "   Average SG Putts  Average SG Total  SG:OTT  SG:APR  SG:ARG      Money  \\\n",
       "0            -0.207             1.153   0.427   0.960  -0.027  2680487.0   \n",
       "1            -0.058             0.337  -0.012   0.213   0.194  2485203.0   \n",
       "2             0.192             0.674   0.183   0.437  -0.137  2700018.0   \n",
       "3            -0.271             0.941   0.406   0.532   0.273  1986608.0   \n",
       "4             0.164             0.062  -0.227   0.099   0.026  1089763.0   \n",
       "\n",
       "   new_money  new_points  new_wins  \n",
       "0          1           1         0  \n",
       "1          1           1         1  \n",
       "2          1           1         0  \n",
       "3          1           1         0  \n",
       "4          1           1         0  \n",
       "\n",
       "[5 rows x 21 columns]"
      ]
     },
     "execution_count": 15,
     "metadata": {},
     "output_type": "execute_result"
    }
   ],
   "source": [
    "#If they have any wins they are 1 and no wins is zero\n",
    "df['new_wins'] = df['Wins'] > 0\n",
    "df['new_wins'] = df['new_wins'].astype(int)\n",
    "df.head()\n"
   ]
  },
  {
   "cell_type": "code",
   "execution_count": 16,
   "id": "21a95f31-feda-41b2-bcf8-5698e83b089f",
   "metadata": {},
   "outputs": [
    {
     "data": {
      "text/html": [
       "<div>\n",
       "<style scoped>\n",
       "    .dataframe tbody tr th:only-of-type {\n",
       "        vertical-align: middle;\n",
       "    }\n",
       "\n",
       "    .dataframe tbody tr th {\n",
       "        vertical-align: top;\n",
       "    }\n",
       "\n",
       "    .dataframe thead th {\n",
       "        text-align: right;\n",
       "    }\n",
       "</style>\n",
       "<table border=\"1\" class=\"dataframe\">\n",
       "  <thead>\n",
       "    <tr style=\"text-align: right;\">\n",
       "      <th></th>\n",
       "      <th>Player Name</th>\n",
       "      <th>Rounds</th>\n",
       "      <th>Fairway Percentage</th>\n",
       "      <th>Year</th>\n",
       "      <th>Avg Distance</th>\n",
       "      <th>gir</th>\n",
       "      <th>Average Putts</th>\n",
       "      <th>Average Scrambling</th>\n",
       "      <th>Average Score</th>\n",
       "      <th>Points</th>\n",
       "      <th>...</th>\n",
       "      <th>Average SG Putts</th>\n",
       "      <th>Average SG Total</th>\n",
       "      <th>SG:OTT</th>\n",
       "      <th>SG:APR</th>\n",
       "      <th>SG:ARG</th>\n",
       "      <th>Money</th>\n",
       "      <th>new_money</th>\n",
       "      <th>new_points</th>\n",
       "      <th>new_wins</th>\n",
       "      <th>binned_points</th>\n",
       "    </tr>\n",
       "  </thead>\n",
       "  <tbody>\n",
       "    <tr>\n",
       "      <th>0</th>\n",
       "      <td>Henrik Stenson</td>\n",
       "      <td>60</td>\n",
       "      <td>75.19</td>\n",
       "      <td>2018</td>\n",
       "      <td>291.5</td>\n",
       "      <td>73.51</td>\n",
       "      <td>29.93</td>\n",
       "      <td>60.67</td>\n",
       "      <td>69.617</td>\n",
       "      <td>868</td>\n",
       "      <td>...</td>\n",
       "      <td>-0.207</td>\n",
       "      <td>1.153</td>\n",
       "      <td>0.427</td>\n",
       "      <td>0.960</td>\n",
       "      <td>-0.027</td>\n",
       "      <td>2680487.0</td>\n",
       "      <td>1</td>\n",
       "      <td>1</td>\n",
       "      <td>0</td>\n",
       "      <td>(682.333, 4169.0]</td>\n",
       "    </tr>\n",
       "    <tr>\n",
       "      <th>1</th>\n",
       "      <td>Ryan Armour</td>\n",
       "      <td>109</td>\n",
       "      <td>73.58</td>\n",
       "      <td>2018</td>\n",
       "      <td>283.5</td>\n",
       "      <td>68.22</td>\n",
       "      <td>29.31</td>\n",
       "      <td>60.13</td>\n",
       "      <td>70.758</td>\n",
       "      <td>1006</td>\n",
       "      <td>...</td>\n",
       "      <td>-0.058</td>\n",
       "      <td>0.337</td>\n",
       "      <td>-0.012</td>\n",
       "      <td>0.213</td>\n",
       "      <td>0.194</td>\n",
       "      <td>2485203.0</td>\n",
       "      <td>1</td>\n",
       "      <td>1</td>\n",
       "      <td>1</td>\n",
       "      <td>(682.333, 4169.0]</td>\n",
       "    </tr>\n",
       "    <tr>\n",
       "      <th>2</th>\n",
       "      <td>Chez Reavie</td>\n",
       "      <td>93</td>\n",
       "      <td>72.24</td>\n",
       "      <td>2018</td>\n",
       "      <td>286.5</td>\n",
       "      <td>68.67</td>\n",
       "      <td>29.12</td>\n",
       "      <td>62.27</td>\n",
       "      <td>70.432</td>\n",
       "      <td>1020</td>\n",
       "      <td>...</td>\n",
       "      <td>0.192</td>\n",
       "      <td>0.674</td>\n",
       "      <td>0.183</td>\n",
       "      <td>0.437</td>\n",
       "      <td>-0.137</td>\n",
       "      <td>2700018.0</td>\n",
       "      <td>1</td>\n",
       "      <td>1</td>\n",
       "      <td>0</td>\n",
       "      <td>(682.333, 4169.0]</td>\n",
       "    </tr>\n",
       "    <tr>\n",
       "      <th>3</th>\n",
       "      <td>Ryan Moore</td>\n",
       "      <td>78</td>\n",
       "      <td>71.94</td>\n",
       "      <td>2018</td>\n",
       "      <td>289.2</td>\n",
       "      <td>68.80</td>\n",
       "      <td>29.17</td>\n",
       "      <td>64.16</td>\n",
       "      <td>70.015</td>\n",
       "      <td>795</td>\n",
       "      <td>...</td>\n",
       "      <td>-0.271</td>\n",
       "      <td>0.941</td>\n",
       "      <td>0.406</td>\n",
       "      <td>0.532</td>\n",
       "      <td>0.273</td>\n",
       "      <td>1986608.0</td>\n",
       "      <td>1</td>\n",
       "      <td>1</td>\n",
       "      <td>0</td>\n",
       "      <td>(682.333, 4169.0]</td>\n",
       "    </tr>\n",
       "    <tr>\n",
       "      <th>4</th>\n",
       "      <td>Brian Stuard</td>\n",
       "      <td>103</td>\n",
       "      <td>71.44</td>\n",
       "      <td>2018</td>\n",
       "      <td>278.9</td>\n",
       "      <td>67.12</td>\n",
       "      <td>29.11</td>\n",
       "      <td>59.23</td>\n",
       "      <td>71.038</td>\n",
       "      <td>421</td>\n",
       "      <td>...</td>\n",
       "      <td>0.164</td>\n",
       "      <td>0.062</td>\n",
       "      <td>-0.227</td>\n",
       "      <td>0.099</td>\n",
       "      <td>0.026</td>\n",
       "      <td>1089763.0</td>\n",
       "      <td>1</td>\n",
       "      <td>1</td>\n",
       "      <td>0</td>\n",
       "      <td>(389.333, 682.333]</td>\n",
       "    </tr>\n",
       "  </tbody>\n",
       "</table>\n",
       "<p>5 rows × 22 columns</p>\n",
       "</div>"
      ],
      "text/plain": [
       "      Player Name  Rounds  Fairway Percentage  Year  Avg Distance    gir  \\\n",
       "0  Henrik Stenson      60               75.19  2018         291.5  73.51   \n",
       "1     Ryan Armour     109               73.58  2018         283.5  68.22   \n",
       "2     Chez Reavie      93               72.24  2018         286.5  68.67   \n",
       "3      Ryan Moore      78               71.94  2018         289.2  68.80   \n",
       "4    Brian Stuard     103               71.44  2018         278.9  67.12   \n",
       "\n",
       "   Average Putts  Average Scrambling  Average Score  Points  ...  \\\n",
       "0          29.93               60.67         69.617     868  ...   \n",
       "1          29.31               60.13         70.758    1006  ...   \n",
       "2          29.12               62.27         70.432    1020  ...   \n",
       "3          29.17               64.16         70.015     795  ...   \n",
       "4          29.11               59.23         71.038     421  ...   \n",
       "\n",
       "   Average SG Putts  Average SG Total  SG:OTT  SG:APR  SG:ARG      Money  \\\n",
       "0            -0.207             1.153   0.427   0.960  -0.027  2680487.0   \n",
       "1            -0.058             0.337  -0.012   0.213   0.194  2485203.0   \n",
       "2             0.192             0.674   0.183   0.437  -0.137  2700018.0   \n",
       "3            -0.271             0.941   0.406   0.532   0.273  1986608.0   \n",
       "4             0.164             0.062  -0.227   0.099   0.026  1089763.0   \n",
       "\n",
       "   new_money  new_points  new_wins       binned_points  \n",
       "0          1           1         0   (682.333, 4169.0]  \n",
       "1          1           1         1   (682.333, 4169.0]  \n",
       "2          1           1         0   (682.333, 4169.0]  \n",
       "3          1           1         0   (682.333, 4169.0]  \n",
       "4          1           1         0  (389.333, 682.333]  \n",
       "\n",
       "[5 rows x 22 columns]"
      ]
     },
     "execution_count": 16,
     "metadata": {},
     "output_type": "execute_result"
    }
   ],
   "source": [
    "#creating binned_points which split players up by points\n",
    "df['binned_points'] = pd.qcut(df['Points'], q=3)\n",
    "df.head()"
   ]
  },
  {
   "cell_type": "code",
   "execution_count": 17,
   "id": "dbef5b91-963c-42cf-8b87-74e5b2a8ab54",
   "metadata": {},
   "outputs": [
    {
     "data": {
      "text/plain": [
       "(682.333, 4169.0]     558\n",
       "(389.333, 682.333]    558\n",
       "(2.999, 389.333]      558\n",
       "Name: binned_points, dtype: int64"
      ]
     },
     "execution_count": 17,
     "metadata": {},
     "output_type": "execute_result"
    }
   ],
   "source": [
    "#viewing the number of players in each bin\n",
    "df['binned_points'].value_counts()"
   ]
  },
  {
   "cell_type": "code",
   "execution_count": 18,
   "id": "4500e609-782e-42bc-aa6b-08c7b2f6180c",
   "metadata": {},
   "outputs": [],
   "source": [
    "#making it a string \n",
    "df['binned_points'] = df['binned_points'].astype('string')"
   ]
  },
  {
   "cell_type": "code",
   "execution_count": 19,
   "id": "c75d032d-bece-467d-871a-9795122fbb8e",
   "metadata": {},
   "outputs": [],
   "source": [
    "df = df.replace(['(389.333, 682.333]', '(2.999, 389.333]', '(682.333, 4169.0]'], ['0', '1', '2'])"
   ]
  },
  {
   "cell_type": "markdown",
   "id": "1e10e534-cf17-4680-8c0c-486a8706fc2d",
   "metadata": {},
   "source": [
    "### Model Preperation"
   ]
  },
  {
   "cell_type": "code",
   "execution_count": 20,
   "id": "df73b5e4-04c2-4566-9e68-583f8d1be0d3",
   "metadata": {},
   "outputs": [],
   "source": [
    "#creaing my x and y for train test split\n",
    "y = df['binned_points']\n",
    "\n",
    "X = df.drop(['new_money',\"Money\", \"Player Name\",\"Wins\",'Top 10',\"Year\",\n",
    "            'new_points','new_wins', 'binned_points','Points'], axis=1)"
   ]
  },
  {
   "cell_type": "code",
   "execution_count": 21,
   "id": "71b6d74f-c483-4065-924a-73f85f31911b",
   "metadata": {},
   "outputs": [],
   "source": [
    "# Initial Train-Test Split\n",
    "X_tr, X_test, y_tr, y_test = train_test_split(X, y, test_size=.30, random_state=2021)\n"
   ]
  },
  {
   "cell_type": "code",
   "execution_count": 22,
   "id": "3af4cce0-0ff5-438a-b842-419b5b5fd236",
   "metadata": {},
   "outputs": [],
   "source": [
    "#2nd tran test split\n",
    "X_train, X_val, y_train, y_val = train_test_split(X_tr, y_tr, test_size=.30, random_state=2021)"
   ]
  },
  {
   "cell_type": "code",
   "execution_count": 23,
   "id": "fe0e9381-3817-49c3-8ce1-404334953c00",
   "metadata": {},
   "outputs": [
    {
     "data": {
      "text/plain": [
       "Rounds                0\n",
       "Fairway Percentage    0\n",
       "Avg Distance          0\n",
       "gir                   0\n",
       "Average Putts         0\n",
       "Average Scrambling    0\n",
       "Average Score         0\n",
       "Average SG Putts      0\n",
       "Average SG Total      0\n",
       "SG:OTT                0\n",
       "SG:APR                0\n",
       "SG:ARG                0\n",
       "dtype: int64"
      ]
     },
     "execution_count": 23,
     "metadata": {},
     "output_type": "execute_result"
    }
   ],
   "source": [
    "#Preprocessing checking for missing data\n",
    "X_train.isna().sum()"
   ]
  },
  {
   "cell_type": "code",
   "execution_count": 24,
   "id": "d087dda0-2470-4d69-b92f-c3574c0ab309",
   "metadata": {},
   "outputs": [
    {
     "data": {
      "text/plain": [
       "Rounds                0\n",
       "Fairway Percentage    0\n",
       "Avg Distance          0\n",
       "gir                   0\n",
       "Average Putts         0\n",
       "Average Scrambling    0\n",
       "Average Score         0\n",
       "Average SG Putts      0\n",
       "Average SG Total      0\n",
       "SG:OTT                0\n",
       "SG:APR                0\n",
       "SG:ARG                0\n",
       "dtype: int64"
      ]
     },
     "execution_count": 24,
     "metadata": {},
     "output_type": "execute_result"
    }
   ],
   "source": [
    "#Checking for missing data\n",
    "X_val.isna().sum()"
   ]
  },
  {
   "cell_type": "code",
   "execution_count": 25,
   "id": "8e693360-30f8-4403-b0f5-76db1ee43e4c",
   "metadata": {},
   "outputs": [
    {
     "data": {
      "text/plain": [
       "['Rounds',\n",
       " 'Fairway Percentage',\n",
       " 'Avg Distance',\n",
       " 'gir',\n",
       " 'Average Putts',\n",
       " 'Average Scrambling',\n",
       " 'Average Score',\n",
       " 'Average SG Putts',\n",
       " 'Average SG Total',\n",
       " 'SG:OTT',\n",
       " 'SG:APR',\n",
       " 'SG:ARG']"
      ]
     },
     "execution_count": 25,
     "metadata": {},
     "output_type": "execute_result"
    }
   ],
   "source": [
    "#Scaling my data\n",
    "num_cols = list(X.select_dtypes('number').columns)\n",
    "num_cols"
   ]
  },
  {
   "cell_type": "code",
   "execution_count": 26,
   "id": "fa230258-f2f0-42ab-81e5-e3fcea933483",
   "metadata": {},
   "outputs": [],
   "source": [
    "# Instantiate StandardScaler\n",
    "scaler = StandardScaler()"
   ]
  },
  {
   "cell_type": "code",
   "execution_count": 27,
   "id": "7603565b-53e1-440f-8c4e-d1deb9c1cfe5",
   "metadata": {},
   "outputs": [
    {
     "data": {
      "text/plain": [
       "StandardScaler()"
      ]
     },
     "execution_count": 27,
     "metadata": {},
     "output_type": "execute_result"
    }
   ],
   "source": [
    "# fit on Imputed training data\n",
    "scaler.fit(X_train[num_cols])"
   ]
  },
  {
   "cell_type": "code",
   "execution_count": 28,
   "id": "8d53978f-5e4b-40f8-b6e5-dba8bae41382",
   "metadata": {},
   "outputs": [],
   "source": [
    "# transform training and validation data\n",
    "X_train_scaled = pd.DataFrame(scaler.transform(X_train[num_cols]), columns=num_cols)\n",
    "X_val_scaled = pd.DataFrame(scaler.transform(X_val[num_cols]), columns=num_cols)"
   ]
  },
  {
   "cell_type": "code",
   "execution_count": 29,
   "id": "fc2dd75f-3b55-43d1-8ea1-6c202bdd516d",
   "metadata": {},
   "outputs": [],
   "source": [
    "#modeling function\n",
    "# Instantiate Random Forest\n",
    "from sklearn.ensemble import RandomForestClassifier\n",
    "from sklearn.datasets import make_classification\n",
    "def modeling_function(model, X_train, y_train, X_val, y_val):\n",
    "\n",
    "    # fit model on training data\n",
    "    model.fit(X_train, y_train)\n",
    "\n",
    "    # make predictions on training and validation data\n",
    "    train_preds = model.predict(X_train)\n",
    "    val_preds = model.predict(X_val)\n",
    "\n",
    "    # Print accuracy score\n",
    "    print('Training accuracy: ', accuracy_score(y_train, train_preds))\n",
    "    print('Validation accuracy: ', accuracy_score(y_val, val_preds))\n",
    "\n",
    "    # return fitted model\n",
    "    return model"
   ]
  },
  {
   "cell_type": "markdown",
   "id": "4f56456a-6fea-4bcc-ae6d-1c959067fbbb",
   "metadata": {},
   "source": [
    "### Logistic Regression"
   ]
  },
  {
   "cell_type": "code",
   "execution_count": 30,
   "id": "8ea7e393-fa06-4f3b-8823-1b33c54e3d9e",
   "metadata": {},
   "outputs": [
    {
     "name": "stdout",
     "output_type": "stream",
     "text": [
      "Training accuracy:  0.7155067155067155\n",
      "Validation accuracy:  0.6732954545454546\n"
     ]
    }
   ],
   "source": [
    "# initiate model and run through modeling function\n",
    "logreg = LogisticRegression(solver='liblinear')\n",
    "logreg = modeling_function(logreg, X_train, y_train, X_val, y_val)"
   ]
  },
  {
   "cell_type": "markdown",
   "id": "a62bead6-c068-472f-b2be-e299061134fc",
   "metadata": {},
   "source": [
    "### Logistic Regression (positive money and negative score data frame)"
   ]
  },
  {
   "cell_type": "code",
   "execution_count": 31,
   "id": "a2bb2912-c282-4d45-a344-86e326a0183f",
   "metadata": {},
   "outputs": [],
   "source": [
    "player_progression = pd.DataFrame()\n",
    "for player in df['Player Name'].unique():\n",
    "    frame = df[df['Player Name'] == player]\n",
    "    #frame = frame.sort_values(\"Year\")\n",
    "    year = frame.Year\n",
    "    frame = frame.select_dtypes('number').diff()\n",
    "    frame.Year = year\n",
    "    frame['player_name'] = player\n",
    "    player_progression = player_progression.append(frame)\n",
    "player_progression = player_progression.dropna()\n",
    "df1 = player_progression.groupby(by=[\"player_name\"]).mean()\n",
    "df1['positive_money'] = df1['Money'] > 0\n",
    "df1['positive_money'] = df1['positive_money'].astype(int)\n",
    "df1['negative_score'] = df1['Average Score'] < 0\n",
    "df1['negative_score'] = df1['negative_score'].astype(int)\n",
    "df2 = df1[(df1.positive_money == 1) & (df1.negative_score ==1)]\n",
    "df2 = df2.sort_values(by=['Money'], ascending = False)"
   ]
  },
  {
   "cell_type": "code",
   "execution_count": 32,
   "id": "ee177421-3a07-47fd-9e6c-026ac892eb64",
   "metadata": {},
   "outputs": [],
   "source": [
    "#creaing my x and y for train test split\n",
    "y_2 = df['binned_points']\n",
    "\n",
    "X_2 = df.drop(['new_money',\"Money\", \"Player Name\",\"Wins\",'Top 10',\"Year\",\n",
    "            'new_points','new_wins', 'binned_points','Points'], axis=1)"
   ]
  },
  {
   "cell_type": "code",
   "execution_count": 33,
   "id": "0e4934f1-97a1-49e0-af19-bf2b7387d758",
   "metadata": {},
   "outputs": [],
   "source": [
    "# Initial Train-Test Split\n",
    "X_tr_2, X_test_2, y_tr_2, y_test_2 = train_test_split(X_2, y_2, test_size=.30, random_state=2021)"
   ]
  },
  {
   "cell_type": "code",
   "execution_count": 34,
   "id": "474eb9bf-e353-4017-9255-29d6fe7981e1",
   "metadata": {},
   "outputs": [],
   "source": [
    "#2nd tran test split\n",
    "X_train_2, X_val_2, y_train_2, y_val_2 = train_test_split(X_tr_2, y_tr_2, test_size=.30, random_state=2021)"
   ]
  },
  {
   "cell_type": "code",
   "execution_count": 35,
   "id": "9a76b9d0-ef18-4e5b-9045-f87821dd6a4a",
   "metadata": {},
   "outputs": [
    {
     "data": {
      "text/plain": [
       "['Rounds',\n",
       " 'Fairway Percentage',\n",
       " 'Avg Distance',\n",
       " 'gir',\n",
       " 'Average Putts',\n",
       " 'Average Scrambling',\n",
       " 'Average Score',\n",
       " 'Average SG Putts',\n",
       " 'Average SG Total',\n",
       " 'SG:OTT',\n",
       " 'SG:APR',\n",
       " 'SG:ARG']"
      ]
     },
     "execution_count": 35,
     "metadata": {},
     "output_type": "execute_result"
    }
   ],
   "source": [
    "#Scaling my data\n",
    "num_cols_2 = list(X_2.select_dtypes('number').columns)\n",
    "num_cols_2"
   ]
  },
  {
   "cell_type": "code",
   "execution_count": 36,
   "id": "9a8f52d1-5b0a-47fe-ac4d-733e045acbe1",
   "metadata": {},
   "outputs": [],
   "source": [
    "# Instantiate StandardScaler\n",
    "scaler = StandardScaler()"
   ]
  },
  {
   "cell_type": "code",
   "execution_count": 37,
   "id": "47af8bbb-0994-40f0-b38a-75b4993d3773",
   "metadata": {},
   "outputs": [
    {
     "data": {
      "text/plain": [
       "StandardScaler()"
      ]
     },
     "execution_count": 37,
     "metadata": {},
     "output_type": "execute_result"
    }
   ],
   "source": [
    "# fit on Imputed training data\n",
    "scaler.fit(X_train_2[num_cols_2])"
   ]
  },
  {
   "cell_type": "code",
   "execution_count": 38,
   "id": "dd178a25-549d-46b9-a131-c9e066db3213",
   "metadata": {},
   "outputs": [],
   "source": [
    "# transform training and validation data\n",
    "X_train_scaled_2 = pd.DataFrame(scaler.transform(X_train_2[num_cols_2]), columns=num_cols)\n",
    "X_val_scaled_2 = pd.DataFrame(scaler.transform(X_val_2[num_cols_2]), columns=num_cols)"
   ]
  },
  {
   "cell_type": "code",
   "execution_count": 39,
   "id": "0c66958a-a28e-40e6-ace2-d251dff7d29c",
   "metadata": {},
   "outputs": [
    {
     "name": "stdout",
     "output_type": "stream",
     "text": [
      "Training accuracy:  0.7155067155067155\n",
      "Validation accuracy:  0.6732954545454546\n"
     ]
    }
   ],
   "source": [
    "# initiate model and run through modeling function\n",
    "logreg_2 = LogisticRegression(solver='liblinear')\n",
    "logreg_2 = modeling_function(logreg_2, X_train_2, y_train_2, X_val_2, y_val_2)"
   ]
  },
  {
   "cell_type": "markdown",
   "id": "9a4f62fc-9686-43a3-88b8-5c8b4c1c5d58",
   "metadata": {},
   "source": [
    "\n",
    "\n",
    "### Random Forest Model"
   ]
  },
  {
   "cell_type": "code",
   "execution_count": 40,
   "id": "293066b2-46bc-435a-ba6b-e78805e72516",
   "metadata": {},
   "outputs": [
    {
     "name": "stdout",
     "output_type": "stream",
     "text": [
      "Training accuracy:  1.0\n",
      "Validation accuracy:  0.6619318181818182\n"
     ]
    }
   ],
   "source": [
    "rf = RandomForestClassifier(random_state=2021)\n",
    "rf = modeling_function(rf, X_train, y_train, X_val, y_val)"
   ]
  },
  {
   "cell_type": "code",
   "execution_count": 41,
   "id": "949a4b0c-e951-4327-9337-d98e7f92a775",
   "metadata": {},
   "outputs": [],
   "source": [
    "# Create Param Grid \n",
    "param_grid = {'n_estimators': [50, 75, 100],\n",
    "                'max_depth': [5, 10, 15, 20, 25],\n",
    "                'min_samples_leaf': [5, 7, 10, 12],\n",
    "             'n_jobs': [-1],\n",
    "             'criterion': ['gini', 'entropy']}\n"
   ]
  },
  {
   "cell_type": "code",
   "execution_count": 42,
   "id": "25f241aa-df5d-462e-8793-af1b70bd0724",
   "metadata": {},
   "outputs": [],
   "source": [
    "# Create GridSearchCV\n",
    "rf_gs = GridSearchCV(estimator=rf, param_grid=param_grid, scoring='accuracy')\n"
   ]
  },
  {
   "cell_type": "code",
   "execution_count": 43,
   "id": "36487f04-5861-4b5f-80da-279ab1f4f47c",
   "metadata": {},
   "outputs": [
    {
     "data": {
      "text/plain": [
       "GridSearchCV(estimator=RandomForestClassifier(random_state=2021),\n",
       "             param_grid={'criterion': ['gini', 'entropy'],\n",
       "                         'max_depth': [5, 10, 15, 20, 25],\n",
       "                         'min_samples_leaf': [5, 7, 10, 12],\n",
       "                         'n_estimators': [50, 75, 100], 'n_jobs': [-1]},\n",
       "             scoring='accuracy')"
      ]
     },
     "execution_count": 43,
     "metadata": {},
     "output_type": "execute_result"
    }
   ],
   "source": [
    "#fitting training data\n",
    "rf_gs.fit(X_train, y_train)"
   ]
  },
  {
   "cell_type": "code",
   "execution_count": 44,
   "id": "25836b2f-4cf3-47a9-8883-6083b9439ce9",
   "metadata": {},
   "outputs": [],
   "source": [
    "#finding my best params\n",
    "best_model = rf_gs.best_estimator_"
   ]
  },
  {
   "cell_type": "code",
   "execution_count": 45,
   "id": "f454d035-d504-4e18-8ec4-c074929ed5da",
   "metadata": {},
   "outputs": [
    {
     "data": {
      "text/plain": [
       "{'criterion': 'gini',\n",
       " 'max_depth': 15,\n",
       " 'min_samples_leaf': 7,\n",
       " 'n_estimators': 100,\n",
       " 'n_jobs': -1}"
      ]
     },
     "execution_count": 45,
     "metadata": {},
     "output_type": "execute_result"
    }
   ],
   "source": [
    "rf_gs.best_params_\n"
   ]
  },
  {
   "cell_type": "code",
   "execution_count": 46,
   "id": "ae706ed4-8d3c-4c7e-9335-55dbc1e45ee5",
   "metadata": {},
   "outputs": [
    {
     "name": "stdout",
     "output_type": "stream",
     "text": [
      "Training accuracy:  0.8363858363858364\n",
      "Validation accuracy:  0.6534090909090909\n"
     ]
    },
    {
     "data": {
      "text/plain": [
       "RandomForestClassifier(max_depth=15, min_samples_leaf=7, n_jobs=-1,\n",
       "                       random_state=2021)"
      ]
     },
     "execution_count": 46,
     "metadata": {},
     "output_type": "execute_result"
    }
   ],
   "source": [
    "#calling modeling function\n",
    "modeling_function(best_model, X_train, y_train, X_val, y_val)"
   ]
  },
  {
   "cell_type": "code",
   "execution_count": 47,
   "id": "e844fdde-1ff7-4b66-8a37-9ba6b59bfa98",
   "metadata": {},
   "outputs": [],
   "source": [
    "# Create Param Grid \n",
    "param_grid2 = {'n_estimators': [90, 100, 110],\n",
    "                'max_depth': [13, 14, 15, 16, 17],\n",
    "                'min_samples_leaf': [7, 8, 9, 10],\n",
    "             'n_jobs': [-1],\n",
    "             'criterion': ['gini']}"
   ]
  },
  {
   "cell_type": "code",
   "execution_count": 48,
   "id": "5f8db834-0ee6-40d6-986b-c0d55ead265f",
   "metadata": {},
   "outputs": [],
   "source": [
    "# Create GridSearchCV\n",
    "rf2_gs = GridSearchCV(estimator=rf, param_grid=param_grid2, scoring='accuracy')\n"
   ]
  },
  {
   "cell_type": "code",
   "execution_count": 49,
   "id": "86fe175c-2973-4544-a3bd-3ea0fca5b8f1",
   "metadata": {},
   "outputs": [
    {
     "data": {
      "text/plain": [
       "GridSearchCV(estimator=RandomForestClassifier(random_state=2021),\n",
       "             param_grid={'criterion': ['gini'],\n",
       "                         'max_depth': [13, 14, 15, 16, 17],\n",
       "                         'min_samples_leaf': [7, 8, 9, 10],\n",
       "                         'n_estimators': [90, 100, 110], 'n_jobs': [-1]},\n",
       "             scoring='accuracy')"
      ]
     },
     "execution_count": 49,
     "metadata": {},
     "output_type": "execute_result"
    }
   ],
   "source": [
    "rf2_gs.fit(X_train, y_train)"
   ]
  },
  {
   "cell_type": "code",
   "execution_count": 50,
   "id": "5f95981c-9dec-4710-aaa0-112d8d3377f8",
   "metadata": {},
   "outputs": [],
   "source": [
    "\n",
    "bestest_model = rf2_gs.best_estimator_"
   ]
  },
  {
   "cell_type": "code",
   "execution_count": 51,
   "id": "b2837583-f715-4b60-b577-19bab6e7c1e0",
   "metadata": {},
   "outputs": [
    {
     "data": {
      "text/plain": [
       "{'criterion': 'gini',\n",
       " 'max_depth': 13,\n",
       " 'min_samples_leaf': 8,\n",
       " 'n_estimators': 90,\n",
       " 'n_jobs': -1}"
      ]
     },
     "execution_count": 51,
     "metadata": {},
     "output_type": "execute_result"
    }
   ],
   "source": [
    "rf2_gs.best_params_"
   ]
  },
  {
   "cell_type": "code",
   "execution_count": 52,
   "id": "d832cd77-45a5-43b9-8d5d-12e1d015ac54",
   "metadata": {},
   "outputs": [
    {
     "name": "stdout",
     "output_type": "stream",
     "text": [
      "Training accuracy:  0.8205128205128205\n",
      "Validation accuracy:  0.6732954545454546\n"
     ]
    },
    {
     "data": {
      "text/plain": [
       "RandomForestClassifier(max_depth=13, min_samples_leaf=8, n_estimators=90,\n",
       "                       n_jobs=-1, random_state=2021)"
      ]
     },
     "execution_count": 52,
     "metadata": {},
     "output_type": "execute_result"
    }
   ],
   "source": [
    "#calling modeling function\n",
    "modeling_function(bestest_model, X_train, y_train, X_val, y_val)"
   ]
  },
  {
   "cell_type": "code",
   "execution_count": 53,
   "id": "19b43aa4-7a61-4775-bb94-0ce98c3606ee",
   "metadata": {},
   "outputs": [
    {
     "data": {
      "text/plain": [
       "<sklearn.metrics._plot.confusion_matrix.ConfusionMatrixDisplay at 0x7fc303fe66a0>"
      ]
     },
     "execution_count": 53,
     "metadata": {},
     "output_type": "execute_result"
    },
    {
     "data": {
      "image/png": "[encoded data removed]",
      "text/plain": [
       "<Figure size 432x288 with 2 Axes>"
      ]
     },
     "metadata": {
      "needs_background": "light"
     },
     "output_type": "display_data"
    }
   ],
   "source": [
    "#plotting confusion matrix\n",
    "from sklearn.metrics import plot_confusion_matrix\n",
    "plot_confusion_matrix(best_model, X_train, y_train)"
   ]
  },
  {
   "cell_type": "code",
   "execution_count": 54,
   "id": "98f234cd-177b-4d1f-b419-a49c9ab19b73",
   "metadata": {},
   "outputs": [],
   "source": [
    "test_preds = rf_gs.predict(X_test)"
   ]
  },
  {
   "cell_type": "code",
   "execution_count": 55,
   "id": "6185e7bb-b541-46ed-95d8-8669a35b5f97",
   "metadata": {},
   "outputs": [
    {
     "data": {
      "text/plain": [
       "0.7216699801192843"
      ]
     },
     "execution_count": 55,
     "metadata": {},
     "output_type": "execute_result"
    }
   ],
   "source": [
    "accuracy_score(y_test, test_preds)"
   ]
  },
  {
   "cell_type": "code",
   "execution_count": 56,
   "id": "fd32148e-244c-4e0c-b3e9-b4a18186fa3f",
   "metadata": {},
   "outputs": [
    {
     "data": {
      "text/plain": [
       "Text(0, 0.5, 'Points Awarded')"
      ]
     },
     "execution_count": 56,
     "metadata": {},
     "output_type": "execute_result"
    },
    {
     "data": {
      "image/png": "[encoded data removed]",
      "text/plain": [
       "<Figure size 1080x432 with 1 Axes>"
      ]
     },
     "metadata": {
      "needs_background": "light"
     },
     "output_type": "display_data"
    }
   ],
   "source": [
    "## Creates scatter plot of Fedex Points vs Tournament earnings\n",
    "fig, ax = plt.subplots(figsize=(15,6))\n",
    "ax.set_title(\"Fedex Cup Points vs Money Made\", fontsize=18)\n",
    "sns.regplot(data=df, x='Money', y='Points')\n",
    "ax.set_xlabel(\"Money made\", fontsize=14)\n",
    "ax.set_ylabel(\"Points Awarded\", fontsize=14)"
   ]
  },
  {
   "cell_type": "code",
   "execution_count": 57,
   "id": "3347dfe1-126b-48c5-913a-6709a9a68ad1",
   "metadata": {},
   "outputs": [],
   "source": [
    "player_progression = pd.DataFrame()\n",
    "\n",
    "for player in df['Player Name'].unique():\n",
    "    frame = df[df['Player Name'] == player]\n",
    "    frame = frame.sort_values(\"Year\")\n",
    "    year = frame.Year\n",
    "    frame = frame.select_dtypes('number').diff()\n",
    "    frame.Year = year\n",
    "    frame['player_name'] = player\n",
    "    player_progression = player_progression.append(frame)"
   ]
  },
  {
   "cell_type": "code",
   "execution_count": 58,
   "id": "a4ade53d-b600-4b03-b555-e60bfcde5c5a",
   "metadata": {},
   "outputs": [],
   "source": [
    "player_progression = player_progression.dropna()"
   ]
  },
  {
   "cell_type": "code",
   "execution_count": 59,
   "id": "25966708-c931-4c73-8b5b-643968ce585a",
   "metadata": {},
   "outputs": [
    {
     "data": {
      "text/plain": [
       "player_name\n",
       "Martin Kaymer       1051.0\n",
       "Andrew Landry        899.0\n",
       "Andrew Putnam        834.0\n",
       "Patrick Cantlay      810.0\n",
       "Ryan Armour          784.0\n",
       "                     ...  \n",
       "Steve Elkington     -464.0\n",
       "Tiger Woods         -553.5\n",
       "Mackenzie Hughes    -747.0\n",
       "Wesley Bryan        -827.0\n",
       "Smylie Kaufman      -865.0\n",
       "Name: Points, Length: 316, dtype: float64"
      ]
     },
     "execution_count": 59,
     "metadata": {},
     "output_type": "execute_result"
    }
   ],
   "source": [
    "df1 = player_progression.groupby('player_name')['Points'].mean().sort_values(ascending=False)\n",
    "df1"
   ]
  },
  {
   "cell_type": "code",
   "execution_count": 60,
   "id": "e4512986-8714-409c-88a4-051cd9041282",
   "metadata": {},
   "outputs": [],
   "source": [
    "player_progression['positive'] = player_progression['Points'] > 0"
   ]
  },
  {
   "cell_type": "code",
   "execution_count": 61,
   "id": "4f074b3d-45a5-494e-bca8-6b5ecf142c7a",
   "metadata": {},
   "outputs": [],
   "source": [
    "player_progression['improvement'] = player_progression['positive'].apply(lambda x: 1 if x else 0)"
   ]
  },
  {
   "cell_type": "code",
   "execution_count": 62,
   "id": "36f4d4f2-b301-46c1-89a8-234774ef4b4b",
   "metadata": {},
   "outputs": [],
   "source": [
    "# Target\n",
    "y1 = player_progression['improvement']\n",
    "# Features\n",
    "X1 = player_progression.drop(['new_money',\"Money\",\"Wins\",'Top 10',\"Year\",\n",
    "                              'Points','player_name', 'new_points',\n",
    "                              'new_wins','improvement','positive'], axis=1)"
   ]
  },
  {
   "cell_type": "code",
   "execution_count": 63,
   "id": "1b1aef54-707d-4702-b16d-fb7ab6283f7f",
   "metadata": {},
   "outputs": [],
   "source": [
    "# Initial Train-Test Split\n",
    "X_tr1, X_test1, y_tr1, y_test1 = train_test_split(X1, y1, test_size=.15, random_state=2021)"
   ]
  },
  {
   "cell_type": "code",
   "execution_count": 64,
   "id": "6ee7b4ab-8548-43c7-b4bd-42ef759238ad",
   "metadata": {},
   "outputs": [],
   "source": [
    "X_train1, X_val1, y_train1, y_val1 = train_test_split(X_tr1, y_tr1, test_size=.15, random_state=2021)"
   ]
  },
  {
   "cell_type": "code",
   "execution_count": 65,
   "id": "4d16579f-4115-4be8-8abe-48bb10672690",
   "metadata": {},
   "outputs": [],
   "source": [
    "# Instantiate a SimpleImputer\n",
    "imputer = SimpleImputer(strategy='mean')"
   ]
  },
  {
   "cell_type": "code",
   "execution_count": 66,
   "id": "eb640c88-6f43-4a94-9d6e-1c025d5885d5",
   "metadata": {},
   "outputs": [
    {
     "data": {
      "text/plain": [
       "SimpleImputer()"
      ]
     },
     "execution_count": 66,
     "metadata": {},
     "output_type": "execute_result"
    }
   ],
   "source": [
    "# Fit on training data\n",
    "imputer.fit(X_train1)"
   ]
  },
  {
   "cell_type": "code",
   "execution_count": 67,
   "id": "b6545536-160f-4f23-9190-eed6070ae651",
   "metadata": {},
   "outputs": [],
   "source": [
    "# Transform training and validation data\n",
    "X_train_imputed1 = pd.DataFrame(imputer.transform(X_train1), columns=X1.columns)\n",
    "X_val_imputed1 = pd.DataFrame(imputer.transform(X_val1), columns=X1.columns)"
   ]
  },
  {
   "cell_type": "code",
   "execution_count": 68,
   "id": "90795fa7-4a8f-428e-8153-7058ab868d5f",
   "metadata": {},
   "outputs": [
    {
     "name": "stdout",
     "output_type": "stream",
     "text": [
      "X_train1 missing:  0\n",
      "X_val1 missing:  0\n"
     ]
    }
   ],
   "source": [
    "print(\"X_train1 missing: \", X_train_imputed1.isna().sum().sum())\n",
    "print('X_val1 missing: ', X_val_imputed1.isna().sum().sum())"
   ]
  },
  {
   "cell_type": "code",
   "execution_count": 69,
   "id": "75a7b53a-7b2a-4f8c-a612-e68290fcc7c7",
   "metadata": {},
   "outputs": [
    {
     "data": {
      "text/plain": [
       "['Rounds',\n",
       " 'Fairway Percentage',\n",
       " 'Avg Distance',\n",
       " 'gir',\n",
       " 'Average Putts',\n",
       " 'Average Scrambling',\n",
       " 'Average Score',\n",
       " 'Average SG Putts',\n",
       " 'Average SG Total',\n",
       " 'SG:OTT',\n",
       " 'SG:APR',\n",
       " 'SG:ARG']"
      ]
     },
     "execution_count": 69,
     "metadata": {},
     "output_type": "execute_result"
    }
   ],
   "source": [
    "num_cols = list(X1.select_dtypes('number').columns)\n",
    "num_cols"
   ]
  },
  {
   "cell_type": "code",
   "execution_count": 70,
   "id": "43de7f91-ce16-4bbb-ab2f-0fe181646423",
   "metadata": {},
   "outputs": [],
   "source": [
    "# initiate random forest model\n",
    "rf = RandomForestClassifier(random_state=2021)"
   ]
  },
  {
   "cell_type": "code",
   "execution_count": 71,
   "id": "c2c0af4f-f0c0-4e6a-8e57-c417812010a6",
   "metadata": {},
   "outputs": [
    {
     "name": "stdout",
     "output_type": "stream",
     "text": [
      "Training accuracy:  1.0\n",
      "Validation accuracy:  0.7848101265822784\n"
     ]
    }
   ],
   "source": [
    "# run through modeling function\n",
    "rf = modeling_function(rf, X_train1, y_train1, X_val1, y_val1)"
   ]
  },
  {
   "cell_type": "code",
   "execution_count": 72,
   "id": "d3692541-b655-43a1-b897-5704fa1009f9",
   "metadata": {},
   "outputs": [],
   "source": [
    "# Create Param Grid \n",
    "param_grid1 = {'n_estimators': [55, 60, 65],\n",
    "                'max_depth': [9, 10, 11, 12, 13],\n",
    "                'min_samples_leaf': [7, 8, 9],\n",
    "                'n_jobs': [-1],\n",
    "                'criterion': ['gini']}"
   ]
  },
  {
   "cell_type": "code",
   "execution_count": 73,
   "id": "62398bb4-fc8f-4beb-88e0-1efdf28f82dc",
   "metadata": {},
   "outputs": [],
   "source": [
    "# Create GridSearchCV\n",
    "rf_gs1 = GridSearchCV(estimator=rf, param_grid=param_grid1, scoring='accuracy')"
   ]
  },
  {
   "cell_type": "code",
   "execution_count": 74,
   "id": "77f75133-6897-4179-b0dc-169756ac44bc",
   "metadata": {},
   "outputs": [
    {
     "data": {
      "text/plain": [
       "GridSearchCV(estimator=RandomForestClassifier(random_state=2021),\n",
       "             param_grid={'criterion': ['gini'],\n",
       "                         'max_depth': [9, 10, 11, 12, 13],\n",
       "                         'min_samples_leaf': [7, 8, 9],\n",
       "                         'n_estimators': [55, 60, 65], 'n_jobs': [-1]},\n",
       "             scoring='accuracy')"
      ]
     },
     "execution_count": 74,
     "metadata": {},
     "output_type": "execute_result"
    }
   ],
   "source": [
    "rf_gs1.fit(X_train, y_train)"
   ]
  },
  {
   "cell_type": "code",
   "execution_count": 75,
   "id": "08cd91cb-47a5-45b2-8538-fbd15730f288",
   "metadata": {},
   "outputs": [],
   "source": [
    "best_model1 = rf_gs1.best_estimator_"
   ]
  },
  {
   "cell_type": "code",
   "execution_count": 76,
   "id": "d73ec60f-8002-43a1-9867-27937306e8d6",
   "metadata": {},
   "outputs": [
    {
     "data": {
      "text/plain": [
       "{'criterion': 'gini',\n",
       " 'max_depth': 9,\n",
       " 'min_samples_leaf': 8,\n",
       " 'n_estimators': 60,\n",
       " 'n_jobs': -1}"
      ]
     },
     "execution_count": 76,
     "metadata": {},
     "output_type": "execute_result"
    }
   ],
   "source": [
    "rf_gs1.best_params_"
   ]
  },
  {
   "cell_type": "code",
   "execution_count": 77,
   "id": "4a3b6535-548b-4114-ac54-adcedbe6579a",
   "metadata": {},
   "outputs": [
    {
     "name": "stdout",
     "output_type": "stream",
     "text": [
      "Training accuracy:  0.8766816143497758\n",
      "Validation accuracy:  0.7974683544303798\n"
     ]
    }
   ],
   "source": [
    "rf1 = modeling_function(rf_gs1, X_train1, y_train1, X_val1, y_val1)"
   ]
  },
  {
   "cell_type": "code",
   "execution_count": 78,
   "id": "0813b9e8-5308-428c-b70b-172042982cad",
   "metadata": {},
   "outputs": [
    {
     "data": {
      "text/plain": [
       "<sklearn.metrics._plot.confusion_matrix.ConfusionMatrixDisplay at 0x7fc3038473d0>"
      ]
     },
     "execution_count": 78,
     "metadata": {},
     "output_type": "execute_result"
    },
    {
     "data": {
      "image/png": "[encoded data removed]",
      "text/plain": [
       "<Figure size 432x288 with 2 Axes>"
      ]
     },
     "metadata": {
      "needs_background": "light"
     },
     "output_type": "display_data"
    }
   ],
   "source": [
    "plot_confusion_matrix(rf1, X_train1, y_train1)"
   ]
  },
  {
   "cell_type": "code",
   "execution_count": 79,
   "id": "71d1b0a6-410c-404f-a4db-883c82569545",
   "metadata": {},
   "outputs": [
    {
     "data": {
      "text/plain": [
       "<AxesSubplot:xlabel='improvement', ylabel='Points'>"
      ]
     },
     "execution_count": 79,
     "metadata": {},
     "output_type": "execute_result"
    },
    {
     "data": {
      "image/png": "[encoded data removed]",
      "text/plain": [
       "<Figure size 432x288 with 1 Axes>"
      ]
     },
     "metadata": {
      "needs_background": "light"
     },
     "output_type": "display_data"
    }
   ],
   "source": [
    "sns.barplot(x=\"improvement\", y=\"Points\", data=player_progression)"
   ]
  },
  {
   "cell_type": "markdown",
   "id": "d2d7a175-d12e-4da4-99b1-c17709ca8301",
   "metadata": {},
   "source": [
    "### Model Test Random Forest "
   ]
  },
  {
   "cell_type": "code",
   "execution_count": 80,
   "id": "ea01772b-1d8e-4325-9abc-5d191851d009",
   "metadata": {},
   "outputs": [],
   "source": [
    "X_test_imputed1 = pd.DataFrame(imputer.transform(X_test1), columns=X1.columns)"
   ]
  },
  {
   "cell_type": "code",
   "execution_count": 81,
   "id": "d4e155ff-524b-40ae-a12f-3d984c692e33",
   "metadata": {},
   "outputs": [],
   "source": [
    "X_test_scaled1 = pd.DataFrame(scaler.transform(X_test_imputed1[num_cols]), columns=num_cols)"
   ]
  },
  {
   "cell_type": "code",
   "execution_count": 82,
   "id": "fba2fbf7-5128-4a31-9aef-d0aadda382e8",
   "metadata": {},
   "outputs": [],
   "source": [
    "test_preds = rf1.predict(X_test_scaled1)"
   ]
  },
  {
   "cell_type": "code",
   "execution_count": 83,
   "id": "7c9cce28-d712-4d2c-b523-a1a139f84678",
   "metadata": {},
   "outputs": [
    {
     "data": {
      "text/plain": [
       "0.7204301075268817"
      ]
     },
     "execution_count": 83,
     "metadata": {},
     "output_type": "execute_result"
    }
   ],
   "source": [
    "accuracy_score(y_test1, test_preds )"
   ]
  },
  {
   "cell_type": "code",
   "execution_count": 84,
   "id": "82297bd9-9a53-4d0d-aa67-23f86b853cbc",
   "metadata": {},
   "outputs": [],
   "source": [
    "player_progression = pd.DataFrame()\n",
    "for player in df['Player Name'].unique():\n",
    "    frame = df[df['Player Name'] == player]\n",
    "    #frame = frame.sort_values(\"Year\")\n",
    "    year = frame.Year\n",
    "    frame = frame.select_dtypes('number').diff()\n",
    "    frame.Year = year\n",
    "    frame['player_name'] = player\n",
    "    player_progression = player_progression.append(frame)\n",
    "player_progression = player_progression.dropna()\n",
    "df1 = player_progression.groupby(by=[\"player_name\"]).mean()\n",
    "df1['positive_money'] = df1['Money'] > 0\n",
    "df1['positive_money'] = df1['positive_money'].astype(int)\n",
    "df1['negative_score'] = df1['Average Score'] < 0\n",
    "df1['negative_score'] = df1['negative_score'].astype(int)\n",
    "df2 = df1[(df1.positive_money == 1) & (df1.negative_score ==1)]\n",
    "df2 = df2.sort_values(by=['Money'], ascending = False)"
   ]
  },
  {
   "cell_type": "markdown",
   "id": "70f15abb-20b4-4445-b2a4-beab9c4d4d1d",
   "metadata": {},
   "source": [
    "### Predicting how much money a player should make"
   ]
  },
  {
   "cell_type": "code",
   "execution_count": 85,
   "id": "56f16613-59be-41ee-8059-0af615567526",
   "metadata": {},
   "outputs": [
    {
     "data": {
      "text/html": [
       "<div>\n",
       "<style scoped>\n",
       "    .dataframe tbody tr th:only-of-type {\n",
       "        vertical-align: middle;\n",
       "    }\n",
       "\n",
       "    .dataframe tbody tr th {\n",
       "        vertical-align: top;\n",
       "    }\n",
       "\n",
       "    .dataframe thead th {\n",
       "        text-align: right;\n",
       "    }\n",
       "</style>\n",
       "<table border=\"1\" class=\"dataframe\">\n",
       "  <thead>\n",
       "    <tr style=\"text-align: right;\">\n",
       "      <th></th>\n",
       "      <th>Player Name</th>\n",
       "      <th>Rounds</th>\n",
       "      <th>Fairway Percentage</th>\n",
       "      <th>Year</th>\n",
       "      <th>Avg Distance</th>\n",
       "      <th>gir</th>\n",
       "      <th>Average Putts</th>\n",
       "      <th>Average Scrambling</th>\n",
       "      <th>Average Score</th>\n",
       "      <th>Points</th>\n",
       "      <th>Wins</th>\n",
       "      <th>Top 10</th>\n",
       "      <th>Average SG Putts</th>\n",
       "      <th>Average SG Total</th>\n",
       "      <th>SG:OTT</th>\n",
       "      <th>SG:APR</th>\n",
       "      <th>SG:ARG</th>\n",
       "      <th>Money</th>\n",
       "    </tr>\n",
       "  </thead>\n",
       "  <tbody>\n",
       "    <tr>\n",
       "      <th>0</th>\n",
       "      <td>Henrik Stenson</td>\n",
       "      <td>60.0</td>\n",
       "      <td>75.19</td>\n",
       "      <td>2018</td>\n",
       "      <td>291.5</td>\n",
       "      <td>73.51</td>\n",
       "      <td>29.93</td>\n",
       "      <td>60.67</td>\n",
       "      <td>69.617</td>\n",
       "      <td>868</td>\n",
       "      <td>NaN</td>\n",
       "      <td>5.0</td>\n",
       "      <td>-0.207</td>\n",
       "      <td>1.153</td>\n",
       "      <td>0.427</td>\n",
       "      <td>0.960</td>\n",
       "      <td>-0.027</td>\n",
       "      <td>$2,680,487</td>\n",
       "    </tr>\n",
       "    <tr>\n",
       "      <th>1</th>\n",
       "      <td>Ryan Armour</td>\n",
       "      <td>109.0</td>\n",
       "      <td>73.58</td>\n",
       "      <td>2018</td>\n",
       "      <td>283.5</td>\n",
       "      <td>68.22</td>\n",
       "      <td>29.31</td>\n",
       "      <td>60.13</td>\n",
       "      <td>70.758</td>\n",
       "      <td>1,006</td>\n",
       "      <td>1.0</td>\n",
       "      <td>3.0</td>\n",
       "      <td>-0.058</td>\n",
       "      <td>0.337</td>\n",
       "      <td>-0.012</td>\n",
       "      <td>0.213</td>\n",
       "      <td>0.194</td>\n",
       "      <td>$2,485,203</td>\n",
       "    </tr>\n",
       "    <tr>\n",
       "      <th>2</th>\n",
       "      <td>Chez Reavie</td>\n",
       "      <td>93.0</td>\n",
       "      <td>72.24</td>\n",
       "      <td>2018</td>\n",
       "      <td>286.5</td>\n",
       "      <td>68.67</td>\n",
       "      <td>29.12</td>\n",
       "      <td>62.27</td>\n",
       "      <td>70.432</td>\n",
       "      <td>1,020</td>\n",
       "      <td>NaN</td>\n",
       "      <td>3.0</td>\n",
       "      <td>0.192</td>\n",
       "      <td>0.674</td>\n",
       "      <td>0.183</td>\n",
       "      <td>0.437</td>\n",
       "      <td>-0.137</td>\n",
       "      <td>$2,700,018</td>\n",
       "    </tr>\n",
       "    <tr>\n",
       "      <th>3</th>\n",
       "      <td>Ryan Moore</td>\n",
       "      <td>78.0</td>\n",
       "      <td>71.94</td>\n",
       "      <td>2018</td>\n",
       "      <td>289.2</td>\n",
       "      <td>68.80</td>\n",
       "      <td>29.17</td>\n",
       "      <td>64.16</td>\n",
       "      <td>70.015</td>\n",
       "      <td>795</td>\n",
       "      <td>NaN</td>\n",
       "      <td>5.0</td>\n",
       "      <td>-0.271</td>\n",
       "      <td>0.941</td>\n",
       "      <td>0.406</td>\n",
       "      <td>0.532</td>\n",
       "      <td>0.273</td>\n",
       "      <td>$1,986,608</td>\n",
       "    </tr>\n",
       "    <tr>\n",
       "      <th>4</th>\n",
       "      <td>Brian Stuard</td>\n",
       "      <td>103.0</td>\n",
       "      <td>71.44</td>\n",
       "      <td>2018</td>\n",
       "      <td>278.9</td>\n",
       "      <td>67.12</td>\n",
       "      <td>29.11</td>\n",
       "      <td>59.23</td>\n",
       "      <td>71.038</td>\n",
       "      <td>421</td>\n",
       "      <td>NaN</td>\n",
       "      <td>3.0</td>\n",
       "      <td>0.164</td>\n",
       "      <td>0.062</td>\n",
       "      <td>-0.227</td>\n",
       "      <td>0.099</td>\n",
       "      <td>0.026</td>\n",
       "      <td>$1,089,763</td>\n",
       "    </tr>\n",
       "  </tbody>\n",
       "</table>\n",
       "</div>"
      ],
      "text/plain": [
       "      Player Name  Rounds  Fairway Percentage  Year  Avg Distance    gir  \\\n",
       "0  Henrik Stenson    60.0               75.19  2018         291.5  73.51   \n",
       "1     Ryan Armour   109.0               73.58  2018         283.5  68.22   \n",
       "2     Chez Reavie    93.0               72.24  2018         286.5  68.67   \n",
       "3      Ryan Moore    78.0               71.94  2018         289.2  68.80   \n",
       "4    Brian Stuard   103.0               71.44  2018         278.9  67.12   \n",
       "\n",
       "   Average Putts  Average Scrambling  Average Score Points  Wins  Top 10  \\\n",
       "0          29.93               60.67         69.617    868   NaN     5.0   \n",
       "1          29.31               60.13         70.758  1,006   1.0     3.0   \n",
       "2          29.12               62.27         70.432  1,020   NaN     3.0   \n",
       "3          29.17               64.16         70.015    795   NaN     5.0   \n",
       "4          29.11               59.23         71.038    421   NaN     3.0   \n",
       "\n",
       "   Average SG Putts  Average SG Total  SG:OTT  SG:APR  SG:ARG       Money  \n",
       "0            -0.207             1.153   0.427   0.960  -0.027  $2,680,487  \n",
       "1            -0.058             0.337  -0.012   0.213   0.194  $2,485,203  \n",
       "2             0.192             0.674   0.183   0.437  -0.137  $2,700,018  \n",
       "3            -0.271             0.941   0.406   0.532   0.273  $1,986,608  \n",
       "4             0.164             0.062  -0.227   0.099   0.026  $1,089,763  "
      ]
     },
     "execution_count": 85,
     "metadata": {},
     "output_type": "execute_result"
    }
   ],
   "source": [
    "# import data\n",
    "df = pd.read_csv('/Users/gabrielwarner/Downloads/pgaTourData.csv')\n",
    "df.head()"
   ]
  },
  {
   "cell_type": "code",
   "execution_count": 86,
   "id": "5fa75ad0-915a-4b32-9ae0-83cf4f3711b1",
   "metadata": {},
   "outputs": [],
   "source": [
    "# Replace NaN with 0 in Top 10 \n",
    "df['Top 10'].fillna(0, inplace=True)\n",
    "df['Top 10'] = df['Top 10'].astype(int)\n",
    "\n",
    "# Replace NaN with 0 in # of wins\n",
    "df['Wins'].fillna(0, inplace=True)\n",
    "df['Wins'] = df['Wins'].astype(int)\n",
    "\n",
    "#Replace any ? with Nan\n",
    "data = df.replace(\"?\", \"np.Nan\")\n",
    "\n",
    "# Drop NaN values \n",
    "df.dropna(axis = 0, inplace=True)\n"
   ]
  },
  {
   "cell_type": "code",
   "execution_count": 87,
   "id": "d231b4cb-61f5-42b0-9a90-fd6ed12f64a8",
   "metadata": {},
   "outputs": [],
   "source": [
    "# Remove the $ and commas in money \n",
    "df['Money'] = df['Money'].apply(lambda x: x.replace('$',''))\n",
    "df['Money'] = df['Money'].apply(lambda x: x.replace(',',''))\n",
    "df['Money'] = df['Money'].astype(float)"
   ]
  },
  {
   "cell_type": "code",
   "execution_count": 88,
   "id": "e7614680-c5f4-4c65-ba18-1b8cf3c23142",
   "metadata": {},
   "outputs": [],
   "source": [
    "# Change Money from float64 to numeric\n",
    "df['Money'] = pd.to_numeric(df.Money, errors='coerce')"
   ]
  },
  {
   "cell_type": "code",
   "execution_count": null,
   "id": "355735a3-54bb-4114-aafd-11816499c20f",
   "metadata": {},
   "outputs": [],
   "source": []
  },
  {
   "cell_type": "code",
   "execution_count": 89,
   "id": "07753ea5-e95d-45e7-960c-7e07cf2804c4",
   "metadata": {},
   "outputs": [],
   "source": [
    "# Seperate Target and Features\n",
    "# Target\n",
    "y = (df.Money > 500000).astype(int)\n",
    "# Features\n",
    "X = df.drop(['Fairway Percentage', 'Average Putts', 'Year', 'SG:APR', 'Average Score', 'Rounds', 'Average SG Putts', 'Player Name', 'Points', 'Wins', 'Top 10', 'SG:OTT', 'SG:ARG', 'Money'], axis=1)"
   ]
  },
  {
   "cell_type": "code",
   "execution_count": 90,
   "id": "29cd38af-9227-4fe2-9324-ac465d71dc01",
   "metadata": {},
   "outputs": [],
   "source": [
    "# Initial Train-Test Split\n",
    "X_tr, X_test, y_tr, y_test = train_test_split(X, y, random_state=2021)"
   ]
  },
  {
   "cell_type": "code",
   "execution_count": 91,
   "id": "bd1e1c5e-b203-4c19-9a69-09ce3b42768f",
   "metadata": {},
   "outputs": [],
   "source": [
    "# Make second split\n",
    "X_train, X_val, y_train, y_val = train_test_split(X_tr, y_tr, test_size=.15, random_state=2021)"
   ]
  },
  {
   "cell_type": "code",
   "execution_count": 92,
   "id": "6a85f332-fe8c-420f-8a06-f7a2ac483b3a",
   "metadata": {},
   "outputs": [],
   "source": [
    "#initiate simple imputer\n",
    "imputer = SimpleImputer(strategy='mean')"
   ]
  },
  {
   "cell_type": "code",
   "execution_count": 93,
   "id": "d21b76db-398c-443e-9267-ba9af260dfa9",
   "metadata": {},
   "outputs": [
    {
     "data": {
      "text/plain": [
       "SimpleImputer()"
      ]
     },
     "execution_count": 93,
     "metadata": {},
     "output_type": "execute_result"
    }
   ],
   "source": [
    "# fit to training data\n",
    "imputer.fit(X_train)"
   ]
  },
  {
   "cell_type": "code",
   "execution_count": 94,
   "id": "dbf03313-9a11-4f54-895d-7b5c1b561fc5",
   "metadata": {},
   "outputs": [],
   "source": [
    "# Convert X_train_imputed and X_val_imputed to a data frame\n",
    "X_train_imputed = pd.DataFrame(imputer.transform(X_train), columns=X.columns)\n",
    "X_val_imputed = pd.DataFrame(imputer.transform(X_val), columns=X.columns)"
   ]
  },
  {
   "cell_type": "code",
   "execution_count": 95,
   "id": "c2df934d-a2e5-4191-8868-5c6e483530a8",
   "metadata": {},
   "outputs": [
    {
     "name": "stdout",
     "output_type": "stream",
     "text": [
      "X_train missing:  0\n",
      "X_val missing:  0\n"
     ]
    }
   ],
   "source": [
    "# Check for missing values\n",
    "print(\"X_train missing: \", X_train_imputed.isna().sum().sum())\n",
    "print('X_val missing: ', X_val_imputed.isna().sum().sum())"
   ]
  },
  {
   "cell_type": "code",
   "execution_count": 96,
   "id": "2cd256aa-0cb4-4559-86f6-0194956381f9",
   "metadata": {},
   "outputs": [
    {
     "data": {
      "text/plain": [
       "['Avg Distance', 'gir', 'Average Scrambling', 'Average SG Total']"
      ]
     },
     "execution_count": 96,
     "metadata": {},
     "output_type": "execute_result"
    }
   ],
   "source": [
    "# Make DF with numeric columns\n",
    "num_cols = list(X.select_dtypes('number').columns)\n",
    "num_cols"
   ]
  },
  {
   "cell_type": "code",
   "execution_count": 97,
   "id": "5444512c-66c5-41b0-bedc-4637c6994646",
   "metadata": {},
   "outputs": [],
   "source": [
    "# Instantiate StandardScaler\n",
    "scaler = StandardScaler()"
   ]
  },
  {
   "cell_type": "code",
   "execution_count": 98,
   "id": "93c9e5ce-348f-42e8-8356-5d29a9b13d90",
   "metadata": {},
   "outputs": [
    {
     "data": {
      "text/plain": [
       "StandardScaler()"
      ]
     },
     "execution_count": 98,
     "metadata": {},
     "output_type": "execute_result"
    }
   ],
   "source": [
    "# fit on Imputed training data\n",
    "scaler.fit(X_train_imputed)"
   ]
  },
  {
   "cell_type": "code",
   "execution_count": 99,
   "id": "7fbd8d42-db29-425c-a459-36ace895bdeb",
   "metadata": {},
   "outputs": [],
   "source": [
    "# transform training and validation data\n",
    "X_train_scaled = pd.DataFrame(scaler.transform(X_train_imputed))\n",
    "X_val_scaled = pd.DataFrame(scaler.transform(X_val_imputed))"
   ]
  },
  {
   "cell_type": "markdown",
   "id": "3b76046c-a6a2-4eb2-8c7b-abf1678d1bc5",
   "metadata": {},
   "source": [
    "### Logistic Regression (Money)"
   ]
  },
  {
   "cell_type": "code",
   "execution_count": 100,
   "id": "953bd463-e476-4f22-a336-1de5d7ae98f1",
   "metadata": {},
   "outputs": [],
   "source": [
    "lr = LogisticRegression()"
   ]
  },
  {
   "cell_type": "code",
   "execution_count": 101,
   "id": "0a5074b1-1b42-4d91-8e7a-caa6570bece4",
   "metadata": {},
   "outputs": [
    {
     "name": "stdout",
     "output_type": "stream",
     "text": [
      "Training accuracy:  0.8583489681050657\n",
      "Validation accuracy:  0.8941798941798942\n"
     ]
    }
   ],
   "source": [
    "# Call modeling function and pass through training and validation data\n",
    "dt = modeling_function(lr, X_train_scaled, y_train, X_val_scaled , y_val)"
   ]
  },
  {
   "cell_type": "markdown",
   "id": "9c70d671-4964-4f1e-bc15-f0ae94fdb141",
   "metadata": {},
   "source": [
    "#### Scoring"
   ]
  },
  {
   "cell_type": "code",
   "execution_count": 102,
   "id": "b965c3cf-fc0c-46b9-bd0b-decbe3d01887",
   "metadata": {},
   "outputs": [],
   "source": [
    "# import recall score\n",
    "from sklearn.metrics import recall_score\n",
    "from sklearn.metrics import precision_score"
   ]
  },
  {
   "cell_type": "code",
   "execution_count": 103,
   "id": "ee92e5fc-2245-4b6e-bb74-4c2ffbcc2633",
   "metadata": {},
   "outputs": [],
   "source": [
    "# fit model on training data\n",
    "lr.fit(X_train_scaled, y_train)\n",
    "\n",
    "    # make predictions on training and validation data\n",
    "train_preds = lr.predict(X_train_scaled)\n",
    "val_preds = lr.predict(X_val_scaled)\n",
    "# get recall score\n",
    "lr_recall_score_train = recall_score(y_train, train_preds)\n",
    "lr_recall_score_val = recall_score(y_val, val_preds)\n",
    "# get accuracy score\n",
    "lr_accuracy_score_train = accuracy_score(y_train, train_preds)\n",
    "lr_accuracy_score_val = accuracy_score(y_val, val_preds)\n",
    "\n",
    "# get precission score\n",
    "lr_precision_score_train = precision_score(y_train, train_preds)\n",
    "lr_precision_score_val = precision_score(y_val, val_preds)"
   ]
  },
  {
   "cell_type": "code",
   "execution_count": 104,
   "id": "a703d40d-717f-4cc7-ac79-4886c1995130",
   "metadata": {},
   "outputs": [
    {
     "data": {
      "text/plain": [
       "dtype('float64')"
      ]
     },
     "execution_count": 104,
     "metadata": {},
     "output_type": "execute_result"
    }
   ],
   "source": [
    "# check the data type\n",
    "lr_recall_score_train.dtype"
   ]
  },
  {
   "cell_type": "markdown",
   "id": "f4b617bc-53a0-4188-b49e-d2731a89e26a",
   "metadata": {},
   "source": [
    "### Logistic regression with SMOTE"
   ]
  },
  {
   "cell_type": "code",
   "execution_count": 105,
   "id": "69c3a013-900d-4d2a-8bd3-36845e079a1d",
   "metadata": {},
   "outputs": [
    {
     "data": {
      "text/plain": [
       "1    1308\n",
       "0     366\n",
       "Name: Money, dtype: int64"
      ]
     },
     "execution_count": 105,
     "metadata": {},
     "output_type": "execute_result"
    }
   ],
   "source": [
    "# look for class imbalence\n",
    "y.value_counts()"
   ]
  },
  {
   "cell_type": "code",
   "execution_count": 106,
   "id": "ddc9b404-8f51-4b06-92b9-174133166c6f",
   "metadata": {},
   "outputs": [],
   "source": [
    "# import SMOTE\n",
    "from imblearn.over_sampling import SMOTE"
   ]
  },
  {
   "cell_type": "code",
   "execution_count": 107,
   "id": "b1e51161-ed8a-4e85-9ccb-ca49cc9eea8a",
   "metadata": {},
   "outputs": [],
   "source": [
    "# initiate model\n",
    "sm = SMOTE(random_state=2021)"
   ]
  },
  {
   "cell_type": "code",
   "execution_count": 108,
   "id": "72a0c074-c0d8-46f0-bd4d-25d84ca31286",
   "metadata": {},
   "outputs": [],
   "source": [
    "# resample train for X and Y\n",
    "X_train_res, y_train_res = sm.fit_resample(X_train_scaled, y_train)"
   ]
  },
  {
   "cell_type": "code",
   "execution_count": 109,
   "id": "ed4dd7b1-e164-43ed-bdfb-25a3d7bffd32",
   "metadata": {},
   "outputs": [
    {
     "data": {
      "text/plain": [
       "1    837\n",
       "0    837\n",
       "Name: Money, dtype: int64"
      ]
     },
     "execution_count": 109,
     "metadata": {},
     "output_type": "execute_result"
    }
   ],
   "source": [
    "# check for class imbalence\n",
    "y_train_res.value_counts()"
   ]
  },
  {
   "cell_type": "code",
   "execution_count": 110,
   "id": "3495ab46-52b5-4254-a874-480326975e00",
   "metadata": {},
   "outputs": [],
   "source": [
    "# initiate logistic regression model\n",
    "logreg2 = LogisticRegression(random_state=42, C=0.5, max_iter=1000)"
   ]
  },
  {
   "cell_type": "code",
   "execution_count": 111,
   "id": "f2ee8f2f-b655-4ef4-8223-a3f139f98e69",
   "metadata": {},
   "outputs": [
    {
     "name": "stdout",
     "output_type": "stream",
     "text": [
      "Training accuracy:  0.8555347091932458\n",
      "Validation accuracy:  0.8888888888888888\n"
     ]
    }
   ],
   "source": [
    "# pass through modeling function\n",
    "logreg_smote = modeling_function(logreg2, X_train_scaled, y_train, X_val_scaled , y_val)"
   ]
  },
  {
   "cell_type": "code",
   "execution_count": 112,
   "id": "8d85469e-9bbe-405f-880b-bff2b70deafd",
   "metadata": {},
   "outputs": [],
   "source": [
    "# import confusion matrix \n",
    "from sklearn.metrics import plot_confusion_matrix"
   ]
  },
  {
   "cell_type": "code",
   "execution_count": 113,
   "id": "71f4218c-255d-4c8f-8734-d96b6b4caf50",
   "metadata": {},
   "outputs": [
    {
     "data": {
      "text/plain": [
       "<sklearn.metrics._plot.confusion_matrix.ConfusionMatrixDisplay at 0x7fc305085670>"
      ]
     },
     "execution_count": 113,
     "metadata": {},
     "output_type": "execute_result"
    },
    {
     "data": {
      "image/png": "[encoded data removed]",
      "text/plain": [
       "<Figure size 432x288 with 2 Axes>"
      ]
     },
     "metadata": {
      "needs_background": "light"
     },
     "output_type": "display_data"
    }
   ],
   "source": [
    "plot_confusion_matrix(logreg_smote, X_val_scaled, y_val)"
   ]
  },
  {
   "cell_type": "markdown",
   "id": "ca89a7ee-a53e-4d38-b7ab-b19ccb333ec0",
   "metadata": {},
   "source": [
    "#### Scoring"
   ]
  },
  {
   "cell_type": "code",
   "execution_count": 114,
   "id": "23b6f74b-7e5e-4d8d-96d8-d3c31e3530bf",
   "metadata": {},
   "outputs": [],
   "source": [
    "# fit model on training data\n",
    "logreg2.fit(X_train_scaled, y_train)\n",
    "\n",
    "    # make predictions on training and validation data\n",
    "train_preds = logreg2.predict(X_train_scaled)\n",
    "val_preds = logreg2.predict(X_val_scaled)\n",
    "# get recall score\n",
    "logreg2_recall_score_train = recall_score(y_train, train_preds)\n",
    "logreg2_recall_score_val = recall_score(y_val, val_preds)\n",
    "# get accuracy score\n",
    "logreg2_accuracy_score_train = accuracy_score(y_train, train_preds)\n",
    "logreg2_accuracy_score_val = accuracy_score(y_val, val_preds)\n",
    "# get precision score\n",
    "logreg2_precision_score_train = precision_score(y_train, train_preds)\n",
    "logreg2_precision_score_val = precision_score(y_val, val_preds)"
   ]
  },
  {
   "cell_type": "markdown",
   "id": "9de695a5-d37b-4a48-8150-3d3711f92cc4",
   "metadata": {},
   "source": [
    "### KNN"
   ]
  },
  {
   "cell_type": "code",
   "execution_count": 115,
   "id": "4c77d377-76e6-485d-bdf0-0359f3d8dbef",
   "metadata": {},
   "outputs": [
    {
     "name": "stdout",
     "output_type": "stream",
     "text": [
      "Training accuracy:  0.899624765478424\n",
      "Validation accuracy:  0.873015873015873\n"
     ]
    }
   ],
   "source": [
    "#import KNN Neighbors Classifier\n",
    "from sklearn.neighbors import KNeighborsClassifier, KNeighborsRegressor\n",
    "# Initiate model\n",
    "knn = KNeighborsClassifier(3)\n",
    "# Run through modeling function\n",
    "knn_model = modeling_function(knn, X_train_scaled, y_train, X_val_scaled , y_val)"
   ]
  },
  {
   "cell_type": "markdown",
   "id": "9a43d6ad-ff32-4824-a230-c1428fc30db2",
   "metadata": {},
   "source": [
    "#### Scoring"
   ]
  },
  {
   "cell_type": "code",
   "execution_count": 116,
   "id": "99674e4a-8af3-4001-9ad1-e8f6f783640c",
   "metadata": {},
   "outputs": [],
   "source": [
    "# fit model on training data\n",
    "knn.fit(X_train_scaled, y_train)\n",
    "\n",
    "    # make predictions on training and validation data\n",
    "train_preds = knn.predict(X_train_scaled)\n",
    "val_preds = knn.predict(X_val_scaled)\n",
    "# get recall score\n",
    "knn_recall_score_train = recall_score(y_train, train_preds)\n",
    "knn_recall_score_val = recall_score(y_val, val_preds)\n",
    "# get accuracy score\n",
    "knn_accuracy_score_train = accuracy_score(y_train, train_preds)\n",
    "knn_accuracy_score_val = accuracy_score(y_val, val_preds)\n",
    "\n",
    "# get precision score\n",
    "knn_precision_score_train = precision_score(y_train, train_preds)\n",
    "knn_precision_score_val = precision_score(y_val, val_preds)"
   ]
  },
  {
   "cell_type": "markdown",
   "id": "0b439cbe-4528-460e-8a6f-2f130bdf98c0",
   "metadata": {},
   "source": [
    "### Decision tree"
   ]
  },
  {
   "cell_type": "code",
   "execution_count": 117,
   "id": "6420d802-39b2-4b71-a379-b9e23668ee94",
   "metadata": {},
   "outputs": [],
   "source": [
    "# Initiate Decision Tree\n",
    "dt = DecisionTreeClassifier(random_state=2021)"
   ]
  },
  {
   "cell_type": "code",
   "execution_count": 118,
   "id": "a069d955-3b57-4d84-a1f3-617e3c8bd1a8",
   "metadata": {},
   "outputs": [
    {
     "name": "stdout",
     "output_type": "stream",
     "text": [
      "Training accuracy:  1.0\n",
      "Validation accuracy:  0.8359788359788359\n"
     ]
    }
   ],
   "source": [
    "# Call modeling function and pass through training and validation data\n",
    "dt = modeling_function(dt, X_train_scaled, y_train, X_val_scaled , y_val)"
   ]
  },
  {
   "cell_type": "markdown",
   "id": "576fa657-b759-44f7-9398-3450029b415e",
   "metadata": {},
   "source": [
    "#### Scoring"
   ]
  },
  {
   "cell_type": "code",
   "execution_count": 119,
   "id": "c899f889-ff83-4f88-8be3-87ebae6c9838",
   "metadata": {},
   "outputs": [],
   "source": [
    "# fit model on training data\n",
    "dt.fit(X_train_scaled, y_train)\n",
    "\n",
    "    # make predictions on training and validation data\n",
    "train_preds = dt.predict(X_train_scaled)\n",
    "val_preds = dt.predict(X_val_scaled)\n",
    "# get recall score\n",
    "dt_recall_score_train = recall_score(y_train, train_preds)\n",
    "dt_recall_score_val = recall_score(y_val, val_preds)\n",
    "# get accuracy score\n",
    "dt_accuracy_score_train = accuracy_score(y_train, train_preds)\n",
    "dt_accuracy_score_val = accuracy_score(y_val, val_preds)\n",
    "\n",
    "# get precision score\n",
    "dt_precision_score_train = precision_score(y_train, train_preds)\n",
    "dt_precision_score_val = precision_score(y_val, val_preds)"
   ]
  },
  {
   "cell_type": "markdown",
   "id": "1d24bf11-0343-494a-a22d-7119f9dd453e",
   "metadata": {},
   "source": [
    "### XG Boost"
   ]
  },
  {
   "cell_type": "code",
   "execution_count": 120,
   "id": "ef89c66a-5098-4ee3-b6f8-351c8ddb4bd3",
   "metadata": {},
   "outputs": [],
   "source": [
    "# Import xgboost\n",
    "from xgboost import XGBClassifier"
   ]
  },
  {
   "cell_type": "code",
   "execution_count": 121,
   "id": "1c1df7de-c73c-4882-94ff-cf3b6f2aea95",
   "metadata": {},
   "outputs": [],
   "source": [
    "# Initiate XGB\n",
    "clf = XGBClassifier()"
   ]
  },
  {
   "cell_type": "code",
   "execution_count": 122,
   "id": "a5038228-70f3-4ef9-8bba-a17d12baa93b",
   "metadata": {},
   "outputs": [
    {
     "data": {
      "text/plain": [
       "XGBClassifier(base_score=0.5, booster='gbtree', colsample_bylevel=1,\n",
       "              colsample_bynode=1, colsample_bytree=1, gamma=0, gpu_id=-1,\n",
       "              importance_type='gain', interaction_constraints='',\n",
       "              learning_rate=0.300000012, max_delta_step=0, max_depth=6,\n",
       "              min_child_weight=1, missing=nan, monotone_constraints='()',\n",
       "              n_estimators=100, n_jobs=0, num_parallel_tree=1, random_state=0,\n",
       "              reg_alpha=0, reg_lambda=1, scale_pos_weight=1, subsample=1,\n",
       "              tree_method='exact', validate_parameters=1, verbosity=None)"
      ]
     },
     "execution_count": 122,
     "metadata": {},
     "output_type": "execute_result"
    }
   ],
   "source": [
    "# Fit training data\n",
    "clf.fit(X_train_scaled, y_train)"
   ]
  },
  {
   "cell_type": "code",
   "execution_count": 123,
   "id": "cd6092f2-26ec-4801-ac74-a951225d92a9",
   "metadata": {},
   "outputs": [],
   "source": [
    "# Run model on training and validation data\n",
    "training_preds = clf.predict(X_train_scaled)\n",
    "test_preds = clf.predict(X_val_scaled)"
   ]
  },
  {
   "cell_type": "code",
   "execution_count": 124,
   "id": "df120f24-8ddc-41ba-be7e-b2cdfb94a193",
   "metadata": {},
   "outputs": [],
   "source": [
    "# Get training and testing acuracy\n",
    "training_accuracy = accuracy_score(y_train, training_preds)\n",
    "test_accuracy = accuracy_score(y_val, test_preds)"
   ]
  },
  {
   "cell_type": "code",
   "execution_count": 125,
   "id": "1d750d55-5649-480f-b89c-d590a8270068",
   "metadata": {},
   "outputs": [
    {
     "name": "stdout",
     "output_type": "stream",
     "text": [
      "Training Accuracy: 100.0%\n",
      "Validation accuracy: 86.77%\n"
     ]
    }
   ],
   "source": [
    "print('Training Accuracy: {:.4}%'.format(training_accuracy * 100))\n",
    "print('Validation accuracy: {:.4}%'.format(test_accuracy * 100))"
   ]
  },
  {
   "cell_type": "markdown",
   "id": "5f8182ae-7583-4202-82da-47131cd41bf3",
   "metadata": {},
   "source": [
    "#### Scoring"
   ]
  },
  {
   "cell_type": "code",
   "execution_count": 126,
   "id": "6229a9d8-bb85-435f-a87d-74c253b42bce",
   "metadata": {},
   "outputs": [
    {
     "name": "stdout",
     "output_type": "stream",
     "text": [
      "\n",
      "Training Recall: 100.0%\n",
      "Validation Recall: 95.3%\n"
     ]
    }
   ],
   "source": [
    "# fit model on training data\n",
    "clf.fit(X_train_scaled, y_train)\n",
    "\n",
    "    # make predictions on training and validation data\n",
    "train_preds = clf.predict(X_train_scaled)\n",
    "val_preds = clf.predict(X_val_scaled)\n",
    "# get recall score\n",
    "clf_recall_score_train = recall_score(y_train, train_preds)\n",
    "clf_recall_score_val = recall_score(y_val, val_preds)\n",
    "# get accuracy score\n",
    "clf_accuracy_score_train = accuracy_score(y_train, train_preds)\n",
    "clf_accuracy_score_val = accuracy_score(y_val, val_preds)\n",
    "# get precision score\n",
    "clf_precision_score_train = precision_score(y_train, train_preds)\n",
    "clf_precision_score_val = precision_score(y_val, val_preds)\n",
    "\n",
    "print('')\n",
    "print('Training Recall: {:.4}%'.format(clf_recall_score_train * 100))\n",
    "print('Validation Recall: {:.4}%'.format(clf_recall_score_val * 100))"
   ]
  },
  {
   "cell_type": "markdown",
   "id": "5f488fc6-d40e-4280-bbea-2becb65d88c2",
   "metadata": {},
   "source": [
    "### XG Boost tuning"
   ]
  },
  {
   "cell_type": "code",
   "execution_count": 127,
   "id": "8f4a8225-f2d3-4450-804c-4fb2768af2fa",
   "metadata": {},
   "outputs": [],
   "source": [
    "# Create paramiter grid to do hyperperamiter tuning\n",
    "param_grid = {\n",
    "    'learning_rate': [0.04, 0.05, 0.1],\n",
    "    'max_depth': [7],\n",
    "    'min_child_weight': [1, 2.5],\n",
    "    'subsample': [0.5, 0.6, 0.7],\n",
    "    'n_estimators': [225, 250, 275],\n",
    "}"
   ]
  },
  {
   "cell_type": "code",
   "execution_count": 128,
   "id": "d6c528e5-78b8-4d42-b88a-f16a81c2d5d3",
   "metadata": {},
   "outputs": [
    {
     "name": "stdout",
     "output_type": "stream",
     "text": [
      "Grid Search found the following optimal parameters: \n",
      "learning_rate: 0.05\n",
      "max_depth: 7\n",
      "min_child_weight: 1\n",
      "n_estimators: 250\n",
      "subsample: 0.7\n",
      "\n",
      "Training Accuracy: 99.62%\n",
      "Validation accuracy: 88.89%\n"
     ]
    }
   ],
   "source": [
    "# Initiate grid search\n",
    "grid_clf = GridSearchCV(clf, param_grid, scoring='accuracy', cv=None, n_jobs=1)\n",
    "# Fit to training data\n",
    "grid_clf.fit(X_train_scaled, y_train)\n",
    "# Get the best parameters\n",
    "best_parameters = grid_clf.best_params_\n",
    "\n",
    "print('Grid Search found the following optimal parameters: ')\n",
    "for param_name in sorted(best_parameters.keys()):\n",
    "    print('%s: %r' % (param_name, best_parameters[param_name]))\n",
    "# Run model through training and validation data\n",
    "training_preds = grid_clf.predict(X_train_scaled)\n",
    "test_preds = grid_clf.predict(X_val_scaled)\n",
    "# Calculate training and test accuracy for model\n",
    "training_accuracy = accuracy_score(y_train, training_preds)\n",
    "test_accuracy = accuracy_score(y_val, test_preds)\n",
    "\n",
    "print('')\n",
    "print('Training Accuracy: {:.4}%'.format(training_accuracy * 100))\n",
    "print('Validation accuracy: {:.4}%'.format(test_accuracy * 100))"
   ]
  },
  {
   "cell_type": "markdown",
   "id": "86cc6196-c487-4523-a726-d26d382bcf7e",
   "metadata": {},
   "source": [
    "#### Scoring"
   ]
  },
  {
   "cell_type": "code",
   "execution_count": 129,
   "id": "5120e691-2c9a-4a30-a621-8930511f355b",
   "metadata": {},
   "outputs": [
    {
     "name": "stdout",
     "output_type": "stream",
     "text": [
      "\n",
      "Training Recall: 100.0%\n",
      "Validation Recall: 96.64%\n"
     ]
    }
   ],
   "source": [
    "# fit model on training data\n",
    "grid_clf.fit(X_train_scaled, y_train)\n",
    "\n",
    "    # make predictions on training and validation data\n",
    "train_preds = grid_clf.predict(X_train_scaled)\n",
    "val_preds = grid_clf.predict(X_val_scaled)\n",
    "# get recall score\n",
    "grid_clf_recall_score_train = recall_score(y_train, train_preds)\n",
    "grid_clf_recall_score_val = recall_score(y_val, val_preds)\n",
    "# get accuracy score\n",
    "grid_clf_accuracy_score_train = accuracy_score(y_train, train_preds)\n",
    "grid_clf_accuracy_score_val = accuracy_score(y_val, val_preds)\n",
    "# get precision score\n",
    "grid_clf_precision_score_train = precision_score(y_train, train_preds)\n",
    "grid_clf_precision_score_val = precision_score(y_val, val_preds)\n",
    "\n",
    "print('')\n",
    "print('Training Recall: {:.4}%'.format(grid_clf_recall_score_train * 100))\n",
    "print('Validation Recall: {:.4}%'.format(grid_clf_recall_score_val * 100))"
   ]
  },
  {
   "cell_type": "markdown",
   "id": "025463c7-4496-45eb-bed1-d111d6cb4e18",
   "metadata": {},
   "source": [
    "### Support Vector Machine"
   ]
  },
  {
   "cell_type": "code",
   "execution_count": 130,
   "id": "178446c8-f4e4-488e-9a85-a7bbf40a25d6",
   "metadata": {},
   "outputs": [],
   "source": [
    "from sklearn.svm import SVC"
   ]
  },
  {
   "cell_type": "code",
   "execution_count": 131,
   "id": "cff4555c-0646-4b16-8486-62aff0c1badc",
   "metadata": {},
   "outputs": [
    {
     "data": {
      "text/plain": [
       "XGBClassifier(base_score=0.5, booster='gbtree', colsample_bylevel=1,\n",
       "              colsample_bynode=1, colsample_bytree=1, gamma=0, gpu_id=-1,\n",
       "              importance_type='gain', interaction_constraints='',\n",
       "              learning_rate=0.300000012, max_delta_step=0, max_depth=6,\n",
       "              min_child_weight=1, missing=nan, monotone_constraints='()',\n",
       "              n_estimators=100, n_jobs=0, num_parallel_tree=1, random_state=0,\n",
       "              reg_alpha=0, reg_lambda=1, scale_pos_weight=1, subsample=1,\n",
       "              tree_method='exact', validate_parameters=1, verbosity=None)"
      ]
     },
     "execution_count": 131,
     "metadata": {},
     "output_type": "execute_result"
    }
   ],
   "source": [
    "#poly kernel must pass in degree \n",
    "svm = SVC(kernel='poly', degree=3)\n",
    "clf.fit(X_train_scaled, y_train)"
   ]
  },
  {
   "cell_type": "code",
   "execution_count": 132,
   "id": "d3c74c30-403e-4671-8b0b-b086445f5e39",
   "metadata": {},
   "outputs": [],
   "source": [
    "y_pred = clf.predict(X_val_scaled)"
   ]
  },
  {
   "cell_type": "code",
   "execution_count": 133,
   "id": "0a546360-f3f1-4cd7-833b-2514d859feb3",
   "metadata": {},
   "outputs": [
    {
     "name": "stdout",
     "output_type": "stream",
     "text": [
      "Training accuracy:  1.0\n",
      "Validation accuracy:  0.8677248677248677\n"
     ]
    }
   ],
   "source": [
    "# Call modeling function and pass through training and validation data\n",
    "svm = modeling_function(clf, X_train_scaled, y_train, X_val_scaled , y_val)"
   ]
  },
  {
   "cell_type": "markdown",
   "id": "749c7d81-823f-4630-b7d4-c35f2e38d0d7",
   "metadata": {},
   "source": [
    "#### Scoring"
   ]
  },
  {
   "cell_type": "code",
   "execution_count": 134,
   "id": "c7d99469-b9b8-471c-ae45-0ca094370b52",
   "metadata": {},
   "outputs": [
    {
     "name": "stdout",
     "output_type": "stream",
     "text": [
      "\n",
      "Training Recall: 100.0%\n",
      "Validation Recall: 95.3%\n"
     ]
    }
   ],
   "source": [
    "# fit model on training data\n",
    "svm.fit(X_train_scaled, y_train)\n",
    "\n",
    "    # make predictions on training and validation data\n",
    "train_preds = svm.predict(X_train_scaled)\n",
    "val_preds = svm.predict(X_val_scaled)\n",
    "# get recall score\n",
    "svm_recall_score_train = recall_score(y_train, train_preds)\n",
    "svm_recall_score_val = recall_score(y_val, val_preds)\n",
    "# get accuracy score\n",
    "svm_accuracy_score_train = accuracy_score(y_train, train_preds)\n",
    "svm_accuracy_score_val = accuracy_score(y_val, val_preds)\n",
    "# get precision score\n",
    "svm_precision_score_train = precision_score(y_train, train_preds)\n",
    "svm_precision_score_val = precision_score(y_val, val_preds)\n",
    "print('')\n",
    "print('Training Recall: {:.4}%'.format(svm_recall_score_train * 100))\n",
    "print('Validation Recall: {:.4}%'.format(svm_recall_score_val * 100))"
   ]
  },
  {
   "cell_type": "markdown",
   "id": "2b2fe868-088d-4121-93c7-908dbe974edc",
   "metadata": {},
   "source": [
    "### Best Model (KNN)"
   ]
  },
  {
   "cell_type": "code",
   "execution_count": 135,
   "id": "c722dc75-e060-4490-a35c-3279ab8763f5",
   "metadata": {},
   "outputs": [],
   "source": [
    "# Create data frame for X_test\n",
    "X_test_imputed = pd.DataFrame(imputer.transform(X_test), columns=X.columns)"
   ]
  },
  {
   "cell_type": "code",
   "execution_count": 136,
   "id": "cbae8044-660a-45da-9e7a-ee4ece34aa34",
   "metadata": {},
   "outputs": [],
   "source": [
    "# Scale testing data\n",
    "X_test_scaled = pd.DataFrame(scaler.transform(X_test_imputed))"
   ]
  },
  {
   "cell_type": "code",
   "execution_count": 137,
   "id": "f78fdf51-61f7-45d8-832e-c40db96fa761",
   "metadata": {},
   "outputs": [],
   "source": [
    "# Run testing data through model\n",
    "test_preds = knn.predict(X_test_scaled)"
   ]
  },
  {
   "cell_type": "code",
   "execution_count": 138,
   "id": "09824c1a-7035-434c-945d-8a973d98cde7",
   "metadata": {},
   "outputs": [
    {
     "data": {
      "text/plain": [
       "0.8210023866348448"
      ]
     },
     "execution_count": 138,
     "metadata": {},
     "output_type": "execute_result"
    }
   ],
   "source": [
    "# Get the accuracy score\n",
    "accuracy_score(y_test, test_preds)"
   ]
  },
  {
   "cell_type": "code",
   "execution_count": 139,
   "id": "f689c40a-f3a1-4160-af28-3236fa84cedd",
   "metadata": {},
   "outputs": [
    {
     "data": {
      "text/plain": [
       "0.8975155279503105"
      ]
     },
     "execution_count": 139,
     "metadata": {},
     "output_type": "execute_result"
    }
   ],
   "source": [
    "recall_score(y_test, test_preds)"
   ]
  },
  {
   "cell_type": "code",
   "execution_count": 140,
   "id": "88f93750-99f1-4520-a259-4e808a547e78",
   "metadata": {},
   "outputs": [
    {
     "data": {
      "text/plain": [
       "0.8731117824773413"
      ]
     },
     "execution_count": 140,
     "metadata": {},
     "output_type": "execute_result"
    }
   ],
   "source": [
    "precision_score(y_test, test_preds)"
   ]
  },
  {
   "cell_type": "code",
   "execution_count": 141,
   "id": "4247a173-6548-427f-adaa-38b3b77162b7",
   "metadata": {},
   "outputs": [
    {
     "data": {
      "text/plain": [
       "<sklearn.metrics._plot.confusion_matrix.ConfusionMatrixDisplay at 0x7fc303b3bbb0>"
      ]
     },
     "execution_count": 141,
     "metadata": {},
     "output_type": "execute_result"
    },
    {
     "data": {
      "image/png": "[encoded data removed]",
      "text/plain": [
       "<Figure size 432x288 with 2 Axes>"
      ]
     },
     "metadata": {
      "needs_background": "light"
     },
     "output_type": "display_data"
    }
   ],
   "source": [
    "plot_confusion_matrix(grid_clf, X_val_scaled, y_val)"
   ]
  },
  {
   "cell_type": "code",
   "execution_count": null,
   "id": "da459753-94a7-42c1-96c7-4abfb097545d",
   "metadata": {},
   "outputs": [],
   "source": []
  }
 ],
 "metadata": {
  "kernelspec": {
   "display_name": "Python 3",
   "language": "python",
   "name": "python3"
  },
  "language_info": {
   "codemirror_mode": {
    "name": "ipython",
    "version": 3
   },
   "file_extension": ".py",
   "mimetype": "text/x-python",
   "name": "python",
   "nbconvert_exporter": "python",
   "pygments_lexer": "ipython3",
   "version": "3.8.5"
  }
 },
 "nbformat": 4,
 "nbformat_minor": 5
}
